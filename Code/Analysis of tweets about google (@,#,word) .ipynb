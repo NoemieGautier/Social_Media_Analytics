{
 "cells": [
  {
   "cell_type": "markdown",
   "metadata": {},
   "source": [
    "# Social Media Analytics - Group Project "
   ]
  },
  {
   "cell_type": "markdown",
   "metadata": {},
   "source": [
    "###### Group 5: Salma BARKETALLAH, Ndjaidoukmi KEDA, Noémie GAUTIER"
   ]
  },
  {
   "cell_type": "markdown",
   "metadata": {},
   "source": [
    "Company: Google"
   ]
  },
  {
   "cell_type": "markdown",
   "metadata": {},
   "source": [
    "                  In this notebook, tweets mentionning google will be analyzed (this contains @, #, and direct mentions)"
   ]
  },
  {
   "cell_type": "code",
   "execution_count": 1,
   "metadata": {},
   "outputs": [],
   "source": [
    "options(warnings = -1)"
   ]
  },
  {
   "cell_type": "code",
   "execution_count": 2,
   "metadata": {},
   "outputs": [],
   "source": [
    "# Getting tokens from the doc created:\n",
    "source(\"tokens.R\")"
   ]
  },
  {
   "cell_type": "markdown",
   "metadata": {},
   "source": [
    "###  Loading the required packages "
   ]
  },
  {
   "cell_type": "code",
   "execution_count": 1,
   "metadata": {},
   "outputs": [
    {
     "name": "stderr",
     "output_type": "stream",
     "text": [
      "Loading required package: rtweet\n",
      "Warning message:\n",
      "\"package 'rtweet' was built under R version 3.6.3\"Loading required package: topicmodels\n",
      "Warning message:\n",
      "\"package 'topicmodels' was built under R version 3.6.3\"Loading required package: ggplot2\n",
      "Warning message:\n",
      "\"package 'ggplot2' was built under R version 3.6.3\"Loading required package: readr\n",
      "Warning message:\n",
      "\"package 'readr' was built under R version 3.6.3\"Loading required package: SnowballC\n",
      "Warning message:\n",
      "\"package 'SnowballC' was built under R version 3.6.3\"Loading required package: slam\n",
      "Warning message:\n",
      "\"package 'slam' was built under R version 3.6.3\"Loading required package: tm\n",
      "Warning message:\n",
      "\"package 'tm' was built under R version 3.6.3\"Loading required package: NLP\n",
      "Warning message:\n",
      "\"package 'NLP' was built under R version 3.6.3\"\n",
      "Attaching package: 'NLP'\n",
      "\n",
      "The following object is masked from 'package:ggplot2':\n",
      "\n",
      "    annotate\n",
      "\n",
      "Loading required package: Matrix\n",
      "Warning message:\n",
      "\"package 'Matrix' was built under R version 3.6.3\"Loading required package: tidytext\n",
      "Warning message:\n",
      "\"package 'tidytext' was built under R version 3.6.3\"Loading required package: dplyr\n",
      "Warning message:\n",
      "\"package 'dplyr' was built under R version 3.6.3\"\n",
      "Attaching package: 'dplyr'\n",
      "\n",
      "The following objects are masked from 'package:stats':\n",
      "\n",
      "    filter, lag\n",
      "\n",
      "The following objects are masked from 'package:base':\n",
      "\n",
      "    intersect, setdiff, setequal, union\n",
      "\n",
      "Loading required package: hunspell\n",
      "Warning message:\n",
      "\"package 'hunspell' was built under R version 3.6.3\"Loading required package: purrr\n",
      "Warning message:\n",
      "\"package 'purrr' was built under R version 3.6.3\"\n",
      "Attaching package: 'purrr'\n",
      "\n",
      "The following object is masked from 'package:rtweet':\n",
      "\n",
      "    flatten\n",
      "\n",
      "Loading required package: wordcloud\n",
      "Warning message:\n",
      "\"package 'wordcloud' was built under R version 3.6.3\"Loading required package: RColorBrewer\n",
      "Loading required package: RWeka\n",
      "Warning message:\n",
      "\"package 'RWeka' was built under R version 3.6.3\"Error: package or namespace load failed for 'RWeka':\n",
      " .onLoad failed in loadNamespace() for 'rJava', details:\n",
      "  call: fun(libname, pkgname)\n",
      "  error: JAVA_HOME cannot be determined from the Registry\n"
     ]
    },
    {
     "name": "stdout",
     "output_type": "stream",
     "text": [
      "package 'RWeka' successfully unpacked and MD5 sums checked\n"
     ]
    },
    {
     "name": "stderr",
     "output_type": "stream",
     "text": [
      "Warning message:\n",
      "\"package 'RWeka' was built under R version 3.6.3\"Error: package or namespace load failed for 'RWeka':\n",
      " .onLoad failed in loadNamespace() for 'rJava', details:\n",
      "  call: fun(libname, pkgname)\n",
      "  error: JAVA_HOME cannot be determined from the Registry\n",
      "Warning message:\n",
      "\"package 'tidyverse' was built under R version 3.6.3\"-- Attaching packages --------------------------------------- tidyverse 1.3.0 --\n",
      "v tibble  3.0.3     v stringr 1.4.0\n",
      "v tidyr   1.1.2     v forcats 0.5.0\n",
      "Warning message:\n",
      "\"package 'tibble' was built under R version 3.6.3\"Warning message:\n",
      "\"package 'tidyr' was built under R version 3.6.3\"Warning message:\n",
      "\"package 'stringr' was built under R version 3.6.3\"Warning message:\n",
      "\"package 'forcats' was built under R version 3.6.3\"-- Conflicts ------------------------------------------ tidyverse_conflicts() --\n",
      "x NLP::annotate()  masks ggplot2::annotate()\n",
      "x tidyr::expand()  masks Matrix::expand()\n",
      "x dplyr::filter()  masks stats::filter()\n",
      "x purrr::flatten() masks rtweet::flatten()\n",
      "x dplyr::lag()     masks stats::lag()\n",
      "x tidyr::pack()    masks Matrix::pack()\n",
      "x tidyr::unpack()  masks Matrix::unpack()\n"
     ]
    }
   ],
   "source": [
    "# Install rtweet package:\n",
    "if(!require(\"rtweet\")) install.packages(\"rtweet\", quiet=TRUE); library(\"rtweet\", quiet=TRUE)\n",
    "# Install Other packages:\n",
    "for (i in c('topicmodels','ggplot2','readr','SnowballC','slam','tm','Matrix','tidytext','dplyr','hunspell','purrr','wordcloud','RWeka')){\n",
    "  if (!require(i, character.only=TRUE)) install.packages(i, repos = \"http://cran.us.r-project.org\", quiet=TRUE)\n",
    "  require(i, character.only=TRUE, quiet=TRUE)\n",
    "}\n",
    "library(tidyverse, quiet=TRUE)\n"
   ]
  },
  {
   "cell_type": "markdown",
   "metadata": {},
   "source": [
    "#### Loading the CSV file:"
   ]
  },
  {
   "cell_type": "markdown",
   "metadata": {},
   "source": [
    "###### Tweets About Google:"
   ]
  },
  {
   "cell_type": "code",
   "execution_count": 2,
   "metadata": {},
   "outputs": [],
   "source": [
    "#all tweets mentioning google\n",
    "google_tweets <- read_csv(\"google_tweets.csv\", col_types = cols())"
   ]
  },
  {
   "cell_type": "markdown",
   "metadata": {},
   "source": [
    "#### Data pre-processing"
   ]
  },
  {
   "cell_type": "code",
   "execution_count": 4,
   "metadata": {},
   "outputs": [
    {
     "data": {
      "text/html": [
       "<table>\n",
       "<thead><tr><th scope=col>user_id</th><th scope=col>status_id</th><th scope=col>created_at</th><th scope=col>screen_name</th><th scope=col>text</th><th scope=col>source</th><th scope=col>display_text_width</th><th scope=col>reply_to_status_id</th><th scope=col>reply_to_user_id</th><th scope=col>reply_to_screen_name</th><th scope=col>...</th><th scope=col>statuses_count</th><th scope=col>favourites_count</th><th scope=col>account_created_at</th><th scope=col>verified</th><th scope=col>profile_url</th><th scope=col>profile_expanded_url</th><th scope=col>account_lang</th><th scope=col>profile_banner_url</th><th scope=col>profile_background_url</th><th scope=col>profile_image_url</th></tr></thead>\n",
       "<tbody>\n",
       "\t<tr><td>x123041474                                                                                                                                                                              </td><td>x1222670759555784704                                                                                                                                                                    </td><td>2020-01-29 23:59:59                                                                                                                                                                     </td><td>macbeestje                                                                                                                                                                              </td><td>Google is reportedly launching another messaging app, but this time might be different https://t.co/bm8al80ro1 via @mashable                                                            </td><td>Twitter Web Client                                                                                                                                                                      </td><td>NA                                                                                                                                                                                      </td><td>NA                                                                                                                                                                                      </td><td>NA                                                                                                                                                                                      </td><td>NA                                                                                                                                                                                      </td><td>...                                                                                                                                                                                     </td><td>417842                                                                                                                                                                                  </td><td> 316                                                                                                                                                                                    </td><td>2010-03-14 19:56:55                                                                                                                                                                     </td><td>FALSE                                                                                                                                                                                   </td><td>NA                                                                                                                                                                                      </td><td>NA                                                                                                                                                                                      </td><td>NA                                                                                                                                                                                      </td><td>https://pbs.twimg.com/profile_banners/123041474/1368749867                                                                                                                              </td><td>http://abs.twimg.com/images/themes/theme1/bg.png                                                                                                                                        </td><td>http://pbs.twimg.com/profile_images/760542530018553857/o6gd_RbR_normal.jpg                                                                                                              </td></tr>\n",
       "\t<tr><td>x2387910714                                                                                                                                                                             </td><td>x1222670756741570561                                                                                                                                                                    </td><td>2020-01-29 23:59:59                                                                                                                                                                     </td><td>Jordaan_long                                                                                                                                                                            </td><td>we are bad at making decisions so we’ve decided to let you decide what songs are played on our headliner \n",
       "which is 3 weeks away\n",
       "so, you know, choose quickly \n",
       "https://t.co/HFcTHDo58a</td><td>Twitter for iPhone                                                                                                                                                                      </td><td>NA                                                                                                                                                                                      </td><td>NA                                                                                                                                                                                      </td><td>NA                                                                                                                                                                                      </td><td>NA                                                                                                                                                                                      </td><td>...                                                                                                                                                                                     </td><td>  2671                                                                                                                                                                                  </td><td>2816                                                                                                                                                                                    </td><td>2014-03-13 21:21:18                                                                                                                                                                     </td><td>FALSE                                                                                                                                                                                   </td><td>NA                                                                                                                                                                                      </td><td>NA                                                                                                                                                                                      </td><td>NA                                                                                                                                                                                      </td><td>https://pbs.twimg.com/profile_banners/2387910714/1555197203                                                                                                                             </td><td>http://abs.twimg.com/images/themes/theme1/bg.png                                                                                                                                        </td><td>http://pbs.twimg.com/profile_images/1255282812820819970/wIwXaceD_normal.jpg                                                                                                             </td></tr>\n",
       "</tbody>\n",
       "</table>\n"
      ],
      "text/latex": [
       "\\begin{tabular}{r|llllllllllllllllllllllllllllllllllllllllllllllllllllllllllllllllllllllllllllllllllllllllll}\n",
       " user\\_id & status\\_id & created\\_at & screen\\_name & text & source & display\\_text\\_width & reply\\_to\\_status\\_id & reply\\_to\\_user\\_id & reply\\_to\\_screen\\_name & ... & statuses\\_count & favourites\\_count & account\\_created\\_at & verified & profile\\_url & profile\\_expanded\\_url & account\\_lang & profile\\_banner\\_url & profile\\_background\\_url & profile\\_image\\_url\\\\\n",
       "\\hline\n",
       "\t x123041474                                                                                                                                                                               & x1222670759555784704                                                                                                                                                                     & 2020-01-29 23:59:59                                                                                                                                                                      & macbeestje                                                                                                                                                                               & Google is reportedly launching another messaging app, but this time might be different https://t.co/bm8al80ro1 via @mashable                                                             & Twitter Web Client                                                                                                                                                                       & NA                                                                                                                                                                                       & NA                                                                                                                                                                                       & NA                                                                                                                                                                                       & NA                                                                                                                                                                                       & ...                                                                                                                                                                                      & 417842                                                                                                                                                                                   &  316                                                                                                                                                                                     & 2010-03-14 19:56:55                                                                                                                                                                      & FALSE                                                                                                                                                                                    & NA                                                                                                                                                                                       & NA                                                                                                                                                                                       & NA                                                                                                                                                                                       & https://pbs.twimg.com/profile\\_banners/123041474/1368749867                                                                                                                             & http://abs.twimg.com/images/themes/theme1/bg.png                                                                                                                                         & http://pbs.twimg.com/profile\\_images/760542530018553857/o6gd\\_RbR\\_normal.jpg                                                                                                        \\\\\n",
       "\t x2387910714                                                                                                                                                                              & x1222670756741570561                                                                                                                                                                     & 2020-01-29 23:59:59                                                                                                                                                                      & Jordaan\\_long                                                                                                                                                                           & we are bad at making decisions so we’ve decided to let you decide what songs are played on our headliner \n",
       "which is 3 weeks away\n",
       "so, you know, choose quickly \n",
       "https://t.co/HFcTHDo58a & Twitter for iPhone                                                                                                                                                                       & NA                                                                                                                                                                                       & NA                                                                                                                                                                                       & NA                                                                                                                                                                                       & NA                                                                                                                                                                                       & ...                                                                                                                                                                                      &   2671                                                                                                                                                                                   & 2816                                                                                                                                                                                     & 2014-03-13 21:21:18                                                                                                                                                                      & FALSE                                                                                                                                                                                    & NA                                                                                                                                                                                       & NA                                                                                                                                                                                       & NA                                                                                                                                                                                       & https://pbs.twimg.com/profile\\_banners/2387910714/1555197203                                                                                                                            & http://abs.twimg.com/images/themes/theme1/bg.png                                                                                                                                         & http://pbs.twimg.com/profile\\_images/1255282812820819970/wIwXaceD\\_normal.jpg                                                                                                         \\\\\n",
       "\\end{tabular}\n"
      ],
      "text/markdown": [
       "\n",
       "| user_id | status_id | created_at | screen_name | text | source | display_text_width | reply_to_status_id | reply_to_user_id | reply_to_screen_name | ... | statuses_count | favourites_count | account_created_at | verified | profile_url | profile_expanded_url | account_lang | profile_banner_url | profile_background_url | profile_image_url |\n",
       "|---|---|---|---|---|---|---|---|---|---|---|---|---|---|---|---|---|---|---|---|---|\n",
       "| x123041474                                                                                                                                                                               | x1222670759555784704                                                                                                                                                                     | 2020-01-29 23:59:59                                                                                                                                                                      | macbeestje                                                                                                                                                                               | Google is reportedly launching another messaging app, but this time might be different https://t.co/bm8al80ro1 via @mashable                                                             | Twitter Web Client                                                                                                                                                                       | NA                                                                                                                                                                                       | NA                                                                                                                                                                                       | NA                                                                                                                                                                                       | NA                                                                                                                                                                                       | ...                                                                                                                                                                                      | 417842                                                                                                                                                                                   |  316                                                                                                                                                                                     | 2010-03-14 19:56:55                                                                                                                                                                      | FALSE                                                                                                                                                                                    | NA                                                                                                                                                                                       | NA                                                                                                                                                                                       | NA                                                                                                                                                                                       | https://pbs.twimg.com/profile_banners/123041474/1368749867                                                                                                                               | http://abs.twimg.com/images/themes/theme1/bg.png                                                                                                                                         | http://pbs.twimg.com/profile_images/760542530018553857/o6gd_RbR_normal.jpg                                                                                                               |\n",
       "| x2387910714                                                                                                                                                                              | x1222670756741570561                                                                                                                                                                     | 2020-01-29 23:59:59                                                                                                                                                                      | Jordaan_long                                                                                                                                                                             | we are bad at making decisions so we’ve decided to let you decide what songs are played on our headliner \n",
       "which is 3 weeks away\n",
       "so, you know, choose quickly \n",
       "https://t.co/HFcTHDo58a | Twitter for iPhone                                                                                                                                                                       | NA                                                                                                                                                                                       | NA                                                                                                                                                                                       | NA                                                                                                                                                                                       | NA                                                                                                                                                                                       | ...                                                                                                                                                                                      |   2671                                                                                                                                                                                   | 2816                                                                                                                                                                                     | 2014-03-13 21:21:18                                                                                                                                                                      | FALSE                                                                                                                                                                                    | NA                                                                                                                                                                                       | NA                                                                                                                                                                                       | NA                                                                                                                                                                                       | https://pbs.twimg.com/profile_banners/2387910714/1555197203                                                                                                                              | http://abs.twimg.com/images/themes/theme1/bg.png                                                                                                                                         | http://pbs.twimg.com/profile_images/1255282812820819970/wIwXaceD_normal.jpg                                                                                                              |\n",
       "\n"
      ],
      "text/plain": [
       "  user_id     status_id            created_at          screen_name \n",
       "1 x123041474  x1222670759555784704 2020-01-29 23:59:59 macbeestje  \n",
       "2 x2387910714 x1222670756741570561 2020-01-29 23:59:59 Jordaan_long\n",
       "  text                                                                                                                                                                                    \n",
       "1 Google is reportedly launching another messaging app, but this time might be different https://t.co/bm8al80ro1 via @mashable                                                            \n",
       "2 we are bad at making decisions so we’ve decided to let you decide what songs are played on our headliner \\nwhich is 3 weeks away\\nso, you know, choose quickly \\nhttps://t.co/HFcTHDo58a\n",
       "  source             display_text_width reply_to_status_id reply_to_user_id\n",
       "1 Twitter Web Client NA                 NA                 NA              \n",
       "2 Twitter for iPhone NA                 NA                 NA              \n",
       "  reply_to_screen_name ... statuses_count favourites_count account_created_at \n",
       "1 NA                   ... 417842          316             2010-03-14 19:56:55\n",
       "2 NA                   ...   2671         2816             2014-03-13 21:21:18\n",
       "  verified profile_url profile_expanded_url account_lang\n",
       "1 FALSE    NA          NA                   NA          \n",
       "2 FALSE    NA          NA                   NA          \n",
       "  profile_banner_url                                         \n",
       "1 https://pbs.twimg.com/profile_banners/123041474/1368749867 \n",
       "2 https://pbs.twimg.com/profile_banners/2387910714/1555197203\n",
       "  profile_background_url                          \n",
       "1 http://abs.twimg.com/images/themes/theme1/bg.png\n",
       "2 http://abs.twimg.com/images/themes/theme1/bg.png\n",
       "  profile_image_url                                                          \n",
       "1 http://pbs.twimg.com/profile_images/760542530018553857/o6gd_RbR_normal.jpg \n",
       "2 http://pbs.twimg.com/profile_images/1255282812820819970/wIwXaceD_normal.jpg"
      ]
     },
     "metadata": {},
     "output_type": "display_data"
    },
    {
     "data": {
      "text/html": [
       "1200"
      ],
      "text/latex": [
       "1200"
      ],
      "text/markdown": [
       "1200"
      ],
      "text/plain": [
       "[1] 1200"
      ]
     },
     "metadata": {},
     "output_type": "display_data"
    }
   ],
   "source": [
    "# View tweets from Google:\n",
    "head(google_tweets, n=2)\n",
    "nrow(google_tweets)"
   ]
  },
  {
   "cell_type": "markdown",
   "metadata": {},
   "source": [
    "###### Remove Punctuation"
   ]
  },
  {
   "cell_type": "code",
   "execution_count": 5,
   "metadata": {},
   "outputs": [],
   "source": [
    "#Remove punctiation\n",
    "google_tweets <- mutate(google_tweets, text = gsub(x = text, pattern = \"[0-9]+|[[:punct:]]|\\\\(.*\\\\)\", replacement = \"\"))"
   ]
  },
  {
   "cell_type": "markdown",
   "metadata": {},
   "source": [
    "###### Tokenization"
   ]
  },
  {
   "cell_type": "code",
   "execution_count": 6,
   "metadata": {},
   "outputs": [
    {
     "data": {
      "text/html": [
       "30028"
      ],
      "text/latex": [
       "30028"
      ],
      "text/markdown": [
       "30028"
      ],
      "text/plain": [
       "[1] 30028"
      ]
     },
     "metadata": {},
     "output_type": "display_data"
    }
   ],
   "source": [
    "google_tweets_tokenized <- google_tweets %>% unnest_tokens(output = \"word\", # how should the new column be named?\n",
    "                                             input = text, # where can we find the text? \n",
    "                                             token = \"words\", # which tokenization scheme should we follow?\n",
    "                                             drop=FALSE,to_lower=TRUE) # drop=FALSE specifies that we want to keep our text; to_lower = lowercase\n",
    "nrow(google_tweets_tokenized)"
   ]
  },
  {
   "cell_type": "markdown",
   "metadata": {},
   "source": [
    "###### Remove Unwanted Symbols and Words"
   ]
  },
  {
   "cell_type": "code",
   "execution_count": 7,
   "metadata": {},
   "outputs": [
    {
     "data": {
      "text/html": [
       "30028"
      ],
      "text/latex": [
       "30028"
      ],
      "text/markdown": [
       "30028"
      ],
      "text/plain": [
       "[1] 30028"
      ]
     },
     "metadata": {},
     "output_type": "display_data"
    }
   ],
   "source": [
    "#Remove # and @\n",
    "google_tweets_tokenized <- filter(google_tweets_tokenized , substr(word, 1, 1) != '#', \n",
    "                         substr(word, 1, 1) != '@') # This compares for the first letter of a token # omit hashtags\n",
    "nrow(google_tweets_tokenized)"
   ]
  },
  {
   "cell_type": "markdown",
   "metadata": {},
   "source": [
    "###### Remove stopwords"
   ]
  },
  {
   "cell_type": "code",
   "execution_count": 9,
   "metadata": {},
   "outputs": [
    {
     "ename": "ERROR",
     "evalue": "Error in loadNamespace(name): there is no package called 'stopwords'\n",
     "output_type": "error",
     "traceback": [
      "Error in loadNamespace(name): there is no package called 'stopwords'\nTraceback:\n",
      "1. google_tweets_tokenized %>% anti_join(get_stopwords())",
      "2. withVisible(eval(quote(`_fseq`(`_lhs`)), env, env))",
      "3. eval(quote(`_fseq`(`_lhs`)), env, env)",
      "4. eval(quote(`_fseq`(`_lhs`)), env, env)",
      "5. `_fseq`(`_lhs`)",
      "6. freduce(value, `_function_list`)",
      "7. withVisible(function_list[[k]](value))",
      "8. function_list[[k]](value)",
      "9. anti_join(., get_stopwords())",
      "10. anti_join.data.frame(., get_stopwords())",
      "11. auto_copy(x, y, copy = copy)",
      "12. same_src(x, y)",
      "13. same_src.data.frame(x, y)",
      "14. is.data.frame(y)",
      "15. get_stopwords()",
      "16. tibble(word = stopwords::stopwords(language = language, source = source), \n  .     lexicon = source)",
      "17. tibble_quos(xs[!is.null], .rows, .name_repair)",
      "18. eval_tidy(xs[[j]], mask)",
      "19. stopwords::stopwords",
      "20. getExportedValue(pkg, name)",
      "21. asNamespace(ns)",
      "22. getNamespace(ns)",
      "23. loadNamespace(name)",
      "24. withRestarts(stop(cond), retry_loadNamespace = function() NULL)",
      "25. withOneRestart(expr, restarts[[1L]])",
      "26. doWithOneRestart(return(expr), restart)"
     ]
    }
   ],
   "source": [
    "#Remove Stop words:\n",
    "google_tweets_tokenized <- google_tweets_tokenized %>% anti_join(get_stopwords()) # note that we continued with the 'uncorrected' words here\n",
    "nrow(google_tweets_tokenized)\n",
    "\n",
    "# this reduces the amount of words by 10,000"
   ]
  },
  {
   "cell_type": "markdown",
   "metadata": {},
   "source": [
    "###### Stemming/Lemmatization"
   ]
  },
  {
   "cell_type": "code",
   "execution_count": 10,
   "metadata": {},
   "outputs": [],
   "source": [
    "#Stemming:\n",
    "google_tweets_stemming<- google_tweets_tokenized %>% mutate(word = wordStem(word)) \n",
    "\n",
    "# again named it differently so we can see the difference"
   ]
  },
  {
   "cell_type": "markdown",
   "metadata": {},
   "source": [
    "###### Document-term matrix"
   ]
  },
  {
   "cell_type": "code",
   "execution_count": 11,
   "metadata": {},
   "outputs": [
    {
     "data": {
      "text/html": [
       "<table>\n",
       "<thead><tr><th scope=col>user_id</th><th scope=col>status_id</th><th scope=col>created_at</th><th scope=col>screen_name</th><th scope=col>text</th><th scope=col>source</th><th scope=col>display_text_width</th><th scope=col>reply_to_status_id</th><th scope=col>reply_to_user_id</th><th scope=col>reply_to_screen_name</th><th scope=col>...</th><th scope=col>favourites_count</th><th scope=col>account_created_at</th><th scope=col>verified</th><th scope=col>profile_url</th><th scope=col>profile_expanded_url</th><th scope=col>account_lang</th><th scope=col>profile_banner_url</th><th scope=col>profile_background_url</th><th scope=col>profile_image_url</th><th scope=col>word</th></tr></thead>\n",
       "<tbody>\n",
       "\t<tr><td>x123041474                                                                                                       </td><td>x1222670759555784704                                                                                             </td><td>2020-01-29 23:59:59                                                                                              </td><td>macbeestje                                                                                                       </td><td>Google is reportedly launching another messaging app but this time might be different httpstcobmalro via mashable</td><td>Twitter Web Client                                                                                               </td><td>NA                                                                                                               </td><td>NA                                                                                                               </td><td>NA                                                                                                               </td><td>NA                                                                                                               </td><td>...                                                                                                              </td><td>316                                                                                                              </td><td>2010-03-14 19:56:55                                                                                              </td><td>FALSE                                                                                                            </td><td>NA                                                                                                               </td><td>NA                                                                                                               </td><td>NA                                                                                                               </td><td>https://pbs.twimg.com/profile_banners/123041474/1368749867                                                       </td><td>http://abs.twimg.com/images/themes/theme1/bg.png                                                                 </td><td>http://pbs.twimg.com/profile_images/760542530018553857/o6gd_RbR_normal.jpg                                       </td><td>google                                                                                                           </td></tr>\n",
       "\t<tr><td>x123041474                                                                                                       </td><td>x1222670759555784704                                                                                             </td><td>2020-01-29 23:59:59                                                                                              </td><td>macbeestje                                                                                                       </td><td>Google is reportedly launching another messaging app but this time might be different httpstcobmalro via mashable</td><td>Twitter Web Client                                                                                               </td><td>NA                                                                                                               </td><td>NA                                                                                                               </td><td>NA                                                                                                               </td><td>NA                                                                                                               </td><td>...                                                                                                              </td><td>316                                                                                                              </td><td>2010-03-14 19:56:55                                                                                              </td><td>FALSE                                                                                                            </td><td>NA                                                                                                               </td><td>NA                                                                                                               </td><td>NA                                                                                                               </td><td>https://pbs.twimg.com/profile_banners/123041474/1368749867                                                       </td><td>http://abs.twimg.com/images/themes/theme1/bg.png                                                                 </td><td>http://pbs.twimg.com/profile_images/760542530018553857/o6gd_RbR_normal.jpg                                       </td><td>is                                                                                                               </td></tr>\n",
       "\t<tr><td>x123041474                                                                                                       </td><td>x1222670759555784704                                                                                             </td><td>2020-01-29 23:59:59                                                                                              </td><td>macbeestje                                                                                                       </td><td>Google is reportedly launching another messaging app but this time might be different httpstcobmalro via mashable</td><td>Twitter Web Client                                                                                               </td><td>NA                                                                                                               </td><td>NA                                                                                                               </td><td>NA                                                                                                               </td><td>NA                                                                                                               </td><td>...                                                                                                              </td><td>316                                                                                                              </td><td>2010-03-14 19:56:55                                                                                              </td><td>FALSE                                                                                                            </td><td>NA                                                                                                               </td><td>NA                                                                                                               </td><td>NA                                                                                                               </td><td>https://pbs.twimg.com/profile_banners/123041474/1368749867                                                       </td><td>http://abs.twimg.com/images/themes/theme1/bg.png                                                                 </td><td>http://pbs.twimg.com/profile_images/760542530018553857/o6gd_RbR_normal.jpg                                       </td><td>reportedly                                                                                                       </td></tr>\n",
       "\t<tr><td>x123041474                                                                                                       </td><td>x1222670759555784704                                                                                             </td><td>2020-01-29 23:59:59                                                                                              </td><td>macbeestje                                                                                                       </td><td>Google is reportedly launching another messaging app but this time might be different httpstcobmalro via mashable</td><td>Twitter Web Client                                                                                               </td><td>NA                                                                                                               </td><td>NA                                                                                                               </td><td>NA                                                                                                               </td><td>NA                                                                                                               </td><td>...                                                                                                              </td><td>316                                                                                                              </td><td>2010-03-14 19:56:55                                                                                              </td><td>FALSE                                                                                                            </td><td>NA                                                                                                               </td><td>NA                                                                                                               </td><td>NA                                                                                                               </td><td>https://pbs.twimg.com/profile_banners/123041474/1368749867                                                       </td><td>http://abs.twimg.com/images/themes/theme1/bg.png                                                                 </td><td>http://pbs.twimg.com/profile_images/760542530018553857/o6gd_RbR_normal.jpg                                       </td><td>launching                                                                                                        </td></tr>\n",
       "\t<tr><td>x123041474                                                                                                       </td><td>x1222670759555784704                                                                                             </td><td>2020-01-29 23:59:59                                                                                              </td><td>macbeestje                                                                                                       </td><td>Google is reportedly launching another messaging app but this time might be different httpstcobmalro via mashable</td><td>Twitter Web Client                                                                                               </td><td>NA                                                                                                               </td><td>NA                                                                                                               </td><td>NA                                                                                                               </td><td>NA                                                                                                               </td><td>...                                                                                                              </td><td>316                                                                                                              </td><td>2010-03-14 19:56:55                                                                                              </td><td>FALSE                                                                                                            </td><td>NA                                                                                                               </td><td>NA                                                                                                               </td><td>NA                                                                                                               </td><td>https://pbs.twimg.com/profile_banners/123041474/1368749867                                                       </td><td>http://abs.twimg.com/images/themes/theme1/bg.png                                                                 </td><td>http://pbs.twimg.com/profile_images/760542530018553857/o6gd_RbR_normal.jpg                                       </td><td>another                                                                                                          </td></tr>\n",
       "\t<tr><td>x123041474                                                                                                       </td><td>x1222670759555784704                                                                                             </td><td>2020-01-29 23:59:59                                                                                              </td><td>macbeestje                                                                                                       </td><td>Google is reportedly launching another messaging app but this time might be different httpstcobmalro via mashable</td><td>Twitter Web Client                                                                                               </td><td>NA                                                                                                               </td><td>NA                                                                                                               </td><td>NA                                                                                                               </td><td>NA                                                                                                               </td><td>...                                                                                                              </td><td>316                                                                                                              </td><td>2010-03-14 19:56:55                                                                                              </td><td>FALSE                                                                                                            </td><td>NA                                                                                                               </td><td>NA                                                                                                               </td><td>NA                                                                                                               </td><td>https://pbs.twimg.com/profile_banners/123041474/1368749867                                                       </td><td>http://abs.twimg.com/images/themes/theme1/bg.png                                                                 </td><td>http://pbs.twimg.com/profile_images/760542530018553857/o6gd_RbR_normal.jpg                                       </td><td>messaging                                                                                                        </td></tr>\n",
       "</tbody>\n",
       "</table>\n"
      ],
      "text/latex": [
       "\\begin{tabular}{r|lllllllllllllllllllllllllllllllllllllllllllllllllllllllllllllllllllllllllllllllllllllllllll}\n",
       " user\\_id & status\\_id & created\\_at & screen\\_name & text & source & display\\_text\\_width & reply\\_to\\_status\\_id & reply\\_to\\_user\\_id & reply\\_to\\_screen\\_name & ... & favourites\\_count & account\\_created\\_at & verified & profile\\_url & profile\\_expanded\\_url & account\\_lang & profile\\_banner\\_url & profile\\_background\\_url & profile\\_image\\_url & word\\\\\n",
       "\\hline\n",
       "\t x123041474                                                                                                        & x1222670759555784704                                                                                              & 2020-01-29 23:59:59                                                                                               & macbeestje                                                                                                        & Google is reportedly launching another messaging app but this time might be different httpstcobmalro via mashable & Twitter Web Client                                                                                                & NA                                                                                                                & NA                                                                                                                & NA                                                                                                                & NA                                                                                                                & ...                                                                                                               & 316                                                                                                               & 2010-03-14 19:56:55                                                                                               & FALSE                                                                                                             & NA                                                                                                                & NA                                                                                                                & NA                                                                                                                & https://pbs.twimg.com/profile\\_banners/123041474/1368749867                                                      & http://abs.twimg.com/images/themes/theme1/bg.png                                                                  & http://pbs.twimg.com/profile\\_images/760542530018553857/o6gd\\_RbR\\_normal.jpg                                  & google                                                                                                           \\\\\n",
       "\t x123041474                                                                                                        & x1222670759555784704                                                                                              & 2020-01-29 23:59:59                                                                                               & macbeestje                                                                                                        & Google is reportedly launching another messaging app but this time might be different httpstcobmalro via mashable & Twitter Web Client                                                                                                & NA                                                                                                                & NA                                                                                                                & NA                                                                                                                & NA                                                                                                                & ...                                                                                                               & 316                                                                                                               & 2010-03-14 19:56:55                                                                                               & FALSE                                                                                                             & NA                                                                                                                & NA                                                                                                                & NA                                                                                                                & https://pbs.twimg.com/profile\\_banners/123041474/1368749867                                                      & http://abs.twimg.com/images/themes/theme1/bg.png                                                                  & http://pbs.twimg.com/profile\\_images/760542530018553857/o6gd\\_RbR\\_normal.jpg                                  & is                                                                                                               \\\\\n",
       "\t x123041474                                                                                                        & x1222670759555784704                                                                                              & 2020-01-29 23:59:59                                                                                               & macbeestje                                                                                                        & Google is reportedly launching another messaging app but this time might be different httpstcobmalro via mashable & Twitter Web Client                                                                                                & NA                                                                                                                & NA                                                                                                                & NA                                                                                                                & NA                                                                                                                & ...                                                                                                               & 316                                                                                                               & 2010-03-14 19:56:55                                                                                               & FALSE                                                                                                             & NA                                                                                                                & NA                                                                                                                & NA                                                                                                                & https://pbs.twimg.com/profile\\_banners/123041474/1368749867                                                      & http://abs.twimg.com/images/themes/theme1/bg.png                                                                  & http://pbs.twimg.com/profile\\_images/760542530018553857/o6gd\\_RbR\\_normal.jpg                                  & reportedly                                                                                                       \\\\\n",
       "\t x123041474                                                                                                        & x1222670759555784704                                                                                              & 2020-01-29 23:59:59                                                                                               & macbeestje                                                                                                        & Google is reportedly launching another messaging app but this time might be different httpstcobmalro via mashable & Twitter Web Client                                                                                                & NA                                                                                                                & NA                                                                                                                & NA                                                                                                                & NA                                                                                                                & ...                                                                                                               & 316                                                                                                               & 2010-03-14 19:56:55                                                                                               & FALSE                                                                                                             & NA                                                                                                                & NA                                                                                                                & NA                                                                                                                & https://pbs.twimg.com/profile\\_banners/123041474/1368749867                                                      & http://abs.twimg.com/images/themes/theme1/bg.png                                                                  & http://pbs.twimg.com/profile\\_images/760542530018553857/o6gd\\_RbR\\_normal.jpg                                  & launching                                                                                                        \\\\\n",
       "\t x123041474                                                                                                        & x1222670759555784704                                                                                              & 2020-01-29 23:59:59                                                                                               & macbeestje                                                                                                        & Google is reportedly launching another messaging app but this time might be different httpstcobmalro via mashable & Twitter Web Client                                                                                                & NA                                                                                                                & NA                                                                                                                & NA                                                                                                                & NA                                                                                                                & ...                                                                                                               & 316                                                                                                               & 2010-03-14 19:56:55                                                                                               & FALSE                                                                                                             & NA                                                                                                                & NA                                                                                                                & NA                                                                                                                & https://pbs.twimg.com/profile\\_banners/123041474/1368749867                                                      & http://abs.twimg.com/images/themes/theme1/bg.png                                                                  & http://pbs.twimg.com/profile\\_images/760542530018553857/o6gd\\_RbR\\_normal.jpg                                  & another                                                                                                          \\\\\n",
       "\t x123041474                                                                                                        & x1222670759555784704                                                                                              & 2020-01-29 23:59:59                                                                                               & macbeestje                                                                                                        & Google is reportedly launching another messaging app but this time might be different httpstcobmalro via mashable & Twitter Web Client                                                                                                & NA                                                                                                                & NA                                                                                                                & NA                                                                                                                & NA                                                                                                                & ...                                                                                                               & 316                                                                                                               & 2010-03-14 19:56:55                                                                                               & FALSE                                                                                                             & NA                                                                                                                & NA                                                                                                                & NA                                                                                                                & https://pbs.twimg.com/profile\\_banners/123041474/1368749867                                                      & http://abs.twimg.com/images/themes/theme1/bg.png                                                                  & http://pbs.twimg.com/profile\\_images/760542530018553857/o6gd\\_RbR\\_normal.jpg                                  & messaging                                                                                                        \\\\\n",
       "\\end{tabular}\n"
      ],
      "text/markdown": [
       "\n",
       "| user_id | status_id | created_at | screen_name | text | source | display_text_width | reply_to_status_id | reply_to_user_id | reply_to_screen_name | ... | favourites_count | account_created_at | verified | profile_url | profile_expanded_url | account_lang | profile_banner_url | profile_background_url | profile_image_url | word |\n",
       "|---|---|---|---|---|---|---|---|---|---|---|---|---|---|---|---|---|---|---|---|---|\n",
       "| x123041474                                                                                                        | x1222670759555784704                                                                                              | 2020-01-29 23:59:59                                                                                               | macbeestje                                                                                                        | Google is reportedly launching another messaging app but this time might be different httpstcobmalro via mashable | Twitter Web Client                                                                                                | NA                                                                                                                | NA                                                                                                                | NA                                                                                                                | NA                                                                                                                | ...                                                                                                               | 316                                                                                                               | 2010-03-14 19:56:55                                                                                               | FALSE                                                                                                             | NA                                                                                                                | NA                                                                                                                | NA                                                                                                                | https://pbs.twimg.com/profile_banners/123041474/1368749867                                                        | http://abs.twimg.com/images/themes/theme1/bg.png                                                                  | http://pbs.twimg.com/profile_images/760542530018553857/o6gd_RbR_normal.jpg                                        | google                                                                                                            |\n",
       "| x123041474                                                                                                        | x1222670759555784704                                                                                              | 2020-01-29 23:59:59                                                                                               | macbeestje                                                                                                        | Google is reportedly launching another messaging app but this time might be different httpstcobmalro via mashable | Twitter Web Client                                                                                                | NA                                                                                                                | NA                                                                                                                | NA                                                                                                                | NA                                                                                                                | ...                                                                                                               | 316                                                                                                               | 2010-03-14 19:56:55                                                                                               | FALSE                                                                                                             | NA                                                                                                                | NA                                                                                                                | NA                                                                                                                | https://pbs.twimg.com/profile_banners/123041474/1368749867                                                        | http://abs.twimg.com/images/themes/theme1/bg.png                                                                  | http://pbs.twimg.com/profile_images/760542530018553857/o6gd_RbR_normal.jpg                                        | is                                                                                                                |\n",
       "| x123041474                                                                                                        | x1222670759555784704                                                                                              | 2020-01-29 23:59:59                                                                                               | macbeestje                                                                                                        | Google is reportedly launching another messaging app but this time might be different httpstcobmalro via mashable | Twitter Web Client                                                                                                | NA                                                                                                                | NA                                                                                                                | NA                                                                                                                | NA                                                                                                                | ...                                                                                                               | 316                                                                                                               | 2010-03-14 19:56:55                                                                                               | FALSE                                                                                                             | NA                                                                                                                | NA                                                                                                                | NA                                                                                                                | https://pbs.twimg.com/profile_banners/123041474/1368749867                                                        | http://abs.twimg.com/images/themes/theme1/bg.png                                                                  | http://pbs.twimg.com/profile_images/760542530018553857/o6gd_RbR_normal.jpg                                        | reportedly                                                                                                        |\n",
       "| x123041474                                                                                                        | x1222670759555784704                                                                                              | 2020-01-29 23:59:59                                                                                               | macbeestje                                                                                                        | Google is reportedly launching another messaging app but this time might be different httpstcobmalro via mashable | Twitter Web Client                                                                                                | NA                                                                                                                | NA                                                                                                                | NA                                                                                                                | NA                                                                                                                | ...                                                                                                               | 316                                                                                                               | 2010-03-14 19:56:55                                                                                               | FALSE                                                                                                             | NA                                                                                                                | NA                                                                                                                | NA                                                                                                                | https://pbs.twimg.com/profile_banners/123041474/1368749867                                                        | http://abs.twimg.com/images/themes/theme1/bg.png                                                                  | http://pbs.twimg.com/profile_images/760542530018553857/o6gd_RbR_normal.jpg                                        | launching                                                                                                         |\n",
       "| x123041474                                                                                                        | x1222670759555784704                                                                                              | 2020-01-29 23:59:59                                                                                               | macbeestje                                                                                                        | Google is reportedly launching another messaging app but this time might be different httpstcobmalro via mashable | Twitter Web Client                                                                                                | NA                                                                                                                | NA                                                                                                                | NA                                                                                                                | NA                                                                                                                | ...                                                                                                               | 316                                                                                                               | 2010-03-14 19:56:55                                                                                               | FALSE                                                                                                             | NA                                                                                                                | NA                                                                                                                | NA                                                                                                                | https://pbs.twimg.com/profile_banners/123041474/1368749867                                                        | http://abs.twimg.com/images/themes/theme1/bg.png                                                                  | http://pbs.twimg.com/profile_images/760542530018553857/o6gd_RbR_normal.jpg                                        | another                                                                                                           |\n",
       "| x123041474                                                                                                        | x1222670759555784704                                                                                              | 2020-01-29 23:59:59                                                                                               | macbeestje                                                                                                        | Google is reportedly launching another messaging app but this time might be different httpstcobmalro via mashable | Twitter Web Client                                                                                                | NA                                                                                                                | NA                                                                                                                | NA                                                                                                                | NA                                                                                                                | ...                                                                                                               | 316                                                                                                               | 2010-03-14 19:56:55                                                                                               | FALSE                                                                                                             | NA                                                                                                                | NA                                                                                                                | NA                                                                                                                | https://pbs.twimg.com/profile_banners/123041474/1368749867                                                        | http://abs.twimg.com/images/themes/theme1/bg.png                                                                  | http://pbs.twimg.com/profile_images/760542530018553857/o6gd_RbR_normal.jpg                                        | messaging                                                                                                         |\n",
       "\n"
      ],
      "text/plain": [
       "  user_id    status_id            created_at          screen_name\n",
       "1 x123041474 x1222670759555784704 2020-01-29 23:59:59 macbeestje \n",
       "2 x123041474 x1222670759555784704 2020-01-29 23:59:59 macbeestje \n",
       "3 x123041474 x1222670759555784704 2020-01-29 23:59:59 macbeestje \n",
       "4 x123041474 x1222670759555784704 2020-01-29 23:59:59 macbeestje \n",
       "5 x123041474 x1222670759555784704 2020-01-29 23:59:59 macbeestje \n",
       "6 x123041474 x1222670759555784704 2020-01-29 23:59:59 macbeestje \n",
       "  text                                                                                                             \n",
       "1 Google is reportedly launching another messaging app but this time might be different httpstcobmalro via mashable\n",
       "2 Google is reportedly launching another messaging app but this time might be different httpstcobmalro via mashable\n",
       "3 Google is reportedly launching another messaging app but this time might be different httpstcobmalro via mashable\n",
       "4 Google is reportedly launching another messaging app but this time might be different httpstcobmalro via mashable\n",
       "5 Google is reportedly launching another messaging app but this time might be different httpstcobmalro via mashable\n",
       "6 Google is reportedly launching another messaging app but this time might be different httpstcobmalro via mashable\n",
       "  source             display_text_width reply_to_status_id reply_to_user_id\n",
       "1 Twitter Web Client NA                 NA                 NA              \n",
       "2 Twitter Web Client NA                 NA                 NA              \n",
       "3 Twitter Web Client NA                 NA                 NA              \n",
       "4 Twitter Web Client NA                 NA                 NA              \n",
       "5 Twitter Web Client NA                 NA                 NA              \n",
       "6 Twitter Web Client NA                 NA                 NA              \n",
       "  reply_to_screen_name ... favourites_count account_created_at  verified\n",
       "1 NA                   ... 316              2010-03-14 19:56:55 FALSE   \n",
       "2 NA                   ... 316              2010-03-14 19:56:55 FALSE   \n",
       "3 NA                   ... 316              2010-03-14 19:56:55 FALSE   \n",
       "4 NA                   ... 316              2010-03-14 19:56:55 FALSE   \n",
       "5 NA                   ... 316              2010-03-14 19:56:55 FALSE   \n",
       "6 NA                   ... 316              2010-03-14 19:56:55 FALSE   \n",
       "  profile_url profile_expanded_url account_lang\n",
       "1 NA          NA                   NA          \n",
       "2 NA          NA                   NA          \n",
       "3 NA          NA                   NA          \n",
       "4 NA          NA                   NA          \n",
       "5 NA          NA                   NA          \n",
       "6 NA          NA                   NA          \n",
       "  profile_banner_url                                        \n",
       "1 https://pbs.twimg.com/profile_banners/123041474/1368749867\n",
       "2 https://pbs.twimg.com/profile_banners/123041474/1368749867\n",
       "3 https://pbs.twimg.com/profile_banners/123041474/1368749867\n",
       "4 https://pbs.twimg.com/profile_banners/123041474/1368749867\n",
       "5 https://pbs.twimg.com/profile_banners/123041474/1368749867\n",
       "6 https://pbs.twimg.com/profile_banners/123041474/1368749867\n",
       "  profile_background_url                          \n",
       "1 http://abs.twimg.com/images/themes/theme1/bg.png\n",
       "2 http://abs.twimg.com/images/themes/theme1/bg.png\n",
       "3 http://abs.twimg.com/images/themes/theme1/bg.png\n",
       "4 http://abs.twimg.com/images/themes/theme1/bg.png\n",
       "5 http://abs.twimg.com/images/themes/theme1/bg.png\n",
       "6 http://abs.twimg.com/images/themes/theme1/bg.png\n",
       "  profile_image_url                                                         \n",
       "1 http://pbs.twimg.com/profile_images/760542530018553857/o6gd_RbR_normal.jpg\n",
       "2 http://pbs.twimg.com/profile_images/760542530018553857/o6gd_RbR_normal.jpg\n",
       "3 http://pbs.twimg.com/profile_images/760542530018553857/o6gd_RbR_normal.jpg\n",
       "4 http://pbs.twimg.com/profile_images/760542530018553857/o6gd_RbR_normal.jpg\n",
       "5 http://pbs.twimg.com/profile_images/760542530018553857/o6gd_RbR_normal.jpg\n",
       "6 http://pbs.twimg.com/profile_images/760542530018553857/o6gd_RbR_normal.jpg\n",
       "  word      \n",
       "1 google    \n",
       "2 is        \n",
       "3 reportedly\n",
       "4 launching \n",
       "5 another   \n",
       "6 messaging "
      ]
     },
     "metadata": {},
     "output_type": "display_data"
    }
   ],
   "source": [
    "head(google_tweets_tokenized)"
   ]
  },
  {
   "cell_type": "code",
   "execution_count": 12,
   "metadata": {},
   "outputs": [
    {
     "data": {
      "text/html": [
       "<table>\n",
       "<thead><tr><th scope=col>status_id</th><th scope=col>word</th><th scope=col>n</th></tr></thead>\n",
       "<tbody>\n",
       "\t<tr><td>x1222670515724222470</td><td>bruno               </td><td>1                   </td></tr>\n",
       "\t<tr><td>x1222670515724222470</td><td>fernandes           </td><td>1                   </td></tr>\n",
       "\t<tr><td>x1222670515724222470</td><td>google              </td><td>1                   </td></tr>\n",
       "\t<tr><td>x1222670515724222470</td><td>httpstcobupruxbxoo  </td><td>1                   </td></tr>\n",
       "\t<tr><td>x1222670515724222470</td><td>is                  </td><td>1                   </td></tr>\n",
       "\t<tr><td>x1222670515724222470</td><td>this                </td><td>1                   </td></tr>\n",
       "</tbody>\n",
       "</table>\n"
      ],
      "text/latex": [
       "\\begin{tabular}{r|lll}\n",
       " status\\_id & word & n\\\\\n",
       "\\hline\n",
       "\t x1222670515724222470 & bruno                & 1                   \\\\\n",
       "\t x1222670515724222470 & fernandes            & 1                   \\\\\n",
       "\t x1222670515724222470 & google               & 1                   \\\\\n",
       "\t x1222670515724222470 & httpstcobupruxbxoo   & 1                   \\\\\n",
       "\t x1222670515724222470 & is                   & 1                   \\\\\n",
       "\t x1222670515724222470 & this                 & 1                   \\\\\n",
       "\\end{tabular}\n"
      ],
      "text/markdown": [
       "\n",
       "| status_id | word | n |\n",
       "|---|---|---|\n",
       "| x1222670515724222470 | bruno                | 1                    |\n",
       "| x1222670515724222470 | fernandes            | 1                    |\n",
       "| x1222670515724222470 | google               | 1                    |\n",
       "| x1222670515724222470 | httpstcobupruxbxoo   | 1                    |\n",
       "| x1222670515724222470 | is                   | 1                    |\n",
       "| x1222670515724222470 | this                 | 1                    |\n",
       "\n"
      ],
      "text/plain": [
       "  status_id            word               n\n",
       "1 x1222670515724222470 bruno              1\n",
       "2 x1222670515724222470 fernandes          1\n",
       "3 x1222670515724222470 google             1\n",
       "4 x1222670515724222470 httpstcobupruxbxoo 1\n",
       "5 x1222670515724222470 is                 1\n",
       "6 x1222670515724222470 this               1"
      ]
     },
     "metadata": {},
     "output_type": "display_data"
    }
   ],
   "source": [
    "# the number of times a word occurred in each tweet\n",
    "google_tweets_tokenized <- google_tweets_tokenized %>% count(status_id,word)\n",
    "head(google_tweets_tokenized)"
   ]
  },
  {
   "cell_type": "markdown",
   "metadata": {},
   "source": [
    "###### Inspect the text"
   ]
  },
  {
   "cell_type": "code",
   "execution_count": 13,
   "metadata": {
    "scrolled": true
   },
   "outputs": [
    {
     "name": "stderr",
     "output_type": "stream",
     "text": [
      "`summarise()` ungrouping output (override with `.groups` argument)\n"
     ]
    },
    {
     "data": {
      "text/html": [
       "<table>\n",
       "<thead><tr><th scope=col>word</th><th scope=col>freq</th></tr></thead>\n",
       "<tbody>\n",
       "\t<tr><td>google</td><td>630   </td></tr>\n",
       "\t<tr><td>the   </td><td>574   </td></tr>\n",
       "\t<tr><td>to    </td><td>567   </td></tr>\n",
       "\t<tr><td>a     </td><td>392   </td></tr>\n",
       "\t<tr><td>and   </td><td>390   </td></tr>\n",
       "\t<tr><td>of    </td><td>354   </td></tr>\n",
       "</tbody>\n",
       "</table>\n"
      ],
      "text/latex": [
       "\\begin{tabular}{r|ll}\n",
       " word & freq\\\\\n",
       "\\hline\n",
       "\t google & 630   \\\\\n",
       "\t the    & 574   \\\\\n",
       "\t to     & 567   \\\\\n",
       "\t a      & 392   \\\\\n",
       "\t and    & 390   \\\\\n",
       "\t of     & 354   \\\\\n",
       "\\end{tabular}\n"
      ],
      "text/markdown": [
       "\n",
       "| word | freq |\n",
       "|---|---|\n",
       "| google | 630    |\n",
       "| the    | 574    |\n",
       "| to     | 567    |\n",
       "| a      | 392    |\n",
       "| and    | 390    |\n",
       "| of     | 354    |\n",
       "\n"
      ],
      "text/plain": [
       "  word   freq\n",
       "1 google 630 \n",
       "2 the    574 \n",
       "3 to     567 \n",
       "4 a      392 \n",
       "5 and    390 \n",
       "6 of     354 "
      ]
     },
     "metadata": {},
     "output_type": "display_data"
    }
   ],
   "source": [
    "# investigate the most frequent terms\n",
    "tweets_google_freq <- google_tweets_tokenized %>% group_by(word) %>% # for this, we need to have the sum over all documents\n",
    "                      summarize(freq = n()) %>%\n",
    "                      arrange(-freq)                  # arrange = order; from most frequent term to lowest frequent\n",
    "head(tweets_google_freq)"
   ]
  },
  {
   "cell_type": "markdown",
   "metadata": {},
   "source": [
    "###### Removing https and t.co:"
   ]
  },
  {
   "cell_type": "code",
   "execution_count": 14,
   "metadata": {
    "scrolled": true
   },
   "outputs": [
    {
     "data": {
      "text/html": [
       "<table>\n",
       "<thead><tr><th scope=col>word</th></tr></thead>\n",
       "<tbody>\n",
       "\t<tr><td>t.co  </td></tr>\n",
       "\t<tr><td>https </td></tr>\n",
       "\t<tr><td>google</td></tr>\n",
       "</tbody>\n",
       "</table>\n"
      ],
      "text/latex": [
       "\\begin{tabular}{r|l}\n",
       " word\\\\\n",
       "\\hline\n",
       "\t t.co  \\\\\n",
       "\t https \\\\\n",
       "\t google\\\\\n",
       "\\end{tabular}\n"
      ],
      "text/markdown": [
       "\n",
       "| word |\n",
       "|---|\n",
       "| t.co   |\n",
       "| https  |\n",
       "| google |\n",
       "\n"
      ],
      "text/plain": [
       "  word  \n",
       "1 t.co  \n",
       "2 https \n",
       "3 google"
      ]
     },
     "metadata": {},
     "output_type": "display_data"
    }
   ],
   "source": [
    "# create a tibble with unwanted words (we took google out as obviously all thee twets contian the word google)\n",
    "tco <- tibble(\"word\"= c(\"t.co\", \"https\",\"google\"))\n",
    "tco"
   ]
  },
  {
   "cell_type": "code",
   "execution_count": 20,
   "metadata": {},
   "outputs": [
    {
     "data": {
      "text/html": [
       "<table class=\"dataframe\">\n",
       "<caption>A tibble: 2 × 3</caption>\n",
       "<thead>\n",
       "\t<tr><th scope=col>status_id</th><th scope=col>word</th><th scope=col>n</th></tr>\n",
       "\t<tr><th scope=col>&lt;chr&gt;</th><th scope=col>&lt;chr&gt;</th><th scope=col>&lt;int&gt;</th></tr>\n",
       "</thead>\n",
       "<tbody>\n",
       "\t<tr><td>x1222670515724222470</td><td>bruno    </td><td>1</td></tr>\n",
       "\t<tr><td>x1222670515724222470</td><td>fernandes</td><td>1</td></tr>\n",
       "</tbody>\n",
       "</table>\n"
      ],
      "text/latex": [
       "A tibble: 2 × 3\n",
       "\\begin{tabular}{lll}\n",
       " status\\_id & word & n\\\\\n",
       " <chr> & <chr> & <int>\\\\\n",
       "\\hline\n",
       "\t x1222670515724222470 & bruno     & 1\\\\\n",
       "\t x1222670515724222470 & fernandes & 1\\\\\n",
       "\\end{tabular}\n"
      ],
      "text/markdown": [
       "\n",
       "A tibble: 2 × 3\n",
       "\n",
       "| status_id &lt;chr&gt; | word &lt;chr&gt; | n &lt;int&gt; |\n",
       "|---|---|---|\n",
       "| x1222670515724222470 | bruno     | 1 |\n",
       "| x1222670515724222470 | fernandes | 1 |\n",
       "\n"
      ],
      "text/plain": [
       "  status_id            word      n\n",
       "1 x1222670515724222470 bruno     1\n",
       "2 x1222670515724222470 fernandes 1"
      ]
     },
     "execution_count": 20,
     "metadata": {},
     "output_type": "execute_result"
    }
   ],
   "source": [
    "head(google_tweets_tokenized, n=2)"
   ]
  },
  {
   "cell_type": "code",
   "execution_count": 15,
   "metadata": {
    "scrolled": true
   },
   "outputs": [
    {
     "name": "stderr",
     "output_type": "stream",
     "text": [
      "Joining, by = \"word\"\n"
     ]
    },
    {
     "data": {
      "text/html": [
       "<table>\n",
       "<thead><tr><th scope=col>status_id</th><th scope=col>word</th><th scope=col>n</th></tr></thead>\n",
       "<tbody>\n",
       "\t<tr><td>x1222670515724222470</td><td>bruno               </td><td>1                   </td></tr>\n",
       "\t<tr><td>x1222670515724222470</td><td>fernandes           </td><td>1                   </td></tr>\n",
       "\t<tr><td>x1222670515724222470</td><td>httpstcobupruxbxoo  </td><td>1                   </td></tr>\n",
       "\t<tr><td>x1222670515724222470</td><td>is                  </td><td>1                   </td></tr>\n",
       "\t<tr><td>x1222670515724222470</td><td>this                </td><td>1                   </td></tr>\n",
       "\t<tr><td>x1222670515724222470</td><td>to                  </td><td>1                   </td></tr>\n",
       "</tbody>\n",
       "</table>\n"
      ],
      "text/latex": [
       "\\begin{tabular}{r|lll}\n",
       " status\\_id & word & n\\\\\n",
       "\\hline\n",
       "\t x1222670515724222470 & bruno                & 1                   \\\\\n",
       "\t x1222670515724222470 & fernandes            & 1                   \\\\\n",
       "\t x1222670515724222470 & httpstcobupruxbxoo   & 1                   \\\\\n",
       "\t x1222670515724222470 & is                   & 1                   \\\\\n",
       "\t x1222670515724222470 & this                 & 1                   \\\\\n",
       "\t x1222670515724222470 & to                   & 1                   \\\\\n",
       "\\end{tabular}\n"
      ],
      "text/markdown": [
       "\n",
       "| status_id | word | n |\n",
       "|---|---|---|\n",
       "| x1222670515724222470 | bruno                | 1                    |\n",
       "| x1222670515724222470 | fernandes            | 1                    |\n",
       "| x1222670515724222470 | httpstcobupruxbxoo   | 1                    |\n",
       "| x1222670515724222470 | is                   | 1                    |\n",
       "| x1222670515724222470 | this                 | 1                    |\n",
       "| x1222670515724222470 | to                   | 1                    |\n",
       "\n"
      ],
      "text/plain": [
       "  status_id            word               n\n",
       "1 x1222670515724222470 bruno              1\n",
       "2 x1222670515724222470 fernandes          1\n",
       "3 x1222670515724222470 httpstcobupruxbxoo 1\n",
       "4 x1222670515724222470 is                 1\n",
       "5 x1222670515724222470 this               1\n",
       "6 x1222670515724222470 to                 1"
      ]
     },
     "metadata": {},
     "output_type": "display_data"
    }
   ],
   "source": [
    "# remove unwanted words\n",
    "google_tweets_tokenized <- google_tweets_tokenized %>%anti_join(tco)\n",
    "head(google_tweets_tokenized)"
   ]
  },
  {
   "cell_type": "code",
   "execution_count": 21,
   "metadata": {},
   "outputs": [
    {
     "name": "stderr",
     "output_type": "stream",
     "text": [
      "Joining, by = \"word\"\n",
      "\n"
     ]
    },
    {
     "data": {
      "text/html": [
       "<table class=\"dataframe\">\n",
       "<caption>A tibble: 6 × 2</caption>\n",
       "<thead>\n",
       "\t<tr><th scope=col>word</th><th scope=col>freq</th></tr>\n",
       "\t<tr><th scope=col>&lt;chr&gt;</th><th scope=col>&lt;int&gt;</th></tr>\n",
       "</thead>\n",
       "<tbody>\n",
       "\t<tr><td>can </td><td>156</td></tr>\n",
       "\t<tr><td>amp </td><td>103</td></tr>\n",
       "\t<tr><td>just</td><td> 87</td></tr>\n",
       "\t<tr><td>now </td><td> 83</td></tr>\n",
       "\t<tr><td>like</td><td> 73</td></tr>\n",
       "\t<tr><td>make</td><td> 69</td></tr>\n",
       "</tbody>\n",
       "</table>\n"
      ],
      "text/latex": [
       "A tibble: 6 × 2\n",
       "\\begin{tabular}{ll}\n",
       " word & freq\\\\\n",
       " <chr> & <int>\\\\\n",
       "\\hline\n",
       "\t can  & 156\\\\\n",
       "\t amp  & 103\\\\\n",
       "\t just &  87\\\\\n",
       "\t now  &  83\\\\\n",
       "\t like &  73\\\\\n",
       "\t make &  69\\\\\n",
       "\\end{tabular}\n"
      ],
      "text/markdown": [
       "\n",
       "A tibble: 6 × 2\n",
       "\n",
       "| word &lt;chr&gt; | freq &lt;int&gt; |\n",
       "|---|---|\n",
       "| can  | 156 |\n",
       "| amp  | 103 |\n",
       "| just |  87 |\n",
       "| now  |  83 |\n",
       "| like |  73 |\n",
       "| make |  69 |\n",
       "\n"
      ],
      "text/plain": [
       "  word freq\n",
       "1 can  156 \n",
       "2 amp  103 \n",
       "3 just  87 \n",
       "4 now   83 \n",
       "5 like  73 \n",
       "6 make  69 "
      ]
     },
     "execution_count": 21,
     "metadata": {},
     "output_type": "execute_result"
    }
   ],
   "source": [
    "tweets_google_freq <- tweets_google_freq %>% anti_join(tco)\n",
    "head(tweets_google_freq)"
   ]
  },
  {
   "cell_type": "markdown",
   "metadata": {},
   "source": [
    "###### Making WorldClouds:"
   ]
  },
  {
   "cell_type": "code",
   "execution_count": 16,
   "metadata": {},
   "outputs": [
    {
     "data": {
      "image/png": "[encoded data removed]",
      "text/plain": [
       "plot without title"
      ]
     },
     "metadata": {},
     "output_type": "display_data"
    },
    {
     "data": {
      "image/png": "[encoded data removed]",
      "text/plain": [
       "plot without title"
      ]
     },
     "metadata": {},
     "output_type": "display_data"
    }
   ],
   "source": [
    "# Word cloud based on the original text with no preprocessing\n",
    "tf <- termFreq(google_tweets$text)\n",
    "wordcloud(names(tf),tf,\n",
    "          max.words=40,\n",
    "          scale=c(3,1),\n",
    "          random.order=FALSE,\n",
    "          colors=brewer.pal(8, \"Dark2\"))\n",
    "\n",
    "# Word cloud based on the pre-processing\n",
    "wordcloud(tweets_google_freq$word, tweets_google_freq$freq,\n",
    "          max.words=40,\n",
    "          scale=c(3,1),\n",
    "          random.order=FALSE,\n",
    "          colors=brewer.pal(8, \"Dark2\"))"
   ]
  },
  {
   "cell_type": "code",
   "execution_count": 17,
   "metadata": {
    "scrolled": true
   },
   "outputs": [
    {
     "name": "stderr",
     "output_type": "stream",
     "text": [
      "Selecting by freq\n"
     ]
    },
    {
     "data": {
      "image/png": "[encoded data removed]",
      "text/plain": [
       "plot without title"
      ]
     },
     "metadata": {},
     "output_type": "display_data"
    }
   ],
   "source": [
    "# bar chart of the most frequent words found in the tweets\n",
    "tweets_google_freq %>% \n",
    "  top_n(15) %>%\n",
    "  mutate(word = reorder(word, freq)) %>%\n",
    "  ggplot(aes(x = word, y = freq)) +\n",
    "  geom_col(fill=\"blue\") +\n",
    "  xlab(NULL) +\n",
    "  coord_flip() +\n",
    "  labs(y = \"Frequency\",\n",
    "       x = \"Unique words\",\n",
    "       title = \"Most frequent words found in the tweets mentioning Google\",\n",
    "       subtitle = \"Stop words removed from the list\")"
   ]
  },
  {
   "cell_type": "code",
   "execution_count": 18,
   "metadata": {},
   "outputs": [
    {
     "data": {
      "text/plain": [
       "<<DocumentTermMatrix (documents: 1200, terms: 7833)>>\n",
       "Non-/sparse entries: 26561/9373039\n",
       "Sparsity           : 100%\n",
       "Maximal term length: 90\n",
       "Weighting          : term frequency (tf)"
      ]
     },
     "metadata": {},
     "output_type": "display_data"
    }
   ],
   "source": [
    "# Creating the Document Term Matrix with integrated tfidf\n",
    "tweets_google_DTM <- google_tweets_tokenized %>%\n",
    "                     count(status_id,word, sort=TRUE)%>%\n",
    "                     cast_dtm(document = status_id, term = word,\n",
    "                     value = n, weighting = tm::weightTf)\n",
    "tweets_google_DTM"
   ]
  },
  {
   "cell_type": "code",
   "execution_count": 24,
   "metadata": {
    "scrolled": true
   },
   "outputs": [
    {
     "name": "stdout",
     "output_type": "stream",
     "text": [
      "List of 6\n",
      " $ i       : int [1:26561] 1 1 1 1 7 32 33 36 38 42 ...\n",
      " $ j       : int [1:26561] 1 2 3 4 4 4 4 4 4 4 ...\n",
      " $ v       : num [1:26561] 1 1 1 1 1 1 1 1 1 1 ...\n",
      " $ nrow    : int 1200\n",
      " $ ncol    : int 7833\n",
      " $ dimnames:List of 2\n",
      "  ..$ Docs : chr [1:1200] \"x1222670515724222470\" \"x1222670521457954827\" \"x1222670522980413442\" \"x1222670523810877443\" ...\n",
      "  ..$ Terms: chr [1:7833] \"bruno\" \"fernandes\" \"httpstcobupruxbxoo\" \"is\" ...\n",
      " - attr(*, \"class\")= chr [1:2] \"DocumentTermMatrix\" \"simple_triplet_matrix\"\n",
      " - attr(*, \"weighting\")= chr [1:2] \"term frequency\" \"tf\"\n"
     ]
    }
   ],
   "source": [
    "# let's inspect this matrix's structure\n",
    "str(tweets_google_DTM )"
   ]
  },
  {
   "cell_type": "code",
   "execution_count": 25,
   "metadata": {},
   "outputs": [
    {
     "data": {
      "text/html": [
       "<strong>$google</strong> = "
      ],
      "text/latex": [
       "\\textbf{\\$google} = "
      ],
      "text/markdown": [
       "**$google** = "
      ],
      "text/plain": [
       "$google\n",
       "numeric(0)\n"
      ]
     },
     "metadata": {},
     "output_type": "display_data"
    }
   ],
   "source": [
    "#associations/correlations between words (this is with the dtm):\n",
    "findAssocs(tweets_google_DTM , terms = \"google\", corlimit = 0.10)"
   ]
  },
  {
   "cell_type": "markdown",
   "metadata": {},
   "source": [
    "###### Summary of Tweets mentioning Google:"
   ]
  },
  {
   "cell_type": "code",
   "execution_count": 21,
   "metadata": {},
   "outputs": [],
   "source": [
    "# Remove retweets\n",
    "tweets_google_from_organic <- google_tweets[google_tweets$is_retweet==FALSE, ]\n"
   ]
  },
  {
   "cell_type": "code",
   "execution_count": 22,
   "metadata": {},
   "outputs": [
    {
     "data": {
      "text/html": [
       "266"
      ],
      "text/latex": [
       "266"
      ],
      "text/markdown": [
       "266"
      ],
      "text/plain": [
       "[1] 266"
      ]
     },
     "metadata": {},
     "output_type": "display_data"
    }
   ],
   "source": [
    "# Remove replies\n",
    "tweets_google_from_organic <- subset(tweets_google_from_organic, is.na(tweets_google_from_organic$reply_to_status_id))\n",
    "nrow(tweets_google_from_organic)"
   ]
  },
  {
   "cell_type": "markdown",
   "metadata": {},
   "source": [
    " Tweets with the best engagement:"
   ]
  },
  {
   "cell_type": "code",
   "execution_count": 26,
   "metadata": {},
   "outputs": [
    {
     "data": {
      "text/html": [
       "<ol class=list-inline>\n",
       "\t<li>'user_id'</li>\n",
       "\t<li>'status_id'</li>\n",
       "\t<li>'created_at'</li>\n",
       "\t<li>'screen_name'</li>\n",
       "\t<li>'text'</li>\n",
       "\t<li>'source'</li>\n",
       "\t<li>'display_text_width'</li>\n",
       "\t<li>'reply_to_status_id'</li>\n",
       "\t<li>'reply_to_user_id'</li>\n",
       "\t<li>'reply_to_screen_name'</li>\n",
       "\t<li>'is_quote'</li>\n",
       "\t<li>'is_retweet'</li>\n",
       "\t<li>'favorite_count'</li>\n",
       "\t<li>'retweet_count'</li>\n",
       "\t<li>'quote_count'</li>\n",
       "\t<li>'reply_count'</li>\n",
       "\t<li>'hashtags'</li>\n",
       "\t<li>'symbols'</li>\n",
       "\t<li>'urls_url'</li>\n",
       "\t<li>'urls_t.co'</li>\n",
       "\t<li>'urls_expanded_url'</li>\n",
       "\t<li>'media_url'</li>\n",
       "\t<li>'media_t.co'</li>\n",
       "\t<li>'media_expanded_url'</li>\n",
       "\t<li>'media_type'</li>\n",
       "\t<li>'ext_media_url'</li>\n",
       "\t<li>'ext_media_t.co'</li>\n",
       "\t<li>'ext_media_expanded_url'</li>\n",
       "\t<li>'ext_media_type'</li>\n",
       "\t<li>'mentions_user_id'</li>\n",
       "\t<li>'mentions_screen_name'</li>\n",
       "\t<li>'lang'</li>\n",
       "\t<li>'quoted_status_id'</li>\n",
       "\t<li>'quoted_text'</li>\n",
       "\t<li>'quoted_created_at'</li>\n",
       "\t<li>'quoted_source'</li>\n",
       "\t<li>'quoted_favorite_count'</li>\n",
       "\t<li>'quoted_retweet_count'</li>\n",
       "\t<li>'quoted_user_id'</li>\n",
       "\t<li>'quoted_screen_name'</li>\n",
       "\t<li>'quoted_name'</li>\n",
       "\t<li>'quoted_followers_count'</li>\n",
       "\t<li>'quoted_friends_count'</li>\n",
       "\t<li>'quoted_statuses_count'</li>\n",
       "\t<li>'quoted_location'</li>\n",
       "\t<li>'quoted_description'</li>\n",
       "\t<li>'quoted_verified'</li>\n",
       "\t<li>'retweet_status_id'</li>\n",
       "\t<li>'retweet_text'</li>\n",
       "\t<li>'retweet_created_at'</li>\n",
       "\t<li>'retweet_source'</li>\n",
       "\t<li>'retweet_favorite_count'</li>\n",
       "\t<li>'retweet_retweet_count'</li>\n",
       "\t<li>'retweet_user_id'</li>\n",
       "\t<li>'retweet_screen_name'</li>\n",
       "\t<li>'retweet_name'</li>\n",
       "\t<li>'retweet_followers_count'</li>\n",
       "\t<li>'retweet_friends_count'</li>\n",
       "\t<li>'retweet_statuses_count'</li>\n",
       "\t<li>'retweet_location'</li>\n",
       "\t<li>'retweet_description'</li>\n",
       "\t<li>'retweet_verified'</li>\n",
       "\t<li>'place_url'</li>\n",
       "\t<li>'place_name'</li>\n",
       "\t<li>'place_full_name'</li>\n",
       "\t<li>'place_type'</li>\n",
       "\t<li>'country'</li>\n",
       "\t<li>'country_code'</li>\n",
       "\t<li>'geo_coords'</li>\n",
       "\t<li>'coords_coords'</li>\n",
       "\t<li>'bbox_coords'</li>\n",
       "\t<li>'status_url'</li>\n",
       "\t<li>'name'</li>\n",
       "\t<li>'location'</li>\n",
       "\t<li>'description'</li>\n",
       "\t<li>'url'</li>\n",
       "\t<li>'protected'</li>\n",
       "\t<li>'followers_count'</li>\n",
       "\t<li>'friends_count'</li>\n",
       "\t<li>'listed_count'</li>\n",
       "\t<li>'statuses_count'</li>\n",
       "\t<li>'favourites_count'</li>\n",
       "\t<li>'account_created_at'</li>\n",
       "\t<li>'verified'</li>\n",
       "\t<li>'profile_url'</li>\n",
       "\t<li>'profile_expanded_url'</li>\n",
       "\t<li>'account_lang'</li>\n",
       "\t<li>'profile_banner_url'</li>\n",
       "\t<li>'profile_background_url'</li>\n",
       "\t<li>'profile_image_url'</li>\n",
       "</ol>\n"
      ],
      "text/latex": [
       "\\begin{enumerate*}\n",
       "\\item 'user\\_id'\n",
       "\\item 'status\\_id'\n",
       "\\item 'created\\_at'\n",
       "\\item 'screen\\_name'\n",
       "\\item 'text'\n",
       "\\item 'source'\n",
       "\\item 'display\\_text\\_width'\n",
       "\\item 'reply\\_to\\_status\\_id'\n",
       "\\item 'reply\\_to\\_user\\_id'\n",
       "\\item 'reply\\_to\\_screen\\_name'\n",
       "\\item 'is\\_quote'\n",
       "\\item 'is\\_retweet'\n",
       "\\item 'favorite\\_count'\n",
       "\\item 'retweet\\_count'\n",
       "\\item 'quote\\_count'\n",
       "\\item 'reply\\_count'\n",
       "\\item 'hashtags'\n",
       "\\item 'symbols'\n",
       "\\item 'urls\\_url'\n",
       "\\item 'urls\\_t.co'\n",
       "\\item 'urls\\_expanded\\_url'\n",
       "\\item 'media\\_url'\n",
       "\\item 'media\\_t.co'\n",
       "\\item 'media\\_expanded\\_url'\n",
       "\\item 'media\\_type'\n",
       "\\item 'ext\\_media\\_url'\n",
       "\\item 'ext\\_media\\_t.co'\n",
       "\\item 'ext\\_media\\_expanded\\_url'\n",
       "\\item 'ext\\_media\\_type'\n",
       "\\item 'mentions\\_user\\_id'\n",
       "\\item 'mentions\\_screen\\_name'\n",
       "\\item 'lang'\n",
       "\\item 'quoted\\_status\\_id'\n",
       "\\item 'quoted\\_text'\n",
       "\\item 'quoted\\_created\\_at'\n",
       "\\item 'quoted\\_source'\n",
       "\\item 'quoted\\_favorite\\_count'\n",
       "\\item 'quoted\\_retweet\\_count'\n",
       "\\item 'quoted\\_user\\_id'\n",
       "\\item 'quoted\\_screen\\_name'\n",
       "\\item 'quoted\\_name'\n",
       "\\item 'quoted\\_followers\\_count'\n",
       "\\item 'quoted\\_friends\\_count'\n",
       "\\item 'quoted\\_statuses\\_count'\n",
       "\\item 'quoted\\_location'\n",
       "\\item 'quoted\\_description'\n",
       "\\item 'quoted\\_verified'\n",
       "\\item 'retweet\\_status\\_id'\n",
       "\\item 'retweet\\_text'\n",
       "\\item 'retweet\\_created\\_at'\n",
       "\\item 'retweet\\_source'\n",
       "\\item 'retweet\\_favorite\\_count'\n",
       "\\item 'retweet\\_retweet\\_count'\n",
       "\\item 'retweet\\_user\\_id'\n",
       "\\item 'retweet\\_screen\\_name'\n",
       "\\item 'retweet\\_name'\n",
       "\\item 'retweet\\_followers\\_count'\n",
       "\\item 'retweet\\_friends\\_count'\n",
       "\\item 'retweet\\_statuses\\_count'\n",
       "\\item 'retweet\\_location'\n",
       "\\item 'retweet\\_description'\n",
       "\\item 'retweet\\_verified'\n",
       "\\item 'place\\_url'\n",
       "\\item 'place\\_name'\n",
       "\\item 'place\\_full\\_name'\n",
       "\\item 'place\\_type'\n",
       "\\item 'country'\n",
       "\\item 'country\\_code'\n",
       "\\item 'geo\\_coords'\n",
       "\\item 'coords\\_coords'\n",
       "\\item 'bbox\\_coords'\n",
       "\\item 'status\\_url'\n",
       "\\item 'name'\n",
       "\\item 'location'\n",
       "\\item 'description'\n",
       "\\item 'url'\n",
       "\\item 'protected'\n",
       "\\item 'followers\\_count'\n",
       "\\item 'friends\\_count'\n",
       "\\item 'listed\\_count'\n",
       "\\item 'statuses\\_count'\n",
       "\\item 'favourites\\_count'\n",
       "\\item 'account\\_created\\_at'\n",
       "\\item 'verified'\n",
       "\\item 'profile\\_url'\n",
       "\\item 'profile\\_expanded\\_url'\n",
       "\\item 'account\\_lang'\n",
       "\\item 'profile\\_banner\\_url'\n",
       "\\item 'profile\\_background\\_url'\n",
       "\\item 'profile\\_image\\_url'\n",
       "\\end{enumerate*}\n"
      ],
      "text/markdown": [
       "1. 'user_id'\n",
       "2. 'status_id'\n",
       "3. 'created_at'\n",
       "4. 'screen_name'\n",
       "5. 'text'\n",
       "6. 'source'\n",
       "7. 'display_text_width'\n",
       "8. 'reply_to_status_id'\n",
       "9. 'reply_to_user_id'\n",
       "10. 'reply_to_screen_name'\n",
       "11. 'is_quote'\n",
       "12. 'is_retweet'\n",
       "13. 'favorite_count'\n",
       "14. 'retweet_count'\n",
       "15. 'quote_count'\n",
       "16. 'reply_count'\n",
       "17. 'hashtags'\n",
       "18. 'symbols'\n",
       "19. 'urls_url'\n",
       "20. 'urls_t.co'\n",
       "21. 'urls_expanded_url'\n",
       "22. 'media_url'\n",
       "23. 'media_t.co'\n",
       "24. 'media_expanded_url'\n",
       "25. 'media_type'\n",
       "26. 'ext_media_url'\n",
       "27. 'ext_media_t.co'\n",
       "28. 'ext_media_expanded_url'\n",
       "29. 'ext_media_type'\n",
       "30. 'mentions_user_id'\n",
       "31. 'mentions_screen_name'\n",
       "32. 'lang'\n",
       "33. 'quoted_status_id'\n",
       "34. 'quoted_text'\n",
       "35. 'quoted_created_at'\n",
       "36. 'quoted_source'\n",
       "37. 'quoted_favorite_count'\n",
       "38. 'quoted_retweet_count'\n",
       "39. 'quoted_user_id'\n",
       "40. 'quoted_screen_name'\n",
       "41. 'quoted_name'\n",
       "42. 'quoted_followers_count'\n",
       "43. 'quoted_friends_count'\n",
       "44. 'quoted_statuses_count'\n",
       "45. 'quoted_location'\n",
       "46. 'quoted_description'\n",
       "47. 'quoted_verified'\n",
       "48. 'retweet_status_id'\n",
       "49. 'retweet_text'\n",
       "50. 'retweet_created_at'\n",
       "51. 'retweet_source'\n",
       "52. 'retweet_favorite_count'\n",
       "53. 'retweet_retweet_count'\n",
       "54. 'retweet_user_id'\n",
       "55. 'retweet_screen_name'\n",
       "56. 'retweet_name'\n",
       "57. 'retweet_followers_count'\n",
       "58. 'retweet_friends_count'\n",
       "59. 'retweet_statuses_count'\n",
       "60. 'retweet_location'\n",
       "61. 'retweet_description'\n",
       "62. 'retweet_verified'\n",
       "63. 'place_url'\n",
       "64. 'place_name'\n",
       "65. 'place_full_name'\n",
       "66. 'place_type'\n",
       "67. 'country'\n",
       "68. 'country_code'\n",
       "69. 'geo_coords'\n",
       "70. 'coords_coords'\n",
       "71. 'bbox_coords'\n",
       "72. 'status_url'\n",
       "73. 'name'\n",
       "74. 'location'\n",
       "75. 'description'\n",
       "76. 'url'\n",
       "77. 'protected'\n",
       "78. 'followers_count'\n",
       "79. 'friends_count'\n",
       "80. 'listed_count'\n",
       "81. 'statuses_count'\n",
       "82. 'favourites_count'\n",
       "83. 'account_created_at'\n",
       "84. 'verified'\n",
       "85. 'profile_url'\n",
       "86. 'profile_expanded_url'\n",
       "87. 'account_lang'\n",
       "88. 'profile_banner_url'\n",
       "89. 'profile_background_url'\n",
       "90. 'profile_image_url'\n",
       "\n",
       "\n"
      ],
      "text/plain": [
       " [1] \"user_id\"                 \"status_id\"              \n",
       " [3] \"created_at\"              \"screen_name\"            \n",
       " [5] \"text\"                    \"source\"                 \n",
       " [7] \"display_text_width\"      \"reply_to_status_id\"     \n",
       " [9] \"reply_to_user_id\"        \"reply_to_screen_name\"   \n",
       "[11] \"is_quote\"                \"is_retweet\"             \n",
       "[13] \"favorite_count\"          \"retweet_count\"          \n",
       "[15] \"quote_count\"             \"reply_count\"            \n",
       "[17] \"hashtags\"                \"symbols\"                \n",
       "[19] \"urls_url\"                \"urls_t.co\"              \n",
       "[21] \"urls_expanded_url\"       \"media_url\"              \n",
       "[23] \"media_t.co\"              \"media_expanded_url\"     \n",
       "[25] \"media_type\"              \"ext_media_url\"          \n",
       "[27] \"ext_media_t.co\"          \"ext_media_expanded_url\" \n",
       "[29] \"ext_media_type\"          \"mentions_user_id\"       \n",
       "[31] \"mentions_screen_name\"    \"lang\"                   \n",
       "[33] \"quoted_status_id\"        \"quoted_text\"            \n",
       "[35] \"quoted_created_at\"       \"quoted_source\"          \n",
       "[37] \"quoted_favorite_count\"   \"quoted_retweet_count\"   \n",
       "[39] \"quoted_user_id\"          \"quoted_screen_name\"     \n",
       "[41] \"quoted_name\"             \"quoted_followers_count\" \n",
       "[43] \"quoted_friends_count\"    \"quoted_statuses_count\"  \n",
       "[45] \"quoted_location\"         \"quoted_description\"     \n",
       "[47] \"quoted_verified\"         \"retweet_status_id\"      \n",
       "[49] \"retweet_text\"            \"retweet_created_at\"     \n",
       "[51] \"retweet_source\"          \"retweet_favorite_count\" \n",
       "[53] \"retweet_retweet_count\"   \"retweet_user_id\"        \n",
       "[55] \"retweet_screen_name\"     \"retweet_name\"           \n",
       "[57] \"retweet_followers_count\" \"retweet_friends_count\"  \n",
       "[59] \"retweet_statuses_count\"  \"retweet_location\"       \n",
       "[61] \"retweet_description\"     \"retweet_verified\"       \n",
       "[63] \"place_url\"               \"place_name\"             \n",
       "[65] \"place_full_name\"         \"place_type\"             \n",
       "[67] \"country\"                 \"country_code\"           \n",
       "[69] \"geo_coords\"              \"coords_coords\"          \n",
       "[71] \"bbox_coords\"             \"status_url\"             \n",
       "[73] \"name\"                    \"location\"               \n",
       "[75] \"description\"             \"url\"                    \n",
       "[77] \"protected\"               \"followers_count\"        \n",
       "[79] \"friends_count\"           \"listed_count\"           \n",
       "[81] \"statuses_count\"          \"favourites_count\"       \n",
       "[83] \"account_created_at\"      \"verified\"               \n",
       "[85] \"profile_url\"             \"profile_expanded_url\"   \n",
       "[87] \"account_lang\"            \"profile_banner_url\"     \n",
       "[89] \"profile_background_url\"  \"profile_image_url\"      "
      ]
     },
     "metadata": {},
     "output_type": "display_data"
    }
   ],
   "source": [
    "colnames(tweets_google_from_organic)"
   ]
  },
  {
   "cell_type": "code",
   "execution_count": 31,
   "metadata": {},
   "outputs": [
    {
     "data": {
      "text/html": [
       "5"
      ],
      "text/latex": [
       "5"
      ],
      "text/markdown": [
       "5"
      ],
      "text/plain": [
       "[1] 5"
      ]
     },
     "execution_count": 31,
     "metadata": {},
     "output_type": "execute_result"
    }
   ],
   "source": [
    "# average number of likes per tweet\n",
    "average<-as.integer(mean(tweets_google_from_organic$favorite_count))\n",
    "average"
   ]
  },
  {
   "cell_type": "code",
   "execution_count": 32,
   "metadata": {},
   "outputs": [
    {
     "data": {
      "text/html": [
       "2"
      ],
      "text/latex": [
       "2"
      ],
      "text/markdown": [
       "2"
      ],
      "text/plain": [
       "[1] 2"
      ]
     },
     "execution_count": 32,
     "metadata": {},
     "output_type": "execute_result"
    }
   ],
   "source": [
    "# average number of retweet per tweet \n",
    "average<-as.integer(mean(tweets_google_from_organic$retweet_count))\n",
    "average"
   ]
  },
  {
   "cell_type": "code",
   "execution_count": 33,
   "metadata": {},
   "outputs": [
    {
     "data": {
      "text/html": [
       "<table class=\"dataframe\">\n",
       "<caption>A tibble: 1 × 6</caption>\n",
       "<thead>\n",
       "\t<tr><th scope=col>user_id</th><th scope=col>status_id</th><th scope=col>created_at</th><th scope=col>screen_name</th><th scope=col>text</th><th scope=col>source</th></tr>\n",
       "\t<tr><th scope=col>&lt;chr&gt;</th><th scope=col>&lt;chr&gt;</th><th scope=col>&lt;dttm&gt;</th><th scope=col>&lt;chr&gt;</th><th scope=col>&lt;chr&gt;</th><th scope=col>&lt;chr&gt;</th></tr>\n",
       "</thead>\n",
       "<tbody>\n",
       "\t<tr><td>x2919019624</td><td>x1222670651581923329</td><td>2020-01-29 23:59:34</td><td>pannchoa</td><td>Inner Circle protest against YGs mistreatment towards Winner with a LED truck\n",
       "httpstcoPBdEuFj httpstcoqDblWQKVf</td><td>Twitter Web App</td></tr>\n",
       "</tbody>\n",
       "</table>\n"
      ],
      "text/latex": [
       "A tibble: 1 × 6\n",
       "\\begin{tabular}{llllll}\n",
       " user\\_id & status\\_id & created\\_at & screen\\_name & text & source\\\\\n",
       " <chr> & <chr> & <dttm> & <chr> & <chr> & <chr>\\\\\n",
       "\\hline\n",
       "\t x2919019624 & x1222670651581923329 & 2020-01-29 23:59:34 & pannchoa & Inner Circle protest against YGs mistreatment towards Winner with a LED truck\n",
       "httpstcoPBdEuFj httpstcoqDblWQKVf & Twitter Web App\\\\\n",
       "\\end{tabular}\n"
      ],
      "text/markdown": [
       "\n",
       "A tibble: 1 × 6\n",
       "\n",
       "| user_id &lt;chr&gt; | status_id &lt;chr&gt; | created_at &lt;dttm&gt; | screen_name &lt;chr&gt; | text &lt;chr&gt; | source &lt;chr&gt; |\n",
       "|---|---|---|---|---|---|\n",
       "| x2919019624 | x1222670651581923329 | 2020-01-29 23:59:34 | pannchoa | Inner Circle protest against YGs mistreatment towards Winner with a LED truck\n",
       "httpstcoPBdEuFj httpstcoqDblWQKVf | Twitter Web App |\n",
       "\n"
      ],
      "text/plain": [
       "  user_id     status_id            created_at          screen_name\n",
       "1 x2919019624 x1222670651581923329 2020-01-29 23:59:34 pannchoa   \n",
       "  text                                                                                                            \n",
       "1 Inner Circle protest against YGs mistreatment towards Winner with a LED truck\\nhttpstcoPBdEuFj httpstcoqDblWQKVf\n",
       "  source         \n",
       "1 Twitter Web App"
      ]
     },
     "execution_count": 33,
     "metadata": {},
     "output_type": "execute_result"
    },
    {
     "data": {
      "text/html": [
       "<table class=\"dataframe\">\n",
       "<caption>A tibble: 1 × 1</caption>\n",
       "<thead>\n",
       "\t<tr><th scope=col>favorite_count</th></tr>\n",
       "\t<tr><th scope=col>&lt;dbl&gt;</th></tr>\n",
       "</thead>\n",
       "<tbody>\n",
       "\t<tr><td>547</td></tr>\n",
       "</tbody>\n",
       "</table>\n"
      ],
      "text/latex": [
       "A tibble: 1 × 1\n",
       "\\begin{tabular}{l}\n",
       " favorite\\_count\\\\\n",
       " <dbl>\\\\\n",
       "\\hline\n",
       "\t 547\\\\\n",
       "\\end{tabular}\n"
      ],
      "text/markdown": [
       "\n",
       "A tibble: 1 × 1\n",
       "\n",
       "| favorite_count &lt;dbl&gt; |\n",
       "|---|\n",
       "| 547 |\n",
       "\n"
      ],
      "text/plain": [
       "  favorite_count\n",
       "1 547           "
      ]
     },
     "execution_count": 33,
     "metadata": {},
     "output_type": "execute_result"
    }
   ],
   "source": [
    "#tweets with highest favourite/like count\n",
    "\n",
    "tweets_google_from_organic <- tweets_google_from_organic%>% arrange(desc(favorite_count))\n",
    "tweets_google_from_organic[1,1:6]\n",
    "tweets_google_from_organic[1,'favorite_count']"
   ]
  },
  {
   "cell_type": "code",
   "execution_count": 34,
   "metadata": {},
   "outputs": [
    {
     "data": {
      "text/html": [
       "<table class=\"dataframe\">\n",
       "<caption>A tibble: 1 × 6</caption>\n",
       "<thead>\n",
       "\t<tr><th scope=col>user_id</th><th scope=col>status_id</th><th scope=col>created_at</th><th scope=col>screen_name</th><th scope=col>text</th><th scope=col>source</th></tr>\n",
       "\t<tr><th scope=col>&lt;chr&gt;</th><th scope=col>&lt;chr&gt;</th><th scope=col>&lt;dttm&gt;</th><th scope=col>&lt;chr&gt;</th><th scope=col>&lt;chr&gt;</th><th scope=col>&lt;chr&gt;</th></tr>\n",
       "</thead>\n",
       "<tbody>\n",
       "\t<tr><td>x2919019624</td><td>x1222670651581923329</td><td>2020-01-29 23:59:34</td><td>pannchoa</td><td>Inner Circle protest against YGs mistreatment towards Winner with a LED truck\n",
       "httpstcoPBdEuFj httpstcoqDblWQKVf</td><td>Twitter Web App</td></tr>\n",
       "</tbody>\n",
       "</table>\n"
      ],
      "text/latex": [
       "A tibble: 1 × 6\n",
       "\\begin{tabular}{llllll}\n",
       " user\\_id & status\\_id & created\\_at & screen\\_name & text & source\\\\\n",
       " <chr> & <chr> & <dttm> & <chr> & <chr> & <chr>\\\\\n",
       "\\hline\n",
       "\t x2919019624 & x1222670651581923329 & 2020-01-29 23:59:34 & pannchoa & Inner Circle protest against YGs mistreatment towards Winner with a LED truck\n",
       "httpstcoPBdEuFj httpstcoqDblWQKVf & Twitter Web App\\\\\n",
       "\\end{tabular}\n"
      ],
      "text/markdown": [
       "\n",
       "A tibble: 1 × 6\n",
       "\n",
       "| user_id &lt;chr&gt; | status_id &lt;chr&gt; | created_at &lt;dttm&gt; | screen_name &lt;chr&gt; | text &lt;chr&gt; | source &lt;chr&gt; |\n",
       "|---|---|---|---|---|---|\n",
       "| x2919019624 | x1222670651581923329 | 2020-01-29 23:59:34 | pannchoa | Inner Circle protest against YGs mistreatment towards Winner with a LED truck\n",
       "httpstcoPBdEuFj httpstcoqDblWQKVf | Twitter Web App |\n",
       "\n"
      ],
      "text/plain": [
       "  user_id     status_id            created_at          screen_name\n",
       "1 x2919019624 x1222670651581923329 2020-01-29 23:59:34 pannchoa   \n",
       "  text                                                                                                            \n",
       "1 Inner Circle protest against YGs mistreatment towards Winner with a LED truck\\nhttpstcoPBdEuFj httpstcoqDblWQKVf\n",
       "  source         \n",
       "1 Twitter Web App"
      ]
     },
     "execution_count": 34,
     "metadata": {},
     "output_type": "execute_result"
    },
    {
     "data": {
      "text/html": [
       "<table class=\"dataframe\">\n",
       "<caption>A tibble: 1 × 1</caption>\n",
       "<thead>\n",
       "\t<tr><th scope=col>retweet_count</th></tr>\n",
       "\t<tr><th scope=col>&lt;dbl&gt;</th></tr>\n",
       "</thead>\n",
       "<tbody>\n",
       "\t<tr><td>210</td></tr>\n",
       "</tbody>\n",
       "</table>\n"
      ],
      "text/latex": [
       "A tibble: 1 × 1\n",
       "\\begin{tabular}{l}\n",
       " retweet\\_count\\\\\n",
       " <dbl>\\\\\n",
       "\\hline\n",
       "\t 210\\\\\n",
       "\\end{tabular}\n"
      ],
      "text/markdown": [
       "\n",
       "A tibble: 1 × 1\n",
       "\n",
       "| retweet_count &lt;dbl&gt; |\n",
       "|---|\n",
       "| 210 |\n",
       "\n"
      ],
      "text/plain": [
       "  retweet_count\n",
       "1 210          "
      ]
     },
     "execution_count": 34,
     "metadata": {},
     "output_type": "execute_result"
    }
   ],
   "source": [
    "#tweets with highest retweets count\n",
    "tweets_google_from_organic <- tweets_google_from_organic%>% arrange(desc(retweet_count))\n",
    "tweets_google_from_organic[1,1:6]\n",
    "tweets_google_from_organic[1,'retweet_count']"
   ]
  },
  {
   "cell_type": "markdown",
   "metadata": {},
   "source": [
    "###### Type of Tweets:"
   ]
  },
  {
   "cell_type": "code",
   "execution_count": 35,
   "metadata": {},
   "outputs": [
    {
     "data": {
      "text/html": [
       "667"
      ],
      "text/latex": [
       "667"
      ],
      "text/markdown": [
       "667"
      ],
      "text/plain": [
       "[1] 667"
      ]
     },
     "execution_count": 35,
     "metadata": {},
     "output_type": "execute_result"
    }
   ],
   "source": [
    "# Keeping only the retweets\n",
    "tweets_from_google_retweets <- google_tweets[google_tweets$is_retweet==TRUE,]\n",
    "nrow(tweets_from_google_retweets)"
   ]
  },
  {
   "cell_type": "code",
   "execution_count": 36,
   "metadata": {},
   "outputs": [
    {
     "data": {
      "text/html": [
       "267"
      ],
      "text/latex": [
       "267"
      ],
      "text/markdown": [
       "267"
      ],
      "text/plain": [
       "[1] 267"
      ]
     },
     "execution_count": 36,
     "metadata": {},
     "output_type": "execute_result"
    }
   ],
   "source": [
    "# Keeping only the replies\n",
    "tweets_from_google_retweets <- subset(google_tweets, !is.na(google_tweets$reply_to_status_id))\n",
    "nrow(tweets_from_google_retweets)"
   ]
  },
  {
   "cell_type": "code",
   "execution_count": 37,
   "metadata": {},
   "outputs": [
    {
     "data": {
      "text/html": [
       "<table class=\"dataframe\">\n",
       "<caption>A data.frame: 3 × 2</caption>\n",
       "<thead>\n",
       "\t<tr><th scope=col>category</th><th scope=col>count</th></tr>\n",
       "\t<tr><th scope=col>&lt;chr&gt;</th><th scope=col>&lt;dbl&gt;</th></tr>\n",
       "</thead>\n",
       "<tbody>\n",
       "\t<tr><td>Organic </td><td>266</td></tr>\n",
       "\t<tr><td>Retweets</td><td>667</td></tr>\n",
       "\t<tr><td>Replies </td><td>267</td></tr>\n",
       "</tbody>\n",
       "</table>\n"
      ],
      "text/latex": [
       "A data.frame: 3 × 2\n",
       "\\begin{tabular}{ll}\n",
       " category & count\\\\\n",
       " <chr> & <dbl>\\\\\n",
       "\\hline\n",
       "\t Organic  & 266\\\\\n",
       "\t Retweets & 667\\\\\n",
       "\t Replies  & 267\\\\\n",
       "\\end{tabular}\n"
      ],
      "text/markdown": [
       "\n",
       "A data.frame: 3 × 2\n",
       "\n",
       "| category &lt;chr&gt; | count &lt;dbl&gt; |\n",
       "|---|---|\n",
       "| Organic  | 266 |\n",
       "| Retweets | 667 |\n",
       "| Replies  | 267 |\n",
       "\n"
      ],
      "text/plain": [
       "  category count\n",
       "1 Organic  266  \n",
       "2 Retweets 667  \n",
       "3 Replies  267  "
      ]
     },
     "execution_count": 37,
     "metadata": {},
     "output_type": "execute_result"
    }
   ],
   "source": [
    "# Creating a data frame base on the observations count for retweets, replies and organic tweets\n",
    "data_google2 <- data.frame(\n",
    "  category=c(\"Organic\", \"Retweets\", \"Replies\"),\n",
    "  count=c(266, 667, 267)\n",
    ")\n",
    "\n",
    "data_google2"
   ]
  },
  {
   "cell_type": "code",
   "execution_count": 38,
   "metadata": {},
   "outputs": [
    {
     "data": {
      "image/png": "[encoded data removed]",
      "text/plain": [
       "plot without title"
      ]
     },
     "execution_count": 38,
     "metadata": {
      "image/png": {
       "height": 420,
       "width": 420
      }
     },
     "output_type": "execute_result"
    }
   ],
   "source": [
    "# Adding columns\n",
    "data_google2$fraction = data_google2$count / sum(data_google2$count)\n",
    "data_google2$percentage = data_google2$count / sum(data_google2$count) * 100\n",
    "data_google2$ymax = cumsum(data_google2$fraction)\n",
    "data_google2$ymin = c(0, head(data_google2$ymax, n=-1))\n",
    "# Rounding the data to two decimal points\n",
    "data_google2[,-1] <- round(data_google2[,-1], 2)\n",
    "# Specify what the legend should say\n",
    "Type_of_Tweet <- paste(data_google2$category, data_google2$percentage, \"%\")\n",
    "ggplot(data_google2, aes(ymax=ymax, ymin=ymin, xmax=4, xmin=3, fill=Type_of_Tweet)) +\n",
    "  geom_rect() +\n",
    "  coord_polar(theta=\"y\") + \n",
    "  xlim(c(2, 4)) +\n",
    "  theme_void() +\n",
    "  theme(legend.position = \"right\")"
   ]
  },
  {
   "cell_type": "code",
   "execution_count": 39,
   "metadata": {},
   "outputs": [
    {
     "data": {
      "text/html": [
       "<table class=\"dataframe\">\n",
       "<caption>A data.frame: 3 × 6</caption>\n",
       "<thead>\n",
       "\t<tr><th scope=col>category</th><th scope=col>count</th><th scope=col>fraction</th><th scope=col>percentage</th><th scope=col>ymax</th><th scope=col>ymin</th></tr>\n",
       "\t<tr><th scope=col>&lt;chr&gt;</th><th scope=col>&lt;dbl&gt;</th><th scope=col>&lt;dbl&gt;</th><th scope=col>&lt;dbl&gt;</th><th scope=col>&lt;dbl&gt;</th><th scope=col>&lt;dbl&gt;</th></tr>\n",
       "</thead>\n",
       "<tbody>\n",
       "\t<tr><td>Organic </td><td>266</td><td>0.22</td><td>22.17</td><td>0.22</td><td>0.00</td></tr>\n",
       "\t<tr><td>Retweets</td><td>667</td><td>0.56</td><td>55.58</td><td>0.78</td><td>0.22</td></tr>\n",
       "\t<tr><td>Replies </td><td>267</td><td>0.22</td><td>22.25</td><td>1.00</td><td>0.78</td></tr>\n",
       "</tbody>\n",
       "</table>\n"
      ],
      "text/latex": [
       "A data.frame: 3 × 6\n",
       "\\begin{tabular}{llllll}\n",
       " category & count & fraction & percentage & ymax & ymin\\\\\n",
       " <chr> & <dbl> & <dbl> & <dbl> & <dbl> & <dbl>\\\\\n",
       "\\hline\n",
       "\t Organic  & 266 & 0.22 & 22.17 & 0.22 & 0.00\\\\\n",
       "\t Retweets & 667 & 0.56 & 55.58 & 0.78 & 0.22\\\\\n",
       "\t Replies  & 267 & 0.22 & 22.25 & 1.00 & 0.78\\\\\n",
       "\\end{tabular}\n"
      ],
      "text/markdown": [
       "\n",
       "A data.frame: 3 × 6\n",
       "\n",
       "| category &lt;chr&gt; | count &lt;dbl&gt; | fraction &lt;dbl&gt; | percentage &lt;dbl&gt; | ymax &lt;dbl&gt; | ymin &lt;dbl&gt; |\n",
       "|---|---|---|---|---|---|\n",
       "| Organic  | 266 | 0.22 | 22.17 | 0.22 | 0.00 |\n",
       "| Retweets | 667 | 0.56 | 55.58 | 0.78 | 0.22 |\n",
       "| Replies  | 267 | 0.22 | 22.25 | 1.00 | 0.78 |\n",
       "\n"
      ],
      "text/plain": [
       "  category count fraction percentage ymax ymin\n",
       "1 Organic  266   0.22     22.17      0.22 0.00\n",
       "2 Retweets 667   0.56     55.58      0.78 0.22\n",
       "3 Replies  267   0.22     22.25      1.00 0.78"
      ]
     },
     "execution_count": 39,
     "metadata": {},
     "output_type": "execute_result"
    }
   ],
   "source": [
    "data_google2"
   ]
  },
  {
   "cell_type": "markdown",
   "metadata": {},
   "source": [
    "###### Frequency of Tweets:"
   ]
  },
  {
   "cell_type": "markdown",
   "metadata": {},
   "source": [
    "###### Source of Tweets:"
   ]
  },
  {
   "cell_type": "code",
   "execution_count": 40,
   "metadata": {},
   "outputs": [
    {
     "name": "stderr",
     "output_type": "stream",
     "text": [
      "Selecting by count\n",
      "\n"
     ]
    },
    {
     "data": {
      "text/html": [
       "<table class=\"dataframe\">\n",
       "<caption>A tibble: 10 × 2</caption>\n",
       "<thead>\n",
       "\t<tr><th scope=col>source</th><th scope=col>count</th></tr>\n",
       "\t<tr><th scope=col>&lt;chr&gt;</th><th scope=col>&lt;int&gt;</th></tr>\n",
       "</thead>\n",
       "<tbody>\n",
       "\t<tr><td>Twitter for iPhone        </td><td>429</td></tr>\n",
       "\t<tr><td>Twitter for Android       </td><td>348</td></tr>\n",
       "\t<tr><td>Twitter Web App           </td><td>242</td></tr>\n",
       "\t<tr><td>Twitter for iPad          </td><td> 34</td></tr>\n",
       "\t<tr><td>dlvr.it                   </td><td> 21</td></tr>\n",
       "\t<tr><td>Salesforce - Social Studio</td><td> 13</td></tr>\n",
       "\t<tr><td>TweetDeck                 </td><td>  9</td></tr>\n",
       "\t<tr><td>Twitter Web Client        </td><td>  9</td></tr>\n",
       "\t<tr><td>Radio.co now playing      </td><td>  8</td></tr>\n",
       "\t<tr><td>pogosj1                   </td><td>  7</td></tr>\n",
       "</tbody>\n",
       "</table>\n"
      ],
      "text/latex": [
       "A tibble: 10 × 2\n",
       "\\begin{tabular}{ll}\n",
       " source & count\\\\\n",
       " <chr> & <int>\\\\\n",
       "\\hline\n",
       "\t Twitter for iPhone         & 429\\\\\n",
       "\t Twitter for Android        & 348\\\\\n",
       "\t Twitter Web App            & 242\\\\\n",
       "\t Twitter for iPad           &  34\\\\\n",
       "\t dlvr.it                    &  21\\\\\n",
       "\t Salesforce - Social Studio &  13\\\\\n",
       "\t TweetDeck                  &   9\\\\\n",
       "\t Twitter Web Client         &   9\\\\\n",
       "\t Radio.co now playing       &   8\\\\\n",
       "\t pogosj1                    &   7\\\\\n",
       "\\end{tabular}\n"
      ],
      "text/markdown": [
       "\n",
       "A tibble: 10 × 2\n",
       "\n",
       "| source &lt;chr&gt; | count &lt;int&gt; |\n",
       "|---|---|\n",
       "| Twitter for iPhone         | 429 |\n",
       "| Twitter for Android        | 348 |\n",
       "| Twitter Web App            | 242 |\n",
       "| Twitter for iPad           |  34 |\n",
       "| dlvr.it                    |  21 |\n",
       "| Salesforce - Social Studio |  13 |\n",
       "| TweetDeck                  |   9 |\n",
       "| Twitter Web Client         |   9 |\n",
       "| Radio.co now playing       |   8 |\n",
       "| pogosj1                    |   7 |\n",
       "\n"
      ],
      "text/plain": [
       "   source                     count\n",
       "1  Twitter for iPhone         429  \n",
       "2  Twitter for Android        348  \n",
       "3  Twitter Web App            242  \n",
       "4  Twitter for iPad            34  \n",
       "5  dlvr.it                     21  \n",
       "6  Salesforce - Social Studio  13  \n",
       "7  TweetDeck                    9  \n",
       "8  Twitter Web Client           9  \n",
       "9  Radio.co now playing         8  \n",
       "10 pogosj1                      7  "
      ]
     },
     "execution_count": 40,
     "metadata": {},
     "output_type": "execute_result"
    }
   ],
   "source": [
    "#Group tweets per source to check from which source tweets are publish and only letting top 10\n",
    "google_app2 <- google_tweets %>% \n",
    "  select(source) %>% \n",
    "  group_by(source) %>%\n",
    "  summarize(count=n())\n",
    "google_app2 <-google_app2[order(google_app2$count, decreasing = TRUE),] %>%top_n(10)\n",
    "\n",
    "google_app2\n"
   ]
  },
  {
   "cell_type": "code",
   "execution_count": 41,
   "metadata": {},
   "outputs": [
    {
     "data": {
      "image/png": "[encoded data removed]",
      "text/plain": [
       "plot without title"
      ]
     },
     "execution_count": 41,
     "metadata": {
      "image/png": {
       "height": 420,
       "width": 420
      }
     },
     "output_type": "execute_result"
    }
   ],
   "source": [
    "#Create data frame of source count per type\n",
    "data_google_app2 <- data.frame(\n",
    "  category=google_app2$source,\n",
    "  count=google_app2$count\n",
    ")\n",
    "\n",
    "#Create statical value and plot the data\n",
    "data_google_app2$fraction = data_google_app2$count / sum(data_google_app2$count)\n",
    "data_google_app2$percentage = data_google_app2$count / sum(data_google_app2$count) * 100\n",
    "data_google_app2$ymax = cumsum(data_google_app2$fraction)\n",
    "data_google_app2$ymin = c(0, head(data_google_app2$ymax, n=-1))\n",
    "data_google_app2[,-1] <- round(data_google_app2[,-1], 2)\n",
    "Source <- paste(data_google_app2$category, data_google_app2$percentage, \"%\")\n",
    "ggplot(data_google_app2, aes(ymax=ymax, ymin=ymin, xmax=4, xmin=3, fill=Source)) +\n",
    "  geom_rect() +\n",
    "  coord_polar(theta=\"y\") + \n",
    "  xlim(c(2, 4)) +\n",
    "  theme_void() +\n",
    "  theme(legend.position = \"right\")"
   ]
  },
  {
   "cell_type": "code",
   "execution_count": 42,
   "metadata": {},
   "outputs": [
    {
     "data": {
      "text/html": [
       "<table class=\"dataframe\">\n",
       "<caption>A data.frame: 10 × 6</caption>\n",
       "<thead>\n",
       "\t<tr><th scope=col>category</th><th scope=col>count</th><th scope=col>fraction</th><th scope=col>percentage</th><th scope=col>ymax</th><th scope=col>ymin</th></tr>\n",
       "\t<tr><th scope=col>&lt;chr&gt;</th><th scope=col>&lt;dbl&gt;</th><th scope=col>&lt;dbl&gt;</th><th scope=col>&lt;dbl&gt;</th><th scope=col>&lt;dbl&gt;</th><th scope=col>&lt;dbl&gt;</th></tr>\n",
       "</thead>\n",
       "<tbody>\n",
       "\t<tr><td>Twitter for iPhone        </td><td>429</td><td>0.38</td><td>38.30</td><td>0.38</td><td>0.00</td></tr>\n",
       "\t<tr><td>Twitter for Android       </td><td>348</td><td>0.31</td><td>31.07</td><td>0.69</td><td>0.38</td></tr>\n",
       "\t<tr><td>Twitter Web App           </td><td>242</td><td>0.22</td><td>21.61</td><td>0.91</td><td>0.69</td></tr>\n",
       "\t<tr><td>Twitter for iPad          </td><td> 34</td><td>0.03</td><td> 3.04</td><td>0.94</td><td>0.91</td></tr>\n",
       "\t<tr><td>dlvr.it                   </td><td> 21</td><td>0.02</td><td> 1.88</td><td>0.96</td><td>0.94</td></tr>\n",
       "\t<tr><td>Salesforce - Social Studio</td><td> 13</td><td>0.01</td><td> 1.16</td><td>0.97</td><td>0.96</td></tr>\n",
       "\t<tr><td>TweetDeck                 </td><td>  9</td><td>0.01</td><td> 0.80</td><td>0.98</td><td>0.97</td></tr>\n",
       "\t<tr><td>Twitter Web Client        </td><td>  9</td><td>0.01</td><td> 0.80</td><td>0.99</td><td>0.98</td></tr>\n",
       "\t<tr><td>Radio.co now playing      </td><td>  8</td><td>0.01</td><td> 0.71</td><td>0.99</td><td>0.99</td></tr>\n",
       "\t<tr><td>pogosj1                   </td><td>  7</td><td>0.01</td><td> 0.62</td><td>1.00</td><td>0.99</td></tr>\n",
       "</tbody>\n",
       "</table>\n"
      ],
      "text/latex": [
       "A data.frame: 10 × 6\n",
       "\\begin{tabular}{llllll}\n",
       " category & count & fraction & percentage & ymax & ymin\\\\\n",
       " <chr> & <dbl> & <dbl> & <dbl> & <dbl> & <dbl>\\\\\n",
       "\\hline\n",
       "\t Twitter for iPhone         & 429 & 0.38 & 38.30 & 0.38 & 0.00\\\\\n",
       "\t Twitter for Android        & 348 & 0.31 & 31.07 & 0.69 & 0.38\\\\\n",
       "\t Twitter Web App            & 242 & 0.22 & 21.61 & 0.91 & 0.69\\\\\n",
       "\t Twitter for iPad           &  34 & 0.03 &  3.04 & 0.94 & 0.91\\\\\n",
       "\t dlvr.it                    &  21 & 0.02 &  1.88 & 0.96 & 0.94\\\\\n",
       "\t Salesforce - Social Studio &  13 & 0.01 &  1.16 & 0.97 & 0.96\\\\\n",
       "\t TweetDeck                  &   9 & 0.01 &  0.80 & 0.98 & 0.97\\\\\n",
       "\t Twitter Web Client         &   9 & 0.01 &  0.80 & 0.99 & 0.98\\\\\n",
       "\t Radio.co now playing       &   8 & 0.01 &  0.71 & 0.99 & 0.99\\\\\n",
       "\t pogosj1                    &   7 & 0.01 &  0.62 & 1.00 & 0.99\\\\\n",
       "\\end{tabular}\n"
      ],
      "text/markdown": [
       "\n",
       "A data.frame: 10 × 6\n",
       "\n",
       "| category &lt;chr&gt; | count &lt;dbl&gt; | fraction &lt;dbl&gt; | percentage &lt;dbl&gt; | ymax &lt;dbl&gt; | ymin &lt;dbl&gt; |\n",
       "|---|---|---|---|---|---|\n",
       "| Twitter for iPhone         | 429 | 0.38 | 38.30 | 0.38 | 0.00 |\n",
       "| Twitter for Android        | 348 | 0.31 | 31.07 | 0.69 | 0.38 |\n",
       "| Twitter Web App            | 242 | 0.22 | 21.61 | 0.91 | 0.69 |\n",
       "| Twitter for iPad           |  34 | 0.03 |  3.04 | 0.94 | 0.91 |\n",
       "| dlvr.it                    |  21 | 0.02 |  1.88 | 0.96 | 0.94 |\n",
       "| Salesforce - Social Studio |  13 | 0.01 |  1.16 | 0.97 | 0.96 |\n",
       "| TweetDeck                  |   9 | 0.01 |  0.80 | 0.98 | 0.97 |\n",
       "| Twitter Web Client         |   9 | 0.01 |  0.80 | 0.99 | 0.98 |\n",
       "| Radio.co now playing       |   8 | 0.01 |  0.71 | 0.99 | 0.99 |\n",
       "| pogosj1                    |   7 | 0.01 |  0.62 | 1.00 | 0.99 |\n",
       "\n"
      ],
      "text/plain": [
       "   category                   count fraction percentage ymax ymin\n",
       "1  Twitter for iPhone         429   0.38     38.30      0.38 0.00\n",
       "2  Twitter for Android        348   0.31     31.07      0.69 0.38\n",
       "3  Twitter Web App            242   0.22     21.61      0.91 0.69\n",
       "4  Twitter for iPad            34   0.03      3.04      0.94 0.91\n",
       "5  dlvr.it                     21   0.02      1.88      0.96 0.94\n",
       "6  Salesforce - Social Studio  13   0.01      1.16      0.97 0.96\n",
       "7  TweetDeck                    9   0.01      0.80      0.98 0.97\n",
       "8  Twitter Web Client           9   0.01      0.80      0.99 0.98\n",
       "9  Radio.co now playing         8   0.01      0.71      0.99 0.99\n",
       "10 pogosj1                      7   0.01      0.62      1.00 0.99"
      ]
     },
     "execution_count": 42,
     "metadata": {},
     "output_type": "execute_result"
    }
   ],
   "source": [
    "data_google_app2"
   ]
  },
  {
   "cell_type": "markdown",
   "metadata": {},
   "source": [
    "### Sentiment analysis of Tweets mentioning Google:"
   ]
  },
  {
   "cell_type": "code",
   "execution_count": 43,
   "metadata": {},
   "outputs": [
    {
     "name": "stderr",
     "output_type": "stream",
     "text": [
      "Joining, by = \"word\"\n",
      "\n"
     ]
    },
    {
     "data": {
      "text/html": [
       "<table class=\"dataframe\">\n",
       "<caption>A tibble: 6 × 4</caption>\n",
       "<thead>\n",
       "\t<tr><th scope=col>status_id</th><th scope=col>word</th><th scope=col>n</th><th scope=col>sentiment</th></tr>\n",
       "\t<tr><th scope=col>&lt;chr&gt;</th><th scope=col>&lt;chr&gt;</th><th scope=col>&lt;int&gt;</th><th scope=col>&lt;chr&gt;</th></tr>\n",
       "</thead>\n",
       "<tbody>\n",
       "\t<tr><td>x1222670521457954827</td><td>like  </td><td>1</td><td>positive</td></tr>\n",
       "\t<tr><td>x1222670521457954827</td><td>super </td><td>1</td><td>positive</td></tr>\n",
       "\t<tr><td>x1222670522980413442</td><td>fans  </td><td>1</td><td>positive</td></tr>\n",
       "\t<tr><td>x1222670522980413442</td><td>free  </td><td>1</td><td>positive</td></tr>\n",
       "\t<tr><td>x1222670522980413442</td><td>murder</td><td>1</td><td>negative</td></tr>\n",
       "\t<tr><td>x1222670522980413442</td><td>slow  </td><td>1</td><td>negative</td></tr>\n",
       "</tbody>\n",
       "</table>\n"
      ],
      "text/latex": [
       "A tibble: 6 × 4\n",
       "\\begin{tabular}{llll}\n",
       " status\\_id & word & n & sentiment\\\\\n",
       " <chr> & <chr> & <int> & <chr>\\\\\n",
       "\\hline\n",
       "\t x1222670521457954827 & like   & 1 & positive\\\\\n",
       "\t x1222670521457954827 & super  & 1 & positive\\\\\n",
       "\t x1222670522980413442 & fans   & 1 & positive\\\\\n",
       "\t x1222670522980413442 & free   & 1 & positive\\\\\n",
       "\t x1222670522980413442 & murder & 1 & negative\\\\\n",
       "\t x1222670522980413442 & slow   & 1 & negative\\\\\n",
       "\\end{tabular}\n"
      ],
      "text/markdown": [
       "\n",
       "A tibble: 6 × 4\n",
       "\n",
       "| status_id &lt;chr&gt; | word &lt;chr&gt; | n &lt;int&gt; | sentiment &lt;chr&gt; |\n",
       "|---|---|---|---|\n",
       "| x1222670521457954827 | like   | 1 | positive |\n",
       "| x1222670521457954827 | super  | 1 | positive |\n",
       "| x1222670522980413442 | fans   | 1 | positive |\n",
       "| x1222670522980413442 | free   | 1 | positive |\n",
       "| x1222670522980413442 | murder | 1 | negative |\n",
       "| x1222670522980413442 | slow   | 1 | negative |\n",
       "\n"
      ],
      "text/plain": [
       "  status_id            word   n sentiment\n",
       "1 x1222670521457954827 like   1 positive \n",
       "2 x1222670521457954827 super  1 positive \n",
       "3 x1222670522980413442 fans   1 positive \n",
       "4 x1222670522980413442 free   1 positive \n",
       "5 x1222670522980413442 murder 1 negative \n",
       "6 x1222670522980413442 slow   1 negative "
      ]
     },
     "execution_count": 43,
     "metadata": {},
     "output_type": "execute_result"
    },
    {
     "data": {
      "text/html": [
       "1506"
      ],
      "text/latex": [
       "1506"
      ],
      "text/markdown": [
       "1506"
      ],
      "text/plain": [
       "[1] 1506"
      ]
     },
     "execution_count": 43,
     "metadata": {},
     "output_type": "execute_result"
    }
   ],
   "source": [
    "#Sentiment analysis\n",
    "google_tweetsSentiment <- inner_join(google_tweets_tokenized,get_sentiments(\"bing\"))\n",
    "\n",
    "head(google_tweetsSentiment)\n",
    "nrow(google_tweetsSentiment)"
   ]
  },
  {
   "cell_type": "code",
   "execution_count": 44,
   "metadata": {},
   "outputs": [
    {
     "name": "stderr",
     "output_type": "stream",
     "text": [
      "Selecting by n\n",
      "\n"
     ]
    },
    {
     "data": {
      "text/html": [
       "<table class=\"dataframe\">\n",
       "<caption>A data.frame: 6 × 3</caption>\n",
       "<thead>\n",
       "\t<tr><th></th><th scope=col>word</th><th scope=col>sentiment</th><th scope=col>n</th></tr>\n",
       "\t<tr><th></th><th scope=col>&lt;chr&gt;</th><th scope=col>&lt;chr&gt;</th><th scope=col>&lt;int&gt;</th></tr>\n",
       "</thead>\n",
       "<tbody>\n",
       "\t<tr><th scope=row>1</th><td>bully       </td><td>negative</td><td>6</td></tr>\n",
       "\t<tr><th scope=row>2</th><td>interference</td><td>negative</td><td>6</td></tr>\n",
       "\t<tr><th scope=row>3</th><td>lost        </td><td>negative</td><td>6</td></tr>\n",
       "\t<tr><th scope=row>4</th><td>scariest    </td><td>negative</td><td>6</td></tr>\n",
       "\t<tr><th scope=row>5</th><td>undermine   </td><td>negative</td><td>6</td></tr>\n",
       "\t<tr><th scope=row>6</th><td>problem     </td><td>negative</td><td>7</td></tr>\n",
       "</tbody>\n",
       "</table>\n"
      ],
      "text/latex": [
       "A data.frame: 6 × 3\n",
       "\\begin{tabular}{r|lll}\n",
       "  & word & sentiment & n\\\\\n",
       "  & <chr> & <chr> & <int>\\\\\n",
       "\\hline\n",
       "\t1 & bully        & negative & 6\\\\\n",
       "\t2 & interference & negative & 6\\\\\n",
       "\t3 & lost         & negative & 6\\\\\n",
       "\t4 & scariest     & negative & 6\\\\\n",
       "\t5 & undermine    & negative & 6\\\\\n",
       "\t6 & problem      & negative & 7\\\\\n",
       "\\end{tabular}\n"
      ],
      "text/markdown": [
       "\n",
       "A data.frame: 6 × 3\n",
       "\n",
       "| <!--/--> | word &lt;chr&gt; | sentiment &lt;chr&gt; | n &lt;int&gt; |\n",
       "|---|---|---|---|\n",
       "| 1 | bully        | negative | 6 |\n",
       "| 2 | interference | negative | 6 |\n",
       "| 3 | lost         | negative | 6 |\n",
       "| 4 | scariest     | negative | 6 |\n",
       "| 5 | undermine    | negative | 6 |\n",
       "| 6 | problem      | negative | 7 |\n",
       "\n"
      ],
      "text/plain": [
       "  word         sentiment n\n",
       "1 bully        negative  6\n",
       "2 interference negative  6\n",
       "3 lost         negative  6\n",
       "4 scariest     negative  6\n",
       "5 undermine    negative  6\n",
       "6 problem      negative  7"
      ]
     },
     "execution_count": 44,
     "metadata": {},
     "output_type": "execute_result"
    }
   ],
   "source": [
    "#Get the most negative and positive words\n",
    "\n",
    "google_Tweets_Sentiment_summary <- google_tweetsSentiment %>%  count(word,sentiment,sort=TRUE) %>%\n",
    "                    group_by(sentiment) %>%\n",
    "                    top_n(10) %>%  \n",
    "                    arrange(n) %>%\n",
    "                    as.data.frame(stringsAsFactors=FALSE)\n",
    "\n",
    "head(google_Tweets_Sentiment_summary)"
   ]
  },
  {
   "cell_type": "code",
   "execution_count": 45,
   "metadata": {},
   "outputs": [
    {
     "data": {
      "image/png": "[encoded data removed]",
      "text/plain": [
       "plot without title"
      ]
     },
     "execution_count": 45,
     "metadata": {
      "image/png": {
       "height": 420,
       "width": 420
      }
     },
     "output_type": "execute_result"
    }
   ],
   "source": [
    "google_Tweets_Sentiment_summary %>%\n",
    "  ungroup() %>%\n",
    "  mutate(word = reorder(word, n)) %>%\n",
    "  ggplot(aes(word, n, fill = sentiment)) +\n",
    "  geom_col(show.legend = FALSE) +\n",
    "  facet_wrap(~sentiment, scales = \"free_y\") +\n",
    "  labs(y = \"Google sentiment summary\",\n",
    "       x = NULL) +\n",
    "  coord_flip()"
   ]
  },
  {
   "cell_type": "markdown",
   "metadata": {},
   "source": [
    "###  Content Analysis:"
   ]
  },
  {
   "cell_type": "code",
   "execution_count": 96,
   "metadata": {},
   "outputs": [],
   "source": [
    "# create topic model:\n",
    "tweets_about_google_lda <- LDA(tweets_google_DTM, k = 6,method=\"gibbs\",control = list(nstart = 5, burnin = 2000, best = TRUE, seed = 2:6) )"
   ]
  },
  {
   "cell_type": "code",
   "execution_count": 97,
   "metadata": {},
   "outputs": [
    {
     "name": "stdout",
     "output_type": "stream",
     "text": [
      "Formal class 'LDA_Gibbs' [package \"topicmodels\"] with 16 slots\n",
      "  ..@ seedwords      : NULL\n",
      "  ..@ z              : int [1:18043] 3 3 6 2 6 4 2 5 4 2 ...\n",
      "  ..@ alpha          : num 8.33\n",
      "  ..@ call           : language LDA(x = tweets_google_DTM, k = 6, method = \"gibbs\", control = list(nstart = 5,      burnin = 2000, best = TRUE, seed = 2:6))\n",
      "  ..@ Dim            : int [1:2] 1200 7680\n",
      "  ..@ control        :Formal class 'LDA_Gibbscontrol' [package \"topicmodels\"] with 14 slots\n",
      "  .. .. ..@ delta        : num 0.1\n",
      "  .. .. ..@ iter         : int 4000\n",
      "  .. .. ..@ thin         : int 2000\n",
      "  .. .. ..@ burnin       : int 2000\n",
      "  .. .. ..@ initialize   : chr \"random\"\n",
      "  .. .. ..@ alpha        : num 8.33\n",
      "  .. .. ..@ seed         : int [1:5] 2 3 4 5 6\n",
      "  .. .. ..@ verbose      : int 0\n",
      "  .. .. ..@ prefix       : chr \"/tmp/RtmpjB0B8F/filebce4ee49f9b\"\n",
      "  .. .. ..@ save         : int 0\n",
      "  .. .. ..@ nstart       : int 5\n",
      "  .. .. ..@ best         : logi TRUE\n",
      "  .. .. ..@ keep         : int 0\n",
      "  .. .. ..@ estimate.beta: logi TRUE\n",
      "  ..@ k              : int 6\n",
      "  ..@ terms          : chr [1:7680] \"bruno\" \"fernandes\" \"httpstcobupruxbxoo\" \"ufufufufgo\" ...\n",
      "  ..@ documents      : chr [1:1200] \"x1222670515724222470\" \"x1222670521457954827\" \"x1222670522980413442\" \"x1222670523810877443\" ...\n",
      "  ..@ beta           : num [1:6, 1:7680] -10.54 -10.52 -8.14 -10.55 -10.55 ...\n",
      "  ..@ gamma          : num [1:1200, 1:6] 0.149 0.151 0.218 0.147 0.173 ...\n",
      "  ..@ wordassignments:List of 5\n",
      "  .. ..$ i   : int [1:18043] 1 1 1 1 1 1 2 2 2 2 ...\n",
      "  .. ..$ j   : int [1:18043] 1 2 3 4 5 6 7 8 9 10 ...\n",
      "  .. ..$ v   : num [1:18043] 3 3 6 2 6 4 2 5 4 2 ...\n",
      "  .. ..$ nrow: int 1200\n",
      "  .. ..$ ncol: int 7680\n",
      "  .. ..- attr(*, \"class\")= chr \"simple_triplet_matrix\"\n",
      "  ..@ loglikelihood  : num -144447\n",
      "  ..@ iter           : int 4000\n",
      "  ..@ logLiks        : num(0) \n",
      "  ..@ n              : int 18043\n"
     ]
    }
   ],
   "source": [
    "# look at model structure:\n",
    "str(tweets_about_google_lda)"
   ]
  },
  {
   "cell_type": "code",
   "execution_count": 98,
   "metadata": {},
   "outputs": [
    {
     "data": {
      "text/html": [
       "<table class=\"dataframe\">\n",
       "<caption>A tibble: 6 × 3</caption>\n",
       "<thead>\n",
       "\t<tr><th scope=col>topic</th><th scope=col>term</th><th scope=col>beta</th></tr>\n",
       "\t<tr><th scope=col>&lt;int&gt;</th><th scope=col>&lt;chr&gt;</th><th scope=col>&lt;dbl&gt;</th></tr>\n",
       "</thead>\n",
       "<tbody>\n",
       "\t<tr><td>1</td><td>bruno</td><td>2.658161e-05</td></tr>\n",
       "\t<tr><td>2</td><td>bruno</td><td>2.688895e-05</td></tr>\n",
       "\t<tr><td>3</td><td>bruno</td><td>2.927868e-04</td></tr>\n",
       "\t<tr><td>4</td><td>bruno</td><td>2.619859e-05</td></tr>\n",
       "\t<tr><td>5</td><td>bruno</td><td>2.625361e-05</td></tr>\n",
       "\t<tr><td>6</td><td>bruno</td><td>2.640613e-05</td></tr>\n",
       "</tbody>\n",
       "</table>\n"
      ],
      "text/latex": [
       "A tibble: 6 × 3\n",
       "\\begin{tabular}{lll}\n",
       " topic & term & beta\\\\\n",
       " <int> & <chr> & <dbl>\\\\\n",
       "\\hline\n",
       "\t 1 & bruno & 2.658161e-05\\\\\n",
       "\t 2 & bruno & 2.688895e-05\\\\\n",
       "\t 3 & bruno & 2.927868e-04\\\\\n",
       "\t 4 & bruno & 2.619859e-05\\\\\n",
       "\t 5 & bruno & 2.625361e-05\\\\\n",
       "\t 6 & bruno & 2.640613e-05\\\\\n",
       "\\end{tabular}\n"
      ],
      "text/markdown": [
       "\n",
       "A tibble: 6 × 3\n",
       "\n",
       "| topic &lt;int&gt; | term &lt;chr&gt; | beta &lt;dbl&gt; |\n",
       "|---|---|---|\n",
       "| 1 | bruno | 2.658161e-05 |\n",
       "| 2 | bruno | 2.688895e-05 |\n",
       "| 3 | bruno | 2.927868e-04 |\n",
       "| 4 | bruno | 2.619859e-05 |\n",
       "| 5 | bruno | 2.625361e-05 |\n",
       "| 6 | bruno | 2.640613e-05 |\n",
       "\n"
      ],
      "text/plain": [
       "  topic term  beta        \n",
       "1 1     bruno 2.658161e-05\n",
       "2 2     bruno 2.688895e-05\n",
       "3 3     bruno 2.927868e-04\n",
       "4 4     bruno 2.619859e-05\n",
       "5 5     bruno 2.625361e-05\n",
       "6 6     bruno 2.640613e-05"
      ]
     },
     "execution_count": 98,
     "metadata": {},
     "output_type": "execute_result"
    }
   ],
   "source": [
    "# terms per topic\n",
    "tweets_about_google_topics <- tidy(tweets_about_google_lda, matrix = \"beta\")\n",
    "head(tweets_about_google_topics)"
   ]
  },
  {
   "cell_type": "code",
   "execution_count": 99,
   "metadata": {},
   "outputs": [
    {
     "data": {
      "image/png": "[encoded data removed]",
      "text/plain": [
       "plot without title"
      ]
     },
     "execution_count": 99,
     "metadata": {
      "image/png": {
       "height": 420,
       "width": 420
      }
     },
     "output_type": "execute_result"
    }
   ],
   "source": [
    "# visualize this\n",
    "\n",
    "# you can use the following code to get the top terms per topic\n",
    "tweets_about_google_top_terms <- tweets_about_google_topics  %>%\n",
    "  group_by(topic) %>%\n",
    "  top_n(10, beta) %>%\n",
    "  ungroup() %>%\n",
    "  arrange(topic, -beta)\n",
    "\n",
    "\n",
    "tweets_about_google_top_terms %>%\n",
    "  mutate(term = reorder_within(term, beta, topic)) %>%\n",
    "  ggplot(aes(term, beta, fill = factor(topic))) +\n",
    "  geom_col(show.legend = FALSE) +\n",
    "  facet_wrap(~ topic, scales = \"free\") +\n",
    "  coord_flip() +\n",
    "  scale_x_reordered()"
   ]
  },
  {
   "cell_type": "code",
   "execution_count": 100,
   "metadata": {},
   "outputs": [
    {
     "data": {
      "text/html": [
       "<table class=\"dataframe\">\n",
       "<caption>A tibble: 6 × 2</caption>\n",
       "<thead>\n",
       "\t<tr><th></th><th scope=col>topic</th><th scope=col>nbr_documents</th></tr>\n",
       "\t<tr><th></th><th scope=col>&lt;int&gt;</th><th scope=col>&lt;int&gt;</th></tr>\n",
       "</thead>\n",
       "<tbody>\n",
       "\t<tr><th scope=row>1</th><td>1</td><td>290</td></tr>\n",
       "\t<tr><th scope=row>2</th><td>2</td><td>239</td></tr>\n",
       "\t<tr><th scope=row>3</th><td>3</td><td>194</td></tr>\n",
       "\t<tr><th scope=row>4</th><td>4</td><td>165</td></tr>\n",
       "\t<tr><th scope=row>5</th><td>5</td><td>154</td></tr>\n",
       "\t<tr><th scope=row>6</th><td>6</td><td>158</td></tr>\n",
       "</tbody>\n",
       "</table>\n"
      ],
      "text/latex": [
       "A tibble: 6 × 2\n",
       "\\begin{tabular}{r|ll}\n",
       "  & topic & nbr\\_documents\\\\\n",
       "  & <int> & <int>\\\\\n",
       "\\hline\n",
       "\t1 & 1 & 290\\\\\n",
       "\t2 & 2 & 239\\\\\n",
       "\t3 & 3 & 194\\\\\n",
       "\t4 & 4 & 165\\\\\n",
       "\t5 & 5 & 154\\\\\n",
       "\t6 & 6 & 158\\\\\n",
       "\\end{tabular}\n"
      ],
      "text/markdown": [
       "\n",
       "A tibble: 6 × 2\n",
       "\n",
       "| <!--/--> | topic &lt;int&gt; | nbr_documents &lt;int&gt; |\n",
       "|---|---|---|\n",
       "| 1 | 1 | 290 |\n",
       "| 2 | 2 | 239 |\n",
       "| 3 | 3 | 194 |\n",
       "| 4 | 4 | 165 |\n",
       "| 5 | 5 | 154 |\n",
       "| 6 | 6 | 158 |\n",
       "\n"
      ],
      "text/plain": [
       "  topic nbr_documents\n",
       "1 1     290          \n",
       "2 2     239          \n",
       "3 3     194          \n",
       "4 4     165          \n",
       "5 5     154          \n",
       "6 6     158          "
      ]
     },
     "execution_count": 100,
     "metadata": {},
     "output_type": "execute_result"
    }
   ],
   "source": [
    "tweets_about_google_documents <- tidy(tweets_about_google_lda, matrix = \"gamma\")\n",
    "# Choose, per tweet, the most important topic (the one with the highest weight)\n",
    "tweets_about_google_topic <-tweets_about_google_documents %>%\n",
    "  group_by(document) %>%\n",
    "  arrange(desc(gamma)) %>%\n",
    "  slice(1) \n",
    "\n",
    "tweets_about_google_topic %>%\n",
    "  group_by(topic) %>% \n",
    "  summarise(nbr_documents = n())"
   ]
  }
 ],
 "metadata": {
  "kernelspec": {
   "display_name": "R",
   "language": "R",
   "name": "ir"
  },
  "language_info": {
   "codemirror_mode": "r",
   "file_extension": ".r",
   "mimetype": "text/x-r-source",
   "name": "R",
   "pygments_lexer": "r",
   "version": "3.6.1"
  }
 },
 "nbformat": 4,
 "nbformat_minor": 4
}
