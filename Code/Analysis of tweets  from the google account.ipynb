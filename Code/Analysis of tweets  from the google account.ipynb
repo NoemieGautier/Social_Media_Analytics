{
 "cells": [
  {
   "cell_type": "markdown",
   "metadata": {
    "collapsed": false
   },
   "source": [
    "# Social Media Analytics - Group Project "
   ]
  },
  {
   "cell_type": "markdown",
   "metadata": {
    "collapsed": false
   },
   "source": [
    "###### Group 5: Salma BARKETALLAH, Ndjaidoukmi KEDA, Noémie GAUTIER"
   ]
  },
  {
   "cell_type": "markdown",
   "metadata": {
    "collapsed": false
   },
   "source": [
    "Company: Google"
   ]
  },
  {
   "cell_type": "markdown",
   "metadata": {
    "collapsed": false
   },
   "source": [
    "                            In this notebook, tweets from the official google account will be analyzed "
   ]
  },
  {
   "cell_type": "code",
   "execution_count": 1,
   "metadata": {
    "collapsed": false
   },
   "outputs": [
   ],
   "source": [
    "options(warnings = -1)"
   ]
  },
  {
   "cell_type": "markdown",
   "metadata": {
    "collapsed": false
   },
   "source": [
    "###  Loading the required packages "
   ]
  },
  {
   "cell_type": "code",
   "execution_count": 1,
   "metadata": {
    "collapsed": false
   },
   "outputs": [
    {
     "name": "stderr",
     "output_type": "stream",
     "text": [
      "Loading required package: rtweet\n",
      "\n"
     ]
    },
    {
     "name": "stderr",
     "output_type": "stream",
     "text": [
      "Loading required package: topicmodels\n",
      "\n"
     ]
    },
    {
     "name": "stderr",
     "output_type": "stream",
     "text": [
      "Loading required package: ggplot2\n",
      "\n"
     ]
    },
    {
     "name": "stderr",
     "output_type": "stream",
     "text": [
      "Loading required package: readr\n",
      "\n"
     ]
    },
    {
     "name": "stderr",
     "output_type": "stream",
     "text": [
      "Loading required package: SnowballC\n",
      "\n"
     ]
    },
    {
     "name": "stderr",
     "output_type": "stream",
     "text": [
      "Loading required package: slam\n",
      "\n"
     ]
    },
    {
     "name": "stderr",
     "output_type": "stream",
     "text": [
      "Loading required package: tm\n",
      "\n"
     ]
    },
    {
     "name": "stderr",
     "output_type": "stream",
     "text": [
      "Loading required package: NLP\n",
      "\n"
     ]
    },
    {
     "name": "stderr",
     "output_type": "stream",
     "text": [
      "\n",
      "Attaching package: ‘NLP’\n",
      "\n",
      "\n"
     ]
    },
    {
     "name": "stderr",
     "output_type": "stream",
     "text": [
      "The following object is masked from ‘package:ggplot2’:\n",
      "\n",
      "    annotate\n",
      "\n",
      "\n"
     ]
    },
    {
     "name": "stderr",
     "output_type": "stream",
     "text": [
      "Loading required package: Matrix\n",
      "\n"
     ]
    },
    {
     "name": "stderr",
     "output_type": "stream",
     "text": [
      "Loading required package: tidytext\n",
      "\n"
     ]
    },
    {
     "name": "stderr",
     "output_type": "stream",
     "text": [
      "Loading required package: dplyr\n",
      "\n"
     ]
    },
    {
     "name": "stderr",
     "output_type": "stream",
     "text": [
      "\n",
      "Attaching package: ‘dplyr’\n",
      "\n",
      "\n"
     ]
    },
    {
     "name": "stderr",
     "output_type": "stream",
     "text": [
      "The following objects are masked from ‘package:stats’:\n",
      "\n",
      "    filter, lag\n",
      "\n",
      "\n"
     ]
    },
    {
     "name": "stderr",
     "output_type": "stream",
     "text": [
      "The following objects are masked from ‘package:base’:\n",
      "\n",
      "    intersect, setdiff, setequal, union\n",
      "\n",
      "\n"
     ]
    },
    {
     "name": "stderr",
     "output_type": "stream",
     "text": [
      "Loading required package: hunspell\n",
      "\n"
     ]
    },
    {
     "name": "stderr",
     "output_type": "stream",
     "text": [
      "Loading required package: purrr\n",
      "\n"
     ]
    },
    {
     "name": "stderr",
     "output_type": "stream",
     "text": [
      "\n",
      "Attaching package: ‘purrr’\n",
      "\n",
      "\n"
     ]
    },
    {
     "name": "stderr",
     "output_type": "stream",
     "text": [
      "The following object is masked from ‘package:rtweet’:\n",
      "\n",
      "    flatten\n",
      "\n",
      "\n"
     ]
    },
    {
     "name": "stderr",
     "output_type": "stream",
     "text": [
      "Loading required package: wordcloud\n",
      "\n"
     ]
    },
    {
     "name": "stderr",
     "output_type": "stream",
     "text": [
      "Loading required package: RColorBrewer\n",
      "\n"
     ]
    },
    {
     "name": "stderr",
     "output_type": "stream",
     "text": [
      "Loading required package: RWeka\n",
      "\n"
     ]
    },
    {
     "name": "stderr",
     "output_type": "stream",
     "text": [
      "── \u001b[1mAttaching packages\u001b[22m ─────────────────────────────────────── tidyverse 1.3.0 ──\n",
      "\n"
     ]
    },
    {
     "name": "stderr",
     "output_type": "stream",
     "text": [
      "\u001b[32m✔\u001b[39m \u001b[34mtibble \u001b[39m 3.0.6     \u001b[32m✔\u001b[39m \u001b[34mstringr\u001b[39m 1.4.0\n",
      "\u001b[32m✔\u001b[39m \u001b[34mtidyr  \u001b[39m 1.1.2     \u001b[32m✔\u001b[39m \u001b[34mforcats\u001b[39m 0.5.1\n",
      "\n"
     ]
    },
    {
     "name": "stderr",
     "output_type": "stream",
     "text": [
      "── \u001b[1mConflicts\u001b[22m ────────────────────────────────────────── tidyverse_conflicts() ──\n",
      "\u001b[31m✖\u001b[39m \u001b[34mNLP\u001b[39m::\u001b[32mannotate()\u001b[39m  masks \u001b[34mggplot2\u001b[39m::annotate()\n",
      "\u001b[31m✖\u001b[39m \u001b[34mtidyr\u001b[39m::\u001b[32mexpand()\u001b[39m  masks \u001b[34mMatrix\u001b[39m::expand()\n",
      "\u001b[31m✖\u001b[39m \u001b[34mdplyr\u001b[39m::\u001b[32mfilter()\u001b[39m  masks \u001b[34mstats\u001b[39m::filter()\n",
      "\u001b[31m✖\u001b[39m \u001b[34mpurrr\u001b[39m::\u001b[32mflatten()\u001b[39m masks \u001b[34mrtweet\u001b[39m::flatten()\n",
      "\u001b[31m✖\u001b[39m \u001b[34mdplyr\u001b[39m::\u001b[32mlag()\u001b[39m     masks \u001b[34mstats\u001b[39m::lag()\n",
      "\u001b[31m✖\u001b[39m \u001b[34mtidyr\u001b[39m::\u001b[32mpack()\u001b[39m    masks \u001b[34mMatrix\u001b[39m::pack()\n",
      "\u001b[31m✖\u001b[39m \u001b[34mtidyr\u001b[39m::\u001b[32munpack()\u001b[39m  masks \u001b[34mMatrix\u001b[39m::unpack()\n",
      "\n"
     ]
    }
   ],
   "source": [
    "# Install rtweet package:\n",
    "if(!require(\"rtweet\")) install.packages(\"rtweet\", quiet=TRUE); library(\"rtweet\", quiet=TRUE)\n",
    "# Install Other packages:\n",
    "for (i in c('topicmodels','ggplot2','readr','SnowballC','slam','tm','Matrix','tidytext','dplyr','hunspell','purrr','wordcloud','RWeka')){\n",
    "  if (!require(i, character.only=TRUE)) install.packages(i, repos = \"http://cran.us.r-project.org\", quiet=TRUE)\n",
    "  require(i, character.only=TRUE, quiet=TRUE)\n",
    "}\n",
    "library(tidyverse, quiet=TRUE)\n"
   ]
  },
  {
   "cell_type": "markdown",
   "metadata": {
    "collapsed": false
   },
   "source": [
    "#### Loading the CSV file:"
   ]
  },
  {
   "cell_type": "code",
   "execution_count": 2,
   "metadata": {
    "collapsed": false
   },
   "outputs": [
   ],
   "source": [
    "google_timeline <- read_csv(\"google_timeline.csv\", col_types = cols(.default = \"c\")) #recent tweets"
   ]
  },
  {
   "cell_type": "markdown",
   "metadata": {
    "collapsed": false
   },
   "source": [
    "#### Data pre-processing"
   ]
  },
  {
   "cell_type": "code",
   "execution_count": 3,
   "metadata": {
    "collapsed": false
   },
   "outputs": [
    {
     "data": {
      "text/html": [
       "3200"
      ],
      "text/latex": [
       "3200"
      ],
      "text/markdown": [
       "3200"
      ],
      "text/plain": [
       "[1] 3200"
      ]
     },
     "execution_count": 3,
     "metadata": {
     },
     "output_type": "execute_result"
    }
   ],
   "source": [
    "nrow(google_timeline)"
   ]
  },
  {
   "cell_type": "code",
   "execution_count": 4,
   "metadata": {
    "collapsed": false
   },
   "outputs": [
    {
     "data": {
      "text/html": [
       "<table class=\"dataframe\">\n",
       "<caption>A tibble: 2 × 90</caption>\n",
       "<thead>\n",
       "\t<tr><th scope=col>user_id</th><th scope=col>status_id</th><th scope=col>created_at</th><th scope=col>screen_name</th><th scope=col>text</th><th scope=col>source</th><th scope=col>display_text_width</th><th scope=col>reply_to_status_id</th><th scope=col>reply_to_user_id</th><th scope=col>reply_to_screen_name</th><th scope=col>⋯</th><th scope=col>statuses_count</th><th scope=col>favourites_count</th><th scope=col>account_created_at</th><th scope=col>verified</th><th scope=col>profile_url</th><th scope=col>profile_expanded_url</th><th scope=col>account_lang</th><th scope=col>profile_banner_url</th><th scope=col>profile_background_url</th><th scope=col>profile_image_url</th></tr>\n",
       "\t<tr><th scope=col>&lt;chr&gt;</th><th scope=col>&lt;chr&gt;</th><th scope=col>&lt;chr&gt;</th><th scope=col>&lt;chr&gt;</th><th scope=col>&lt;chr&gt;</th><th scope=col>&lt;chr&gt;</th><th scope=col>&lt;chr&gt;</th><th scope=col>&lt;chr&gt;</th><th scope=col>&lt;chr&gt;</th><th scope=col>&lt;chr&gt;</th><th scope=col>⋯</th><th scope=col>&lt;chr&gt;</th><th scope=col>&lt;chr&gt;</th><th scope=col>&lt;chr&gt;</th><th scope=col>&lt;chr&gt;</th><th scope=col>&lt;chr&gt;</th><th scope=col>&lt;chr&gt;</th><th scope=col>&lt;chr&gt;</th><th scope=col>&lt;chr&gt;</th><th scope=col>&lt;chr&gt;</th><th scope=col>&lt;chr&gt;</th></tr>\n",
       "</thead>\n",
       "<tbody>\n",
       "\t<tr><td>x20536157</td><td>x1352856480773525505</td><td>2021-01-23 05:51:34</td><td>Google</td><td>@perfectlyfaded1 Hi there. Let's see what we can do to help. Look out for a DM with next steps.                                             </td><td>Conversocial</td><td>78 </td><td>x1339730129300443137</td><td>x3293914951</td><td>perfectlyfaded1</td><td>⋯</td><td>126543</td><td>2979</td><td>2009-02-10 19:14:39</td><td>TRUE</td><td>https://t.co/jGyu5e8Pzx</td><td>http://google.com/yearinsearch</td><td>NA</td><td>https://pbs.twimg.com/profile_banners/20536157/1609170466</td><td>http://abs.twimg.com/images/themes/theme1/bg.png</td><td>http://pbs.twimg.com/profile_images/1343584679664873479/Xos3xQfk_normal.jpg</td></tr>\n",
       "\t<tr><td>x20536157</td><td>x1352854779614130176</td><td>2021-01-23 05:44:48</td><td>Google</td><td>@izthewizkid Got it. Let's see what we can do to help. Please follow us and let us know when you have so we can share next steps through DM.</td><td>Conversocial</td><td>127</td><td>x1339242585676804103</td><td>x26464325  </td><td>izthewizkid    </td><td>⋯</td><td>126543</td><td>2979</td><td>2009-02-10 19:14:39</td><td>TRUE</td><td>https://t.co/jGyu5e8Pzx</td><td>http://google.com/yearinsearch</td><td>NA</td><td>https://pbs.twimg.com/profile_banners/20536157/1609170466</td><td>http://abs.twimg.com/images/themes/theme1/bg.png</td><td>http://pbs.twimg.com/profile_images/1343584679664873479/Xos3xQfk_normal.jpg</td></tr>\n",
       "</tbody>\n",
       "</table>\n"
      ],
      "text/latex": [
       "A tibble: 2 × 90\n",
       "\\begin{tabular}{lllllllllllllllllllll}\n",
       " user\\_id & status\\_id & created\\_at & screen\\_name & text & source & display\\_text\\_width & reply\\_to\\_status\\_id & reply\\_to\\_user\\_id & reply\\_to\\_screen\\_name & ⋯ & statuses\\_count & favourites\\_count & account\\_created\\_at & verified & profile\\_url & profile\\_expanded\\_url & account\\_lang & profile\\_banner\\_url & profile\\_background\\_url & profile\\_image\\_url\\\\\n",
       " <chr> & <chr> & <chr> & <chr> & <chr> & <chr> & <chr> & <chr> & <chr> & <chr> & ⋯ & <chr> & <chr> & <chr> & <chr> & <chr> & <chr> & <chr> & <chr> & <chr> & <chr>\\\\\n",
       "\\hline\n",
       "\t x20536157 & x1352856480773525505 & 2021-01-23 05:51:34 & Google & @perfectlyfaded1 Hi there. Let's see what we can do to help. Look out for a DM with next steps.                                              & Conversocial & 78  & x1339730129300443137 & x3293914951 & perfectlyfaded1 & ⋯ & 126543 & 2979 & 2009-02-10 19:14:39 & TRUE & https://t.co/jGyu5e8Pzx & http://google.com/yearinsearch & NA & https://pbs.twimg.com/profile\\_banners/20536157/1609170466 & http://abs.twimg.com/images/themes/theme1/bg.png & http://pbs.twimg.com/profile\\_images/1343584679664873479/Xos3xQfk\\_normal.jpg\\\\\n",
       "\t x20536157 & x1352854779614130176 & 2021-01-23 05:44:48 & Google & @izthewizkid Got it. Let's see what we can do to help. Please follow us and let us know when you have so we can share next steps through DM. & Conversocial & 127 & x1339242585676804103 & x26464325   & izthewizkid     & ⋯ & 126543 & 2979 & 2009-02-10 19:14:39 & TRUE & https://t.co/jGyu5e8Pzx & http://google.com/yearinsearch & NA & https://pbs.twimg.com/profile\\_banners/20536157/1609170466 & http://abs.twimg.com/images/themes/theme1/bg.png & http://pbs.twimg.com/profile\\_images/1343584679664873479/Xos3xQfk\\_normal.jpg\\\\\n",
       "\\end{tabular}\n"
      ],
      "text/markdown": [
       "\n",
       "A tibble: 2 × 90\n",
       "\n",
       "| user_id &lt;chr&gt; | status_id &lt;chr&gt; | created_at &lt;chr&gt; | screen_name &lt;chr&gt; | text &lt;chr&gt; | source &lt;chr&gt; | display_text_width &lt;chr&gt; | reply_to_status_id &lt;chr&gt; | reply_to_user_id &lt;chr&gt; | reply_to_screen_name &lt;chr&gt; | ⋯ ⋯ | statuses_count &lt;chr&gt; | favourites_count &lt;chr&gt; | account_created_at &lt;chr&gt; | verified &lt;chr&gt; | profile_url &lt;chr&gt; | profile_expanded_url &lt;chr&gt; | account_lang &lt;chr&gt; | profile_banner_url &lt;chr&gt; | profile_background_url &lt;chr&gt; | profile_image_url &lt;chr&gt; |\n",
       "|---|---|---|---|---|---|---|---|---|---|---|---|---|---|---|---|---|---|---|---|---|\n",
       "| x20536157 | x1352856480773525505 | 2021-01-23 05:51:34 | Google | @perfectlyfaded1 Hi there. Let's see what we can do to help. Look out for a DM with next steps.                                              | Conversocial | 78  | x1339730129300443137 | x3293914951 | perfectlyfaded1 | ⋯ | 126543 | 2979 | 2009-02-10 19:14:39 | TRUE | https://t.co/jGyu5e8Pzx | http://google.com/yearinsearch | NA | https://pbs.twimg.com/profile_banners/20536157/1609170466 | http://abs.twimg.com/images/themes/theme1/bg.png | http://pbs.twimg.com/profile_images/1343584679664873479/Xos3xQfk_normal.jpg |\n",
       "| x20536157 | x1352854779614130176 | 2021-01-23 05:44:48 | Google | @izthewizkid Got it. Let's see what we can do to help. Please follow us and let us know when you have so we can share next steps through DM. | Conversocial | 127 | x1339242585676804103 | x26464325   | izthewizkid     | ⋯ | 126543 | 2979 | 2009-02-10 19:14:39 | TRUE | https://t.co/jGyu5e8Pzx | http://google.com/yearinsearch | NA | https://pbs.twimg.com/profile_banners/20536157/1609170466 | http://abs.twimg.com/images/themes/theme1/bg.png | http://pbs.twimg.com/profile_images/1343584679664873479/Xos3xQfk_normal.jpg |\n",
       "\n"
      ],
      "text/plain": [
       "  user_id   status_id            created_at          screen_name\n",
       "1 x20536157 x1352856480773525505 2021-01-23 05:51:34 Google     \n",
       "2 x20536157 x1352854779614130176 2021-01-23 05:44:48 Google     \n",
       "  text                                                                                                                                        \n",
       "1 @perfectlyfaded1 Hi there. Let's see what we can do to help. Look out for a DM with next steps.                                             \n",
       "2 @izthewizkid Got it. Let's see what we can do to help. Please follow us and let us know when you have so we can share next steps through DM.\n",
       "  source       display_text_width reply_to_status_id   reply_to_user_id\n",
       "1 Conversocial 78                 x1339730129300443137 x3293914951     \n",
       "2 Conversocial 127                x1339242585676804103 x26464325       \n",
       "  reply_to_screen_name ⋯ statuses_count favourites_count account_created_at \n",
       "1 perfectlyfaded1      ⋯ 126543         2979             2009-02-10 19:14:39\n",
       "2 izthewizkid          ⋯ 126543         2979             2009-02-10 19:14:39\n",
       "  verified profile_url             profile_expanded_url           account_lang\n",
       "1 TRUE     https://t.co/jGyu5e8Pzx http://google.com/yearinsearch NA          \n",
       "2 TRUE     https://t.co/jGyu5e8Pzx http://google.com/yearinsearch NA          \n",
       "  profile_banner_url                                       \n",
       "1 https://pbs.twimg.com/profile_banners/20536157/1609170466\n",
       "2 https://pbs.twimg.com/profile_banners/20536157/1609170466\n",
       "  profile_background_url                          \n",
       "1 http://abs.twimg.com/images/themes/theme1/bg.png\n",
       "2 http://abs.twimg.com/images/themes/theme1/bg.png\n",
       "  profile_image_url                                                          \n",
       "1 http://pbs.twimg.com/profile_images/1343584679664873479/Xos3xQfk_normal.jpg\n",
       "2 http://pbs.twimg.com/profile_images/1343584679664873479/Xos3xQfk_normal.jpg"
      ]
     },
     "execution_count": 4,
     "metadata": {
     },
     "output_type": "execute_result"
    }
   ],
   "source": [
    "# View tweets from Google:\n",
    "head(google_timeline, n=2)"
   ]
  },
  {
   "cell_type": "markdown",
   "metadata": {
    "collapsed": false
   },
   "source": [
    "###### Remove Punctuation"
   ]
  },
  {
   "cell_type": "code",
   "execution_count": 10,
   "metadata": {
    "collapsed": false
   },
   "outputs": [
   ],
   "source": [
    "#Remove punctiation\n",
    "google_timeline_text <- mutate(google_timeline[, c(\"status_id\",\"text\")], text = gsub(x = text, pattern = \"[0-9]+|[[:punct:]]|\\\\(.*\\\\)\", replacement = \"\"))"
   ]
  },
  {
   "cell_type": "markdown",
   "metadata": {
    "collapsed": false
   },
   "source": [
    "###### Tokenization"
   ]
  },
  {
   "cell_type": "code",
   "execution_count": 11,
   "metadata": {
    "collapsed": false
   },
   "outputs": [
    {
     "data": {
      "text/html": [
       "81111"
      ],
      "text/latex": [
       "81111"
      ],
      "text/markdown": [
       "81111"
      ],
      "text/plain": [
       "[1] 81111"
      ]
     },
     "execution_count": 11,
     "metadata": {
     },
     "output_type": "execute_result"
    }
   ],
   "source": [
    "google_timeline_tokenized <-google_timeline_text %>% unnest_tokens(output = \"word\", # how should the new column be named?\n",
    "                                             input = text, # where can we find the text? \n",
    "                                             token = \"words\", # which tokenization scheme should we follow?\n",
    "                                             drop=FALSE,to_lower=TRUE) # drop=FALSE specifies that we want to keep our text; to_lower = lowercase\n",
    "nrow(google_timeline_tokenized)"
   ]
  },
  {
   "cell_type": "markdown",
   "metadata": {
    "collapsed": false
   },
   "source": [
    "###### Remove Unwanted Symbols and Words"
   ]
  },
  {
   "cell_type": "code",
   "execution_count": 12,
   "metadata": {
    "collapsed": false
   },
   "outputs": [
    {
     "data": {
      "text/html": [
       "81111"
      ],
      "text/latex": [
       "81111"
      ],
      "text/markdown": [
       "81111"
      ],
      "text/plain": [
       "[1] 81111"
      ]
     },
     "execution_count": 12,
     "metadata": {
     },
     "output_type": "execute_result"
    }
   ],
   "source": [
    "#Remove # and @\n",
    "google_timeline_tokenized<- filter(google_timeline_tokenized, substr(word, 1, 1) != '#', \n",
    "                             substr(word, 1, 1) != '@') # This compares for the first letter of a token # omit hashtags\n",
    "nrow(google_timeline_tokenized)"
   ]
  },
  {
   "cell_type": "markdown",
   "metadata": {
    "collapsed": false
   },
   "source": [
    "###### Remove stopwords"
   ]
  },
  {
   "cell_type": "code",
   "execution_count": 14,
   "metadata": {
    "collapsed": false
   },
   "outputs": [
    {
     "name": "stderr",
     "output_type": "stream",
     "text": [
      "Joining, by = \"word\"\n",
      "\n"
     ]
    },
    {
     "data": {
      "text/html": [
       "51653"
      ],
      "text/latex": [
       "51653"
      ],
      "text/markdown": [
       "51653"
      ],
      "text/plain": [
       "[1] 51653"
      ]
     },
     "execution_count": 14,
     "metadata": {
     },
     "output_type": "execute_result"
    }
   ],
   "source": [
    "#Remove Stop words:\n",
    "google_timeline_tokenized<- google_timeline_tokenized %>% anti_join(get_stopwords()) # note that we continue with the 'uncorrected' words here\n",
    "nrow(google_timeline_tokenized)\n",
    "\n",
    "# this reduces the number of words by 30,000"
   ]
  },
  {
   "cell_type": "code",
   "execution_count": 19,
   "metadata": {
    "collapsed": false
   },
   "outputs": [
    {
     "data": {
      "text/html": [
       "<table class=\"dataframe\">\n",
       "<caption>A tibble: 175 × 2</caption>\n",
       "<thead>\n",
       "\t<tr><th scope=col>word</th><th scope=col>lexicon</th></tr>\n",
       "\t<tr><th scope=col>&lt;chr&gt;</th><th scope=col>&lt;chr&gt;</th></tr>\n",
       "</thead>\n",
       "<tbody>\n",
       "\t<tr><td>i         </td><td>snowball</td></tr>\n",
       "\t<tr><td>me        </td><td>snowball</td></tr>\n",
       "\t<tr><td>my        </td><td>snowball</td></tr>\n",
       "\t<tr><td>myself    </td><td>snowball</td></tr>\n",
       "\t<tr><td>we        </td><td>snowball</td></tr>\n",
       "\t<tr><td>our       </td><td>snowball</td></tr>\n",
       "\t<tr><td>ours      </td><td>snowball</td></tr>\n",
       "\t<tr><td>ourselves </td><td>snowball</td></tr>\n",
       "\t<tr><td>you       </td><td>snowball</td></tr>\n",
       "\t<tr><td>your      </td><td>snowball</td></tr>\n",
       "\t<tr><td>yours     </td><td>snowball</td></tr>\n",
       "\t<tr><td>yourself  </td><td>snowball</td></tr>\n",
       "\t<tr><td>yourselves</td><td>snowball</td></tr>\n",
       "\t<tr><td>he        </td><td>snowball</td></tr>\n",
       "\t<tr><td>him       </td><td>snowball</td></tr>\n",
       "\t<tr><td>his       </td><td>snowball</td></tr>\n",
       "\t<tr><td>himself   </td><td>snowball</td></tr>\n",
       "\t<tr><td>she       </td><td>snowball</td></tr>\n",
       "\t<tr><td>her       </td><td>snowball</td></tr>\n",
       "\t<tr><td>hers      </td><td>snowball</td></tr>\n",
       "\t<tr><td>herself   </td><td>snowball</td></tr>\n",
       "\t<tr><td>it        </td><td>snowball</td></tr>\n",
       "\t<tr><td>its       </td><td>snowball</td></tr>\n",
       "\t<tr><td>itself    </td><td>snowball</td></tr>\n",
       "\t<tr><td>they      </td><td>snowball</td></tr>\n",
       "\t<tr><td>them      </td><td>snowball</td></tr>\n",
       "\t<tr><td>their     </td><td>snowball</td></tr>\n",
       "\t<tr><td>theirs    </td><td>snowball</td></tr>\n",
       "\t<tr><td>themselves</td><td>snowball</td></tr>\n",
       "\t<tr><td>what      </td><td>snowball</td></tr>\n",
       "\t<tr><td>⋮</td><td>⋮</td></tr>\n",
       "\t<tr><td>further</td><td>snowball</td></tr>\n",
       "\t<tr><td>then   </td><td>snowball</td></tr>\n",
       "\t<tr><td>once   </td><td>snowball</td></tr>\n",
       "\t<tr><td>here   </td><td>snowball</td></tr>\n",
       "\t<tr><td>there  </td><td>snowball</td></tr>\n",
       "\t<tr><td>when   </td><td>snowball</td></tr>\n",
       "\t<tr><td>where  </td><td>snowball</td></tr>\n",
       "\t<tr><td>why    </td><td>snowball</td></tr>\n",
       "\t<tr><td>how    </td><td>snowball</td></tr>\n",
       "\t<tr><td>all    </td><td>snowball</td></tr>\n",
       "\t<tr><td>any    </td><td>snowball</td></tr>\n",
       "\t<tr><td>both   </td><td>snowball</td></tr>\n",
       "\t<tr><td>each   </td><td>snowball</td></tr>\n",
       "\t<tr><td>few    </td><td>snowball</td></tr>\n",
       "\t<tr><td>more   </td><td>snowball</td></tr>\n",
       "\t<tr><td>most   </td><td>snowball</td></tr>\n",
       "\t<tr><td>other  </td><td>snowball</td></tr>\n",
       "\t<tr><td>some   </td><td>snowball</td></tr>\n",
       "\t<tr><td>such   </td><td>snowball</td></tr>\n",
       "\t<tr><td>no     </td><td>snowball</td></tr>\n",
       "\t<tr><td>nor    </td><td>snowball</td></tr>\n",
       "\t<tr><td>not    </td><td>snowball</td></tr>\n",
       "\t<tr><td>only   </td><td>snowball</td></tr>\n",
       "\t<tr><td>own    </td><td>snowball</td></tr>\n",
       "\t<tr><td>same   </td><td>snowball</td></tr>\n",
       "\t<tr><td>so     </td><td>snowball</td></tr>\n",
       "\t<tr><td>than   </td><td>snowball</td></tr>\n",
       "\t<tr><td>too    </td><td>snowball</td></tr>\n",
       "\t<tr><td>very   </td><td>snowball</td></tr>\n",
       "\t<tr><td>will   </td><td>snowball</td></tr>\n",
       "</tbody>\n",
       "</table>\n"
      ],
      "text/latex": [
       "A tibble: 175 × 2\n",
       "\\begin{tabular}{ll}\n",
       " word & lexicon\\\\\n",
       " <chr> & <chr>\\\\\n",
       "\\hline\n",
       "\t i          & snowball\\\\\n",
       "\t me         & snowball\\\\\n",
       "\t my         & snowball\\\\\n",
       "\t myself     & snowball\\\\\n",
       "\t we         & snowball\\\\\n",
       "\t our        & snowball\\\\\n",
       "\t ours       & snowball\\\\\n",
       "\t ourselves  & snowball\\\\\n",
       "\t you        & snowball\\\\\n",
       "\t your       & snowball\\\\\n",
       "\t yours      & snowball\\\\\n",
       "\t yourself   & snowball\\\\\n",
       "\t yourselves & snowball\\\\\n",
       "\t he         & snowball\\\\\n",
       "\t him        & snowball\\\\\n",
       "\t his        & snowball\\\\\n",
       "\t himself    & snowball\\\\\n",
       "\t she        & snowball\\\\\n",
       "\t her        & snowball\\\\\n",
       "\t hers       & snowball\\\\\n",
       "\t herself    & snowball\\\\\n",
       "\t it         & snowball\\\\\n",
       "\t its        & snowball\\\\\n",
       "\t itself     & snowball\\\\\n",
       "\t they       & snowball\\\\\n",
       "\t them       & snowball\\\\\n",
       "\t their      & snowball\\\\\n",
       "\t theirs     & snowball\\\\\n",
       "\t themselves & snowball\\\\\n",
       "\t what       & snowball\\\\\n",
       "\t ⋮ & ⋮\\\\\n",
       "\t further & snowball\\\\\n",
       "\t then    & snowball\\\\\n",
       "\t once    & snowball\\\\\n",
       "\t here    & snowball\\\\\n",
       "\t there   & snowball\\\\\n",
       "\t when    & snowball\\\\\n",
       "\t where   & snowball\\\\\n",
       "\t why     & snowball\\\\\n",
       "\t how     & snowball\\\\\n",
       "\t all     & snowball\\\\\n",
       "\t any     & snowball\\\\\n",
       "\t both    & snowball\\\\\n",
       "\t each    & snowball\\\\\n",
       "\t few     & snowball\\\\\n",
       "\t more    & snowball\\\\\n",
       "\t most    & snowball\\\\\n",
       "\t other   & snowball\\\\\n",
       "\t some    & snowball\\\\\n",
       "\t such    & snowball\\\\\n",
       "\t no      & snowball\\\\\n",
       "\t nor     & snowball\\\\\n",
       "\t not     & snowball\\\\\n",
       "\t only    & snowball\\\\\n",
       "\t own     & snowball\\\\\n",
       "\t same    & snowball\\\\\n",
       "\t so      & snowball\\\\\n",
       "\t than    & snowball\\\\\n",
       "\t too     & snowball\\\\\n",
       "\t very    & snowball\\\\\n",
       "\t will    & snowball\\\\\n",
       "\\end{tabular}\n"
      ],
      "text/markdown": [
       "\n",
       "A tibble: 175 × 2\n",
       "\n",
       "| word &lt;chr&gt; | lexicon &lt;chr&gt; |\n",
       "|---|---|\n",
       "| i          | snowball |\n",
       "| me         | snowball |\n",
       "| my         | snowball |\n",
       "| myself     | snowball |\n",
       "| we         | snowball |\n",
       "| our        | snowball |\n",
       "| ours       | snowball |\n",
       "| ourselves  | snowball |\n",
       "| you        | snowball |\n",
       "| your       | snowball |\n",
       "| yours      | snowball |\n",
       "| yourself   | snowball |\n",
       "| yourselves | snowball |\n",
       "| he         | snowball |\n",
       "| him        | snowball |\n",
       "| his        | snowball |\n",
       "| himself    | snowball |\n",
       "| she        | snowball |\n",
       "| her        | snowball |\n",
       "| hers       | snowball |\n",
       "| herself    | snowball |\n",
       "| it         | snowball |\n",
       "| its        | snowball |\n",
       "| itself     | snowball |\n",
       "| they       | snowball |\n",
       "| them       | snowball |\n",
       "| their      | snowball |\n",
       "| theirs     | snowball |\n",
       "| themselves | snowball |\n",
       "| what       | snowball |\n",
       "| ⋮ | ⋮ |\n",
       "| further | snowball |\n",
       "| then    | snowball |\n",
       "| once    | snowball |\n",
       "| here    | snowball |\n",
       "| there   | snowball |\n",
       "| when    | snowball |\n",
       "| where   | snowball |\n",
       "| why     | snowball |\n",
       "| how     | snowball |\n",
       "| all     | snowball |\n",
       "| any     | snowball |\n",
       "| both    | snowball |\n",
       "| each    | snowball |\n",
       "| few     | snowball |\n",
       "| more    | snowball |\n",
       "| most    | snowball |\n",
       "| other   | snowball |\n",
       "| some    | snowball |\n",
       "| such    | snowball |\n",
       "| no      | snowball |\n",
       "| nor     | snowball |\n",
       "| not     | snowball |\n",
       "| only    | snowball |\n",
       "| own     | snowball |\n",
       "| same    | snowball |\n",
       "| so      | snowball |\n",
       "| than    | snowball |\n",
       "| too     | snowball |\n",
       "| very    | snowball |\n",
       "| will    | snowball |\n",
       "\n"
      ],
      "text/plain": [
       "    word       lexicon \n",
       "1   i          snowball\n",
       "2   me         snowball\n",
       "3   my         snowball\n",
       "4   myself     snowball\n",
       "5   we         snowball\n",
       "6   our        snowball\n",
       "7   ours       snowball\n",
       "8   ourselves  snowball\n",
       "9   you        snowball\n",
       "10  your       snowball\n",
       "11  yours      snowball\n",
       "12  yourself   snowball\n",
       "13  yourselves snowball\n",
       "14  he         snowball\n",
       "15  him        snowball\n",
       "16  his        snowball\n",
       "17  himself    snowball\n",
       "18  she        snowball\n",
       "19  her        snowball\n",
       "20  hers       snowball\n",
       "21  herself    snowball\n",
       "22  it         snowball\n",
       "23  its        snowball\n",
       "24  itself     snowball\n",
       "25  they       snowball\n",
       "26  them       snowball\n",
       "27  their      snowball\n",
       "28  theirs     snowball\n",
       "29  themselves snowball\n",
       "30  what       snowball\n",
       "⋮   ⋮          ⋮       \n",
       "146 further    snowball\n",
       "147 then       snowball\n",
       "148 once       snowball\n",
       "149 here       snowball\n",
       "150 there      snowball\n",
       "151 when       snowball\n",
       "152 where      snowball\n",
       "153 why        snowball\n",
       "154 how        snowball\n",
       "155 all        snowball\n",
       "156 any        snowball\n",
       "157 both       snowball\n",
       "158 each       snowball\n",
       "159 few        snowball\n",
       "160 more       snowball\n",
       "161 most       snowball\n",
       "162 other      snowball\n",
       "163 some       snowball\n",
       "164 such       snowball\n",
       "165 no         snowball\n",
       "166 nor        snowball\n",
       "167 not        snowball\n",
       "168 only       snowball\n",
       "169 own        snowball\n",
       "170 same       snowball\n",
       "171 so         snowball\n",
       "172 than       snowball\n",
       "173 too        snowball\n",
       "174 very       snowball\n",
       "175 will       snowball"
      ]
     },
     "execution_count": 19,
     "metadata": {
     },
     "output_type": "execute_result"
    }
   ],
   "source": [
    "get_stopwords()"
   ]
  },
  {
   "cell_type": "code",
   "execution_count": 17,
   "metadata": {
    "collapsed": false
   },
   "outputs": [
    {
     "data": {
      "text/html": [
       "<style>\n",
       ".list-inline {list-style: none; margin:0; padding: 0}\n",
       ".list-inline>li {display: inline-block}\n",
       ".list-inline>li:not(:last-child)::after {content: \"\\00b7\"; padding: 0 .5ex}\n",
       "</style>\n",
       "<ol class=list-inline><li>'i'</li><li>'me'</li><li>'my'</li><li>'myself'</li><li>'we'</li><li>'our'</li><li>'ours'</li><li>'ourselves'</li><li>'you'</li><li>'your'</li><li>'yours'</li><li>'yourself'</li><li>'yourselves'</li><li>'he'</li><li>'him'</li><li>'his'</li><li>'himself'</li><li>'she'</li><li>'her'</li><li>'hers'</li><li>'herself'</li><li>'it'</li><li>'its'</li><li>'itself'</li><li>'they'</li><li>'them'</li><li>'their'</li><li>'theirs'</li><li>'themselves'</li><li>'what'</li><li>'which'</li><li>'who'</li><li>'whom'</li><li>'this'</li><li>'that'</li><li>'these'</li><li>'those'</li><li>'am'</li><li>'is'</li><li>'are'</li><li>'was'</li><li>'were'</li><li>'be'</li><li>'been'</li><li>'being'</li><li>'have'</li><li>'has'</li><li>'had'</li><li>'having'</li><li>'do'</li><li>'does'</li><li>'did'</li><li>'doing'</li><li>'would'</li><li>'should'</li><li>'could'</li><li>'ought'</li><li>'i\\'m'</li><li>'you\\'re'</li><li>'he\\'s'</li><li>'she\\'s'</li><li>'it\\'s'</li><li>'we\\'re'</li><li>'they\\'re'</li><li>'i\\'ve'</li><li>'you\\'ve'</li><li>'we\\'ve'</li><li>'they\\'ve'</li><li>'i\\'d'</li><li>'you\\'d'</li><li>'he\\'d'</li><li>'she\\'d'</li><li>'we\\'d'</li><li>'they\\'d'</li><li>'i\\'ll'</li><li>'you\\'ll'</li><li>'he\\'ll'</li><li>'she\\'ll'</li><li>'we\\'ll'</li><li>'they\\'ll'</li><li>'isn\\'t'</li><li>'aren\\'t'</li><li>'wasn\\'t'</li><li>'weren\\'t'</li><li>'hasn\\'t'</li><li>'haven\\'t'</li><li>'hadn\\'t'</li><li>'doesn\\'t'</li><li>'don\\'t'</li><li>'didn\\'t'</li><li>'won\\'t'</li><li>'wouldn\\'t'</li><li>'shan\\'t'</li><li>'shouldn\\'t'</li><li>'can\\'t'</li><li>'cannot'</li><li>'couldn\\'t'</li><li>'mustn\\'t'</li><li>'let\\'s'</li><li>'that\\'s'</li><li>'who\\'s'</li><li>'what\\'s'</li><li>'here\\'s'</li><li>'there\\'s'</li><li>'when\\'s'</li><li>'where\\'s'</li><li>'why\\'s'</li><li>'how\\'s'</li><li>'a'</li><li>'an'</li><li>'the'</li><li>'and'</li><li>'but'</li><li>'if'</li><li>'or'</li><li>'because'</li><li>'as'</li><li>'until'</li><li>'while'</li><li>'of'</li><li>'at'</li><li>'by'</li><li>'for'</li><li>'with'</li><li>'about'</li><li>'against'</li><li>'between'</li><li>'into'</li><li>'through'</li><li>'during'</li><li>'before'</li><li>'after'</li><li>'above'</li><li>'below'</li><li>'to'</li><li>'from'</li><li>'up'</li><li>'down'</li><li>'in'</li><li>'out'</li><li>'on'</li><li>'off'</li><li>'over'</li><li>'under'</li><li>'again'</li><li>'further'</li><li>'then'</li><li>'once'</li><li>'here'</li><li>'there'</li><li>'when'</li><li>'where'</li><li>'why'</li><li>'how'</li><li>'all'</li><li>'any'</li><li>'both'</li><li>'each'</li><li>'few'</li><li>'more'</li><li>'most'</li><li>'other'</li><li>'some'</li><li>'such'</li><li>'no'</li><li>'nor'</li><li>'not'</li><li>'only'</li><li>'own'</li><li>'same'</li><li>'so'</li><li>'than'</li><li>'too'</li><li>'very'</li></ol>\n"
      ],
      "text/latex": [
       "\\begin{enumerate*}\n",
       "\\item 'i'\n",
       "\\item 'me'\n",
       "\\item 'my'\n",
       "\\item 'myself'\n",
       "\\item 'we'\n",
       "\\item 'our'\n",
       "\\item 'ours'\n",
       "\\item 'ourselves'\n",
       "\\item 'you'\n",
       "\\item 'your'\n",
       "\\item 'yours'\n",
       "\\item 'yourself'\n",
       "\\item 'yourselves'\n",
       "\\item 'he'\n",
       "\\item 'him'\n",
       "\\item 'his'\n",
       "\\item 'himself'\n",
       "\\item 'she'\n",
       "\\item 'her'\n",
       "\\item 'hers'\n",
       "\\item 'herself'\n",
       "\\item 'it'\n",
       "\\item 'its'\n",
       "\\item 'itself'\n",
       "\\item 'they'\n",
       "\\item 'them'\n",
       "\\item 'their'\n",
       "\\item 'theirs'\n",
       "\\item 'themselves'\n",
       "\\item 'what'\n",
       "\\item 'which'\n",
       "\\item 'who'\n",
       "\\item 'whom'\n",
       "\\item 'this'\n",
       "\\item 'that'\n",
       "\\item 'these'\n",
       "\\item 'those'\n",
       "\\item 'am'\n",
       "\\item 'is'\n",
       "\\item 'are'\n",
       "\\item 'was'\n",
       "\\item 'were'\n",
       "\\item 'be'\n",
       "\\item 'been'\n",
       "\\item 'being'\n",
       "\\item 'have'\n",
       "\\item 'has'\n",
       "\\item 'had'\n",
       "\\item 'having'\n",
       "\\item 'do'\n",
       "\\item 'does'\n",
       "\\item 'did'\n",
       "\\item 'doing'\n",
       "\\item 'would'\n",
       "\\item 'should'\n",
       "\\item 'could'\n",
       "\\item 'ought'\n",
       "\\item 'i\\textbackslash{}'m'\n",
       "\\item 'you\\textbackslash{}'re'\n",
       "\\item 'he\\textbackslash{}'s'\n",
       "\\item 'she\\textbackslash{}'s'\n",
       "\\item 'it\\textbackslash{}'s'\n",
       "\\item 'we\\textbackslash{}'re'\n",
       "\\item 'they\\textbackslash{}'re'\n",
       "\\item 'i\\textbackslash{}'ve'\n",
       "\\item 'you\\textbackslash{}'ve'\n",
       "\\item 'we\\textbackslash{}'ve'\n",
       "\\item 'they\\textbackslash{}'ve'\n",
       "\\item 'i\\textbackslash{}'d'\n",
       "\\item 'you\\textbackslash{}'d'\n",
       "\\item 'he\\textbackslash{}'d'\n",
       "\\item 'she\\textbackslash{}'d'\n",
       "\\item 'we\\textbackslash{}'d'\n",
       "\\item 'they\\textbackslash{}'d'\n",
       "\\item 'i\\textbackslash{}'ll'\n",
       "\\item 'you\\textbackslash{}'ll'\n",
       "\\item 'he\\textbackslash{}'ll'\n",
       "\\item 'she\\textbackslash{}'ll'\n",
       "\\item 'we\\textbackslash{}'ll'\n",
       "\\item 'they\\textbackslash{}'ll'\n",
       "\\item 'isn\\textbackslash{}'t'\n",
       "\\item 'aren\\textbackslash{}'t'\n",
       "\\item 'wasn\\textbackslash{}'t'\n",
       "\\item 'weren\\textbackslash{}'t'\n",
       "\\item 'hasn\\textbackslash{}'t'\n",
       "\\item 'haven\\textbackslash{}'t'\n",
       "\\item 'hadn\\textbackslash{}'t'\n",
       "\\item 'doesn\\textbackslash{}'t'\n",
       "\\item 'don\\textbackslash{}'t'\n",
       "\\item 'didn\\textbackslash{}'t'\n",
       "\\item 'won\\textbackslash{}'t'\n",
       "\\item 'wouldn\\textbackslash{}'t'\n",
       "\\item 'shan\\textbackslash{}'t'\n",
       "\\item 'shouldn\\textbackslash{}'t'\n",
       "\\item 'can\\textbackslash{}'t'\n",
       "\\item 'cannot'\n",
       "\\item 'couldn\\textbackslash{}'t'\n",
       "\\item 'mustn\\textbackslash{}'t'\n",
       "\\item 'let\\textbackslash{}'s'\n",
       "\\item 'that\\textbackslash{}'s'\n",
       "\\item 'who\\textbackslash{}'s'\n",
       "\\item 'what\\textbackslash{}'s'\n",
       "\\item 'here\\textbackslash{}'s'\n",
       "\\item 'there\\textbackslash{}'s'\n",
       "\\item 'when\\textbackslash{}'s'\n",
       "\\item 'where\\textbackslash{}'s'\n",
       "\\item 'why\\textbackslash{}'s'\n",
       "\\item 'how\\textbackslash{}'s'\n",
       "\\item 'a'\n",
       "\\item 'an'\n",
       "\\item 'the'\n",
       "\\item 'and'\n",
       "\\item 'but'\n",
       "\\item 'if'\n",
       "\\item 'or'\n",
       "\\item 'because'\n",
       "\\item 'as'\n",
       "\\item 'until'\n",
       "\\item 'while'\n",
       "\\item 'of'\n",
       "\\item 'at'\n",
       "\\item 'by'\n",
       "\\item 'for'\n",
       "\\item 'with'\n",
       "\\item 'about'\n",
       "\\item 'against'\n",
       "\\item 'between'\n",
       "\\item 'into'\n",
       "\\item 'through'\n",
       "\\item 'during'\n",
       "\\item 'before'\n",
       "\\item 'after'\n",
       "\\item 'above'\n",
       "\\item 'below'\n",
       "\\item 'to'\n",
       "\\item 'from'\n",
       "\\item 'up'\n",
       "\\item 'down'\n",
       "\\item 'in'\n",
       "\\item 'out'\n",
       "\\item 'on'\n",
       "\\item 'off'\n",
       "\\item 'over'\n",
       "\\item 'under'\n",
       "\\item 'again'\n",
       "\\item 'further'\n",
       "\\item 'then'\n",
       "\\item 'once'\n",
       "\\item 'here'\n",
       "\\item 'there'\n",
       "\\item 'when'\n",
       "\\item 'where'\n",
       "\\item 'why'\n",
       "\\item 'how'\n",
       "\\item 'all'\n",
       "\\item 'any'\n",
       "\\item 'both'\n",
       "\\item 'each'\n",
       "\\item 'few'\n",
       "\\item 'more'\n",
       "\\item 'most'\n",
       "\\item 'other'\n",
       "\\item 'some'\n",
       "\\item 'such'\n",
       "\\item 'no'\n",
       "\\item 'nor'\n",
       "\\item 'not'\n",
       "\\item 'only'\n",
       "\\item 'own'\n",
       "\\item 'same'\n",
       "\\item 'so'\n",
       "\\item 'than'\n",
       "\\item 'too'\n",
       "\\item 'very'\n",
       "\\end{enumerate*}\n"
      ],
      "text/markdown": [
       "1. 'i'\n",
       "2. 'me'\n",
       "3. 'my'\n",
       "4. 'myself'\n",
       "5. 'we'\n",
       "6. 'our'\n",
       "7. 'ours'\n",
       "8. 'ourselves'\n",
       "9. 'you'\n",
       "10. 'your'\n",
       "11. 'yours'\n",
       "12. 'yourself'\n",
       "13. 'yourselves'\n",
       "14. 'he'\n",
       "15. 'him'\n",
       "16. 'his'\n",
       "17. 'himself'\n",
       "18. 'she'\n",
       "19. 'her'\n",
       "20. 'hers'\n",
       "21. 'herself'\n",
       "22. 'it'\n",
       "23. 'its'\n",
       "24. 'itself'\n",
       "25. 'they'\n",
       "26. 'them'\n",
       "27. 'their'\n",
       "28. 'theirs'\n",
       "29. 'themselves'\n",
       "30. 'what'\n",
       "31. 'which'\n",
       "32. 'who'\n",
       "33. 'whom'\n",
       "34. 'this'\n",
       "35. 'that'\n",
       "36. 'these'\n",
       "37. 'those'\n",
       "38. 'am'\n",
       "39. 'is'\n",
       "40. 'are'\n",
       "41. 'was'\n",
       "42. 'were'\n",
       "43. 'be'\n",
       "44. 'been'\n",
       "45. 'being'\n",
       "46. 'have'\n",
       "47. 'has'\n",
       "48. 'had'\n",
       "49. 'having'\n",
       "50. 'do'\n",
       "51. 'does'\n",
       "52. 'did'\n",
       "53. 'doing'\n",
       "54. 'would'\n",
       "55. 'should'\n",
       "56. 'could'\n",
       "57. 'ought'\n",
       "58. 'i\\'m'\n",
       "59. 'you\\'re'\n",
       "60. 'he\\'s'\n",
       "61. 'she\\'s'\n",
       "62. 'it\\'s'\n",
       "63. 'we\\'re'\n",
       "64. 'they\\'re'\n",
       "65. 'i\\'ve'\n",
       "66. 'you\\'ve'\n",
       "67. 'we\\'ve'\n",
       "68. 'they\\'ve'\n",
       "69. 'i\\'d'\n",
       "70. 'you\\'d'\n",
       "71. 'he\\'d'\n",
       "72. 'she\\'d'\n",
       "73. 'we\\'d'\n",
       "74. 'they\\'d'\n",
       "75. 'i\\'ll'\n",
       "76. 'you\\'ll'\n",
       "77. 'he\\'ll'\n",
       "78. 'she\\'ll'\n",
       "79. 'we\\'ll'\n",
       "80. 'they\\'ll'\n",
       "81. 'isn\\'t'\n",
       "82. 'aren\\'t'\n",
       "83. 'wasn\\'t'\n",
       "84. 'weren\\'t'\n",
       "85. 'hasn\\'t'\n",
       "86. 'haven\\'t'\n",
       "87. 'hadn\\'t'\n",
       "88. 'doesn\\'t'\n",
       "89. 'don\\'t'\n",
       "90. 'didn\\'t'\n",
       "91. 'won\\'t'\n",
       "92. 'wouldn\\'t'\n",
       "93. 'shan\\'t'\n",
       "94. 'shouldn\\'t'\n",
       "95. 'can\\'t'\n",
       "96. 'cannot'\n",
       "97. 'couldn\\'t'\n",
       "98. 'mustn\\'t'\n",
       "99. 'let\\'s'\n",
       "100. 'that\\'s'\n",
       "101. 'who\\'s'\n",
       "102. 'what\\'s'\n",
       "103. 'here\\'s'\n",
       "104. 'there\\'s'\n",
       "105. 'when\\'s'\n",
       "106. 'where\\'s'\n",
       "107. 'why\\'s'\n",
       "108. 'how\\'s'\n",
       "109. 'a'\n",
       "110. 'an'\n",
       "111. 'the'\n",
       "112. 'and'\n",
       "113. 'but'\n",
       "114. 'if'\n",
       "115. 'or'\n",
       "116. 'because'\n",
       "117. 'as'\n",
       "118. 'until'\n",
       "119. 'while'\n",
       "120. 'of'\n",
       "121. 'at'\n",
       "122. 'by'\n",
       "123. 'for'\n",
       "124. 'with'\n",
       "125. 'about'\n",
       "126. 'against'\n",
       "127. 'between'\n",
       "128. 'into'\n",
       "129. 'through'\n",
       "130. 'during'\n",
       "131. 'before'\n",
       "132. 'after'\n",
       "133. 'above'\n",
       "134. 'below'\n",
       "135. 'to'\n",
       "136. 'from'\n",
       "137. 'up'\n",
       "138. 'down'\n",
       "139. 'in'\n",
       "140. 'out'\n",
       "141. 'on'\n",
       "142. 'off'\n",
       "143. 'over'\n",
       "144. 'under'\n",
       "145. 'again'\n",
       "146. 'further'\n",
       "147. 'then'\n",
       "148. 'once'\n",
       "149. 'here'\n",
       "150. 'there'\n",
       "151. 'when'\n",
       "152. 'where'\n",
       "153. 'why'\n",
       "154. 'how'\n",
       "155. 'all'\n",
       "156. 'any'\n",
       "157. 'both'\n",
       "158. 'each'\n",
       "159. 'few'\n",
       "160. 'more'\n",
       "161. 'most'\n",
       "162. 'other'\n",
       "163. 'some'\n",
       "164. 'such'\n",
       "165. 'no'\n",
       "166. 'nor'\n",
       "167. 'not'\n",
       "168. 'only'\n",
       "169. 'own'\n",
       "170. 'same'\n",
       "171. 'so'\n",
       "172. 'than'\n",
       "173. 'too'\n",
       "174. 'very'\n",
       "\n",
       "\n"
      ],
      "text/plain": [
       "  [1] \"i\"          \"me\"         \"my\"         \"myself\"     \"we\"        \n",
       "  [6] \"our\"        \"ours\"       \"ourselves\"  \"you\"        \"your\"      \n",
       " [11] \"yours\"      \"yourself\"   \"yourselves\" \"he\"         \"him\"       \n",
       " [16] \"his\"        \"himself\"    \"she\"        \"her\"        \"hers\"      \n",
       " [21] \"herself\"    \"it\"         \"its\"        \"itself\"     \"they\"      \n",
       " [26] \"them\"       \"their\"      \"theirs\"     \"themselves\" \"what\"      \n",
       " [31] \"which\"      \"who\"        \"whom\"       \"this\"       \"that\"      \n",
       " [36] \"these\"      \"those\"      \"am\"         \"is\"         \"are\"       \n",
       " [41] \"was\"        \"were\"       \"be\"         \"been\"       \"being\"     \n",
       " [46] \"have\"       \"has\"        \"had\"        \"having\"     \"do\"        \n",
       " [51] \"does\"       \"did\"        \"doing\"      \"would\"      \"should\"    \n",
       " [56] \"could\"      \"ought\"      \"i'm\"        \"you're\"     \"he's\"      \n",
       " [61] \"she's\"      \"it's\"       \"we're\"      \"they're\"    \"i've\"      \n",
       " [66] \"you've\"     \"we've\"      \"they've\"    \"i'd\"        \"you'd\"     \n",
       " [71] \"he'd\"       \"she'd\"      \"we'd\"       \"they'd\"     \"i'll\"      \n",
       " [76] \"you'll\"     \"he'll\"      \"she'll\"     \"we'll\"      \"they'll\"   \n",
       " [81] \"isn't\"      \"aren't\"     \"wasn't\"     \"weren't\"    \"hasn't\"    \n",
       " [86] \"haven't\"    \"hadn't\"     \"doesn't\"    \"don't\"      \"didn't\"    \n",
       " [91] \"won't\"      \"wouldn't\"   \"shan't\"     \"shouldn't\"  \"can't\"     \n",
       " [96] \"cannot\"     \"couldn't\"   \"mustn't\"    \"let's\"      \"that's\"    \n",
       "[101] \"who's\"      \"what's\"     \"here's\"     \"there's\"    \"when's\"    \n",
       "[106] \"where's\"    \"why's\"      \"how's\"      \"a\"          \"an\"        \n",
       "[111] \"the\"        \"and\"        \"but\"        \"if\"         \"or\"        \n",
       "[116] \"because\"    \"as\"         \"until\"      \"while\"      \"of\"        \n",
       "[121] \"at\"         \"by\"         \"for\"        \"with\"       \"about\"     \n",
       "[126] \"against\"    \"between\"    \"into\"       \"through\"    \"during\"    \n",
       "[131] \"before\"     \"after\"      \"above\"      \"below\"      \"to\"        \n",
       "[136] \"from\"       \"up\"         \"down\"       \"in\"         \"out\"       \n",
       "[141] \"on\"         \"off\"        \"over\"       \"under\"      \"again\"     \n",
       "[146] \"further\"    \"then\"       \"once\"       \"here\"       \"there\"     \n",
       "[151] \"when\"       \"where\"      \"why\"        \"how\"        \"all\"       \n",
       "[156] \"any\"        \"both\"       \"each\"       \"few\"        \"more\"      \n",
       "[161] \"most\"       \"other\"      \"some\"       \"such\"       \"no\"        \n",
       "[166] \"nor\"        \"not\"        \"only\"       \"own\"        \"same\"      \n",
       "[171] \"so\"         \"than\"       \"too\"        \"very\"      "
      ]
     },
     "execution_count": 17,
     "metadata": {
     },
     "output_type": "execute_result"
    }
   ],
   "source": [
    "stopwords()"
   ]
  },
  {
   "cell_type": "markdown",
   "metadata": {
    "collapsed": false
   },
   "source": [
    "###### Stemming/Lemmatization"
   ]
  },
  {
   "cell_type": "code",
   "execution_count": 10,
   "metadata": {
    "collapsed": false
   },
   "outputs": [
   ],
   "source": [
    "#Stemming:\n",
    "google_timeline_stemming<- google_timeline_tokenized %>% mutate(word = wordStem(word)) \n",
    " \n",
    "# put a different name as not sure we want to use it"
   ]
  },
  {
   "cell_type": "markdown",
   "metadata": {
    "collapsed": false
   },
   "source": [
    "###### Document-term matrix"
   ]
  },
  {
   "cell_type": "code",
   "execution_count": 11,
   "metadata": {
    "collapsed": false
   },
   "outputs": [
    {
     "data": {
      "text/html": [
       "<table class=\"dataframe\">\n",
       "<caption>A tibble: 6 × 3</caption>\n",
       "<thead>\n",
       "\t<tr><th scope=col>status_id</th><th scope=col>word</th><th scope=col>n</th></tr>\n",
       "\t<tr><th scope=col>&lt;chr&gt;</th><th scope=col>&lt;chr&gt;</th><th scope=col>&lt;int&gt;</th></tr>\n",
       "</thead>\n",
       "<tbody>\n",
       "\t<tr><td>x1336456068671672320</td><td>can   </td><td>2</td></tr>\n",
       "\t<tr><td>x1336456068671672320</td><td>dm    </td><td>1</td></tr>\n",
       "\t<tr><td>x1336456068671672320</td><td>follow</td><td>1</td></tr>\n",
       "\t<tr><td>x1336456068671672320</td><td>help  </td><td>1</td></tr>\n",
       "\t<tr><td>x1336456068671672320</td><td>hi    </td><td>1</td></tr>\n",
       "\t<tr><td>x1336456068671672320</td><td>know  </td><td>1</td></tr>\n",
       "</tbody>\n",
       "</table>\n"
      ],
      "text/latex": [
       "A tibble: 6 × 3\n",
       "\\begin{tabular}{lll}\n",
       " status\\_id & word & n\\\\\n",
       " <chr> & <chr> & <int>\\\\\n",
       "\\hline\n",
       "\t x1336456068671672320 & can    & 2\\\\\n",
       "\t x1336456068671672320 & dm     & 1\\\\\n",
       "\t x1336456068671672320 & follow & 1\\\\\n",
       "\t x1336456068671672320 & help   & 1\\\\\n",
       "\t x1336456068671672320 & hi     & 1\\\\\n",
       "\t x1336456068671672320 & know   & 1\\\\\n",
       "\\end{tabular}\n"
      ],
      "text/markdown": [
       "\n",
       "A tibble: 6 × 3\n",
       "\n",
       "| status_id &lt;chr&gt; | word &lt;chr&gt; | n &lt;int&gt; |\n",
       "|---|---|---|\n",
       "| x1336456068671672320 | can    | 2 |\n",
       "| x1336456068671672320 | dm     | 1 |\n",
       "| x1336456068671672320 | follow | 1 |\n",
       "| x1336456068671672320 | help   | 1 |\n",
       "| x1336456068671672320 | hi     | 1 |\n",
       "| x1336456068671672320 | know   | 1 |\n",
       "\n"
      ],
      "text/plain": [
       "  status_id            word   n\n",
       "1 x1336456068671672320 can    2\n",
       "2 x1336456068671672320 dm     1\n",
       "3 x1336456068671672320 follow 1\n",
       "4 x1336456068671672320 help   1\n",
       "5 x1336456068671672320 hi     1\n",
       "6 x1336456068671672320 know   1"
      ]
     },
     "execution_count": 11,
     "metadata": {
     },
     "output_type": "execute_result"
    }
   ],
   "source": [
    "# Number of times a word occurred in each tweet\n",
    "google_timeline_tokenized <- google_timeline_tokenized %>% count(status_id,word)\n",
    "head(google_timeline_tokenized)"
   ]
  },
  {
   "cell_type": "markdown",
   "metadata": {
    "collapsed": false
   },
   "source": [
    "###### Inspect the text"
   ]
  },
  {
   "cell_type": "code",
   "execution_count": 12,
   "metadata": {
    "collapsed": false,
    "scrolled": true
   },
   "outputs": [
    {
     "data": {
      "text/html": [
       "<table class=\"dataframe\">\n",
       "<caption>A tibble: 6 × 2</caption>\n",
       "<thead>\n",
       "\t<tr><th scope=col>word</th><th scope=col>freq</th></tr>\n",
       "\t<tr><th scope=col>&lt;chr&gt;</th><th scope=col>&lt;int&gt;</th></tr>\n",
       "</thead>\n",
       "<tbody>\n",
       "\t<tr><td>hi   </td><td>2202</td></tr>\n",
       "\t<tr><td>us   </td><td>2173</td></tr>\n",
       "\t<tr><td>help </td><td>2125</td></tr>\n",
       "\t<tr><td>steps</td><td>1919</td></tr>\n",
       "\t<tr><td>know </td><td>1591</td></tr>\n",
       "\t<tr><td>can  </td><td>1576</td></tr>\n",
       "</tbody>\n",
       "</table>\n"
      ],
      "text/latex": [
       "A tibble: 6 × 2\n",
       "\\begin{tabular}{ll}\n",
       " word & freq\\\\\n",
       " <chr> & <int>\\\\\n",
       "\\hline\n",
       "\t hi    & 2202\\\\\n",
       "\t us    & 2173\\\\\n",
       "\t help  & 2125\\\\\n",
       "\t steps & 1919\\\\\n",
       "\t know  & 1591\\\\\n",
       "\t can   & 1576\\\\\n",
       "\\end{tabular}\n"
      ],
      "text/markdown": [
       "\n",
       "A tibble: 6 × 2\n",
       "\n",
       "| word &lt;chr&gt; | freq &lt;int&gt; |\n",
       "|---|---|\n",
       "| hi    | 2202 |\n",
       "| us    | 2173 |\n",
       "| help  | 2125 |\n",
       "| steps | 1919 |\n",
       "| know  | 1591 |\n",
       "| can   | 1576 |\n",
       "\n"
      ],
      "text/plain": [
       "  word  freq\n",
       "1 hi    2202\n",
       "2 us    2173\n",
       "3 help  2125\n",
       "4 steps 1919\n",
       "5 know  1591\n",
       "6 can   1576"
      ]
     },
     "execution_count": 12,
     "metadata": {
     },
     "output_type": "execute_result"
    }
   ],
   "source": [
    "# investigate the most frequent terms\n",
    "google_timeline_freq <- google_timeline_tokenized %>% group_by(word) %>%\n",
    "                  summarize(freq = n()) %>%\n",
    "                  arrange(-freq)\n",
    "head(google_timeline_freq)"
   ]
  },
  {
   "cell_type": "markdown",
   "metadata": {
    "collapsed": false
   },
   "source": [
    "###### Removing https and t.co:"
   ]
  },
  {
   "cell_type": "code",
   "execution_count": 13,
   "metadata": {
    "collapsed": false,
    "scrolled": true
   },
   "outputs": [
    {
     "data": {
      "text/html": [
       "<table class=\"dataframe\">\n",
       "<caption>A tibble: 4 × 1</caption>\n",
       "<thead>\n",
       "\t<tr><th scope=col>word</th></tr>\n",
       "\t<tr><th scope=col>&lt;chr&gt;</th></tr>\n",
       "</thead>\n",
       "<tbody>\n",
       "\t<tr><td>t.co     </td></tr>\n",
       "\t<tr><td>https    </td></tr>\n",
       "\t<tr><td>google   </td></tr>\n",
       "\t<tr><td>heygoogle</td></tr>\n",
       "</tbody>\n",
       "</table>\n"
      ],
      "text/latex": [
       "A tibble: 4 × 1\n",
       "\\begin{tabular}{l}\n",
       " word\\\\\n",
       " <chr>\\\\\n",
       "\\hline\n",
       "\t t.co     \\\\\n",
       "\t https    \\\\\n",
       "\t google   \\\\\n",
       "\t heygoogle\\\\\n",
       "\\end{tabular}\n"
      ],
      "text/markdown": [
       "\n",
       "A tibble: 4 × 1\n",
       "\n",
       "| word &lt;chr&gt; |\n",
       "|---|\n",
       "| t.co      |\n",
       "| https     |\n",
       "| google    |\n",
       "| heygoogle |\n",
       "\n"
      ],
      "text/plain": [
       "  word     \n",
       "1 t.co     \n",
       "2 https    \n",
       "3 google   \n",
       "4 heygoogle"
      ]
     },
     "execution_count": 13,
     "metadata": {
     },
     "output_type": "execute_result"
    }
   ],
   "source": [
    "# create a tibble with unwanted words\n",
    "tco <- tibble(\"word\"= c(\"t.co\", \"https\", \"google\", \"heygoogle\"))\n",
    "tco"
   ]
  },
  {
   "cell_type": "code",
   "execution_count": 14,
   "metadata": {
    "collapsed": false
   },
   "outputs": [
    {
     "name": "stderr",
     "output_type": "stream",
     "text": [
      "Joining, by = \"word\"\n",
      "\n"
     ]
    },
    {
     "data": {
      "text/html": [
       "<table class=\"dataframe\">\n",
       "<caption>A tibble: 6 × 3</caption>\n",
       "<thead>\n",
       "\t<tr><th scope=col>status_id</th><th scope=col>word</th><th scope=col>n</th></tr>\n",
       "\t<tr><th scope=col>&lt;chr&gt;</th><th scope=col>&lt;chr&gt;</th><th scope=col>&lt;int&gt;</th></tr>\n",
       "</thead>\n",
       "<tbody>\n",
       "\t<tr><td>x1336456068671672320</td><td>can   </td><td>2</td></tr>\n",
       "\t<tr><td>x1336456068671672320</td><td>dm    </td><td>1</td></tr>\n",
       "\t<tr><td>x1336456068671672320</td><td>follow</td><td>1</td></tr>\n",
       "\t<tr><td>x1336456068671672320</td><td>help  </td><td>1</td></tr>\n",
       "\t<tr><td>x1336456068671672320</td><td>hi    </td><td>1</td></tr>\n",
       "\t<tr><td>x1336456068671672320</td><td>know  </td><td>1</td></tr>\n",
       "</tbody>\n",
       "</table>\n"
      ],
      "text/latex": [
       "A tibble: 6 × 3\n",
       "\\begin{tabular}{lll}\n",
       " status\\_id & word & n\\\\\n",
       " <chr> & <chr> & <int>\\\\\n",
       "\\hline\n",
       "\t x1336456068671672320 & can    & 2\\\\\n",
       "\t x1336456068671672320 & dm     & 1\\\\\n",
       "\t x1336456068671672320 & follow & 1\\\\\n",
       "\t x1336456068671672320 & help   & 1\\\\\n",
       "\t x1336456068671672320 & hi     & 1\\\\\n",
       "\t x1336456068671672320 & know   & 1\\\\\n",
       "\\end{tabular}\n"
      ],
      "text/markdown": [
       "\n",
       "A tibble: 6 × 3\n",
       "\n",
       "| status_id &lt;chr&gt; | word &lt;chr&gt; | n &lt;int&gt; |\n",
       "|---|---|---|\n",
       "| x1336456068671672320 | can    | 2 |\n",
       "| x1336456068671672320 | dm     | 1 |\n",
       "| x1336456068671672320 | follow | 1 |\n",
       "| x1336456068671672320 | help   | 1 |\n",
       "| x1336456068671672320 | hi     | 1 |\n",
       "| x1336456068671672320 | know   | 1 |\n",
       "\n"
      ],
      "text/plain": [
       "  status_id            word   n\n",
       "1 x1336456068671672320 can    2\n",
       "2 x1336456068671672320 dm     1\n",
       "3 x1336456068671672320 follow 1\n",
       "4 x1336456068671672320 help   1\n",
       "5 x1336456068671672320 hi     1\n",
       "6 x1336456068671672320 know   1"
      ]
     },
     "execution_count": 14,
     "metadata": {
     },
     "output_type": "execute_result"
    }
   ],
   "source": [
    "google_timeline_tokenized <- google_timeline_tokenized %>%anti_join(tco)\n",
    "head(google_timeline_tokenized)"
   ]
  },
  {
   "cell_type": "code",
   "execution_count": 15,
   "metadata": {
    "collapsed": false
   },
   "outputs": [
    {
     "name": "stderr",
     "output_type": "stream",
     "text": [
      "Joining, by = \"word\"\n",
      "\n"
     ]
    },
    {
     "data": {
      "text/html": [
       "<table class=\"dataframe\">\n",
       "<caption>A tibble: 6 × 2</caption>\n",
       "<thead>\n",
       "\t<tr><th scope=col>word</th><th scope=col>freq</th></tr>\n",
       "\t<tr><th scope=col>&lt;chr&gt;</th><th scope=col>&lt;int&gt;</th></tr>\n",
       "</thead>\n",
       "<tbody>\n",
       "\t<tr><td>hi   </td><td>2202</td></tr>\n",
       "\t<tr><td>us   </td><td>2173</td></tr>\n",
       "\t<tr><td>help </td><td>2125</td></tr>\n",
       "\t<tr><td>steps</td><td>1919</td></tr>\n",
       "\t<tr><td>know </td><td>1591</td></tr>\n",
       "\t<tr><td>can  </td><td>1576</td></tr>\n",
       "</tbody>\n",
       "</table>\n"
      ],
      "text/latex": [
       "A tibble: 6 × 2\n",
       "\\begin{tabular}{ll}\n",
       " word & freq\\\\\n",
       " <chr> & <int>\\\\\n",
       "\\hline\n",
       "\t hi    & 2202\\\\\n",
       "\t us    & 2173\\\\\n",
       "\t help  & 2125\\\\\n",
       "\t steps & 1919\\\\\n",
       "\t know  & 1591\\\\\n",
       "\t can   & 1576\\\\\n",
       "\\end{tabular}\n"
      ],
      "text/markdown": [
       "\n",
       "A tibble: 6 × 2\n",
       "\n",
       "| word &lt;chr&gt; | freq &lt;int&gt; |\n",
       "|---|---|\n",
       "| hi    | 2202 |\n",
       "| us    | 2173 |\n",
       "| help  | 2125 |\n",
       "| steps | 1919 |\n",
       "| know  | 1591 |\n",
       "| can   | 1576 |\n",
       "\n"
      ],
      "text/plain": [
       "  word  freq\n",
       "1 hi    2202\n",
       "2 us    2173\n",
       "3 help  2125\n",
       "4 steps 1919\n",
       "5 know  1591\n",
       "6 can   1576"
      ]
     },
     "execution_count": 15,
     "metadata": {
     },
     "output_type": "execute_result"
    }
   ],
   "source": [
    "# remove unwanted words\n",
    "google_timeline_freq <- google_timeline_freq  %>%anti_join(tco)\n",
    "head(google_timeline_freq)"
   ]
  },
  {
   "cell_type": "markdown",
   "metadata": {
    "collapsed": false
   },
   "source": [
    "###### Making WorldClouds:"
   ]
  },
  {
   "cell_type": "code",
   "execution_count": 16,
   "metadata": {
    "collapsed": false
   },
   "outputs": [
    {
     "data": {
      "image/png": "[encoded data removed]",
      "text/plain": [
       "plot without title"
      ]
     },
     "execution_count": 16,
     "metadata": {
      "image/png": {
       "height": 420,
       "width": 420
      }
     },
     "output_type": "execute_result"
    },
    {
     "data": {
      "image/png": "[encoded data removed]",
      "text/plain": [
       "plot without title"
      ]
     },
     "execution_count": 16,
     "metadata": {
      "image/png": {
       "height": 420,
       "width": 420
      }
     },
     "output_type": "execute_result"
    }
   ],
   "source": [
    "# Word cloud based on the original text with no preprocessing\n",
    "tf <- termFreq(google_timeline_text$text)\n",
    "wd1<- wordcloud(names(tf),tf,\n",
    "          max.words=40,\n",
    "          scale=c(3,1),\n",
    "          random.order=FALSE,\n",
    "          colors=brewer.pal(8, \"Dark2\"))\n",
    "wd1\n",
    "\n",
    "# Word cloud based on the pre-processing\n",
    "wd1<- wordcloud(google_timeline_freq$word, google_timeline_freq$freq,\n",
    "          max.words=40,\n",
    "          scale=c(3,1),\n",
    "          random.order=FALSE,\n",
    "          colors=brewer.pal(8, \"Dark2\"))\n"
   ]
  },
  {
   "cell_type": "code",
   "execution_count": 17,
   "metadata": {
    "collapsed": false,
    "scrolled": true
   },
   "outputs": [
    {
     "name": "stderr",
     "output_type": "stream",
     "text": [
      "Selecting by freq\n",
      "\n"
     ]
    },
    {
     "data": {
      "image/png": "[encoded data removed]",
      "text/plain": [
       "plot without title"
      ]
     },
     "execution_count": 17,
     "metadata": {
      "image/png": {
       "height": 420,
       "width": 420
      }
     },
     "output_type": "execute_result"
    }
   ],
   "source": [
    "# bar chart of the most frequent words found in the tweets\n",
    "google_timeline_freq %>% \n",
    "  top_n(15) %>%\n",
    "  mutate(word = reorder(word, freq)) %>%\n",
    "  ggplot(aes(x = word, y = freq)) +\n",
    "  geom_col(fill=\"blue\") +\n",
    "  xlab(NULL) +\n",
    "  coord_flip() +\n",
    "  labs(y = \"Frequency\",\n",
    "       x = \"Unique words\",\n",
    "       title = \"Most frequent words found in the tweets of Google\",\n",
    "       subtitle = \"Stop words removed from the list\")"
   ]
  },
  {
   "cell_type": "code",
   "execution_count": 18,
   "metadata": {
    "collapsed": false
   },
   "outputs": [
   ],
   "source": [
    "# Creating the Document Term Matrix with integrated tfidf \n",
    "google_timeline_DTM <- google_timeline_tokenized %>% \n",
    "                        count(status_id,word , sort=TRUE) %>%\n",
    "                        cast_dtm(document = status_id, term = word,\n",
    "                        value = n, weighting = tm::weightTf)"
   ]
  },
  {
   "cell_type": "code",
   "execution_count": 19,
   "metadata": {
    "collapsed": false
   },
   "outputs": [
    {
     "name": "stdout",
     "output_type": "stream",
     "text": [
      "List of 6\n",
      " $ i       : int [1:49570] 1 2 3 4 5 6 7 8 12 17 ...\n",
      " $ j       : int [1:49570] 1 1 1 1 1 1 1 1 1 1 ...\n",
      " $ v       : num [1:49570] 1 1 1 1 1 1 1 1 1 1 ...\n",
      " $ nrow    : int 3200\n",
      " $ ncol    : int 4889\n",
      " $ dimnames:List of 2\n",
      "  ..$ Docs : chr [1:3200] \"x1336456068671672320\" \"x1336524420567986179\" \"x1336533336861372417\" \"x1336535534454386688\" ...\n",
      "  ..$ Terms: chr [1:4889] \"can\" \"dm\" \"follow\" \"help\" ...\n",
      " - attr(*, \"class\")= chr [1:2] \"DocumentTermMatrix\" \"simple_triplet_matrix\"\n",
      " - attr(*, \"weighting\")= chr [1:2] \"term frequency\" \"tf\"\n"
     ]
    }
   ],
   "source": [
    "# let's inspect this matrix's structure\n",
    "str(google_timeline_DTM)"
   ]
  },
  {
   "cell_type": "code",
   "execution_count": 20,
   "metadata": {
    "collapsed": false,
    "scrolled": true
   },
   "outputs": [
    {
     "data": {
      "text/html": [
       "<strong>$google</strong> = "
      ],
      "text/latex": [
       "\\textbf{\\$google} = "
      ],
      "text/markdown": [
       "**$google** = "
      ],
      "text/plain": [
       "$google\n",
       "numeric(0)\n"
      ]
     },
     "execution_count": 20,
     "metadata": {
     },
     "output_type": "execute_result"
    }
   ],
   "source": [
    "#associations/correlations between words (this is with the dtm):\n",
    "findAssocs(google_timeline_DTM , terms = \"google\", corlimit = 0.10)"
   ]
  },
  {
   "cell_type": "markdown",
   "metadata": {
    "collapsed": false
   },
   "source": [
    "### Summary of Tweets From Google Account Timeline:"
   ]
  },
  {
   "cell_type": "code",
   "execution_count": 21,
   "metadata": {
    "collapsed": false
   },
   "outputs": [
   ],
   "source": [
    "google_tweets_organic <- google_timeline[google_timeline$is_retweet==FALSE, ]"
   ]
  },
  {
   "cell_type": "code",
   "execution_count": 22,
   "metadata": {
    "collapsed": false
   },
   "outputs": [
    {
     "data": {
      "text/html": [
       "74"
      ],
      "text/latex": [
       "74"
      ],
      "text/markdown": [
       "74"
      ],
      "text/plain": [
       "[1] 74"
      ]
     },
     "execution_count": 22,
     "metadata": {
     },
     "output_type": "execute_result"
    }
   ],
   "source": [
    "# Remove replies\n",
    "google_tweets_organic <- subset(google_tweets_organic, is.na(google_tweets_organic$reply_to_status_id))\n",
    "nrow(google_tweets_organic)"
   ]
  },
  {
   "cell_type": "markdown",
   "metadata": {
    "collapsed": false
   },
   "source": [
    "###### Best/ Worst Engagement:"
   ]
  },
  {
   "cell_type": "code",
   "execution_count": 48,
   "metadata": {
    "collapsed": false
   },
   "outputs": [
   ],
   "source": [
    "#head(google_tweets_organic, n=2)"
   ]
  },
  {
   "cell_type": "code",
   "execution_count": 45,
   "metadata": {
    "collapsed": false
   },
   "outputs": [
   ],
   "source": [
    "#colnames(google_tweets_organic)"
   ]
  },
  {
   "cell_type": "code",
   "execution_count": 23,
   "metadata": {
    "collapsed": false
   },
   "outputs": [
    {
     "data": {
      "text/html": [
       "669"
      ],
      "text/latex": [
       "669"
      ],
      "text/markdown": [
       "669"
      ],
      "text/plain": [
       "[1] 669"
      ]
     },
     "execution_count": 23,
     "metadata": {
     },
     "output_type": "execute_result"
    }
   ],
   "source": [
    "# average number of likes per tweet\n",
    "google_tweets_organic$favorite_count<-as.numeric(google_tweets_organic$favorite_count)\n",
    "average<-as.integer(mean(google_tweets_organic$favorite_count))\n",
    "average"
   ]
  },
  {
   "cell_type": "code",
   "execution_count": 24,
   "metadata": {
    "collapsed": false
   },
   "outputs": [
    {
     "data": {
      "text/html": [
       "137"
      ],
      "text/latex": [
       "137"
      ],
      "text/markdown": [
       "137"
      ],
      "text/plain": [
       "[1] 137"
      ]
     },
     "execution_count": 24,
     "metadata": {
     },
     "output_type": "execute_result"
    }
   ],
   "source": [
    "# average number of retweet per tweet \n",
    "google_tweets_organic$retweet_count<-as.numeric(google_tweets_organic$retweet_count)\n",
    "average<-as.integer(mean(google_tweets_organic$retweet_count))\n",
    "average"
   ]
  },
  {
   "cell_type": "code",
   "execution_count": 25,
   "metadata": {
    "collapsed": false
   },
   "outputs": [
    {
     "data": {
      "text/html": [
       "<table class=\"dataframe\">\n",
       "<caption>A tibble: 1 × 6</caption>\n",
       "<thead>\n",
       "\t<tr><th scope=col>user_id</th><th scope=col>status_id</th><th scope=col>created_at</th><th scope=col>screen_name</th><th scope=col>text</th><th scope=col>source</th></tr>\n",
       "\t<tr><th scope=col>&lt;chr&gt;</th><th scope=col>&lt;chr&gt;</th><th scope=col>&lt;chr&gt;</th><th scope=col>&lt;chr&gt;</th><th scope=col>&lt;chr&gt;</th><th scope=col>&lt;chr&gt;</th></tr>\n",
       "</thead>\n",
       "<tbody>\n",
       "\t<tr><td>x20536157</td><td>x1336672282769563651</td><td>2020-12-09 14:01:21</td><td>Google</td><td>In times of uncertainty, people seek understanding and meaning. 2020 was a year of deep questioning, as the world searched \"why\" more than ever, according to Google Trends. Explore more trends from the year at https://t.co/JdD6lj4ru9\n",
       "\n",
       "#YearInSearch https://t.co/wAfuARB3u9</td><td>Twitter Media Studio</td></tr>\n",
       "</tbody>\n",
       "</table>\n"
      ],
      "text/latex": [
       "A tibble: 1 × 6\n",
       "\\begin{tabular}{llllll}\n",
       " user\\_id & status\\_id & created\\_at & screen\\_name & text & source\\\\\n",
       " <chr> & <chr> & <chr> & <chr> & <chr> & <chr>\\\\\n",
       "\\hline\n",
       "\t x20536157 & x1336672282769563651 & 2020-12-09 14:01:21 & Google & In times of uncertainty, people seek understanding and meaning. 2020 was a year of deep questioning, as the world searched \"why\" more than ever, according to Google Trends. Explore more trends from the year at https://t.co/JdD6lj4ru9\n",
       "\n",
       "\\#YearInSearch https://t.co/wAfuARB3u9 & Twitter Media Studio\\\\\n",
       "\\end{tabular}\n"
      ],
      "text/markdown": [
       "\n",
       "A tibble: 1 × 6\n",
       "\n",
       "| user_id &lt;chr&gt; | status_id &lt;chr&gt; | created_at &lt;chr&gt; | screen_name &lt;chr&gt; | text &lt;chr&gt; | source &lt;chr&gt; |\n",
       "|---|---|---|---|---|---|\n",
       "| x20536157 | x1336672282769563651 | 2020-12-09 14:01:21 | Google | In times of uncertainty, people seek understanding and meaning. 2020 was a year of deep questioning, as the world searched \"why\" more than ever, according to Google Trends. Explore more trends from the year at https://t.co/JdD6lj4ru9\n",
       "\n",
       "#YearInSearch https://t.co/wAfuARB3u9 | Twitter Media Studio |\n",
       "\n"
      ],
      "text/plain": [
       "  user_id   status_id            created_at          screen_name\n",
       "1 x20536157 x1336672282769563651 2020-12-09 14:01:21 Google     \n",
       "  text                                                                                                                                                                                                                                                                              \n",
       "1 In times of uncertainty, people seek understanding and meaning. 2020 was a year of deep questioning, as the world searched \"why\" more than ever, according to Google Trends. Explore more trends from the year at https://t.co/JdD6lj4ru9\\n\\n#YearInSearch https://t.co/wAfuARB3u9\n",
       "  source              \n",
       "1 Twitter Media Studio"
      ]
     },
     "execution_count": 25,
     "metadata": {
     },
     "output_type": "execute_result"
    }
   ],
   "source": [
    "#engagement analysis (tweets with highest favourite/like count)\n",
    "google_tweets_organic <- google_tweets_organic%>%arrange(desc(favorite_count))\n",
    "google_tweets_organic[1,1:6]"
   ]
  },
  {
   "cell_type": "code",
   "execution_count": 26,
   "metadata": {
    "collapsed": false
   },
   "outputs": [
    {
     "data": {
      "text/html": [
       "<table class=\"dataframe\">\n",
       "<caption>A tibble: 1 × 6</caption>\n",
       "<thead>\n",
       "\t<tr><th scope=col>user_id</th><th scope=col>status_id</th><th scope=col>created_at</th><th scope=col>screen_name</th><th scope=col>text</th><th scope=col>source</th></tr>\n",
       "\t<tr><th scope=col>&lt;chr&gt;</th><th scope=col>&lt;chr&gt;</th><th scope=col>&lt;chr&gt;</th><th scope=col>&lt;chr&gt;</th><th scope=col>&lt;chr&gt;</th><th scope=col>&lt;chr&gt;</th></tr>\n",
       "</thead>\n",
       "<tbody>\n",
       "\t<tr><td>x20536157</td><td>x1336672282769563651</td><td>2020-12-09 14:01:21</td><td>Google</td><td>In times of uncertainty, people seek understanding and meaning. 2020 was a year of deep questioning, as the world searched \"why\" more than ever, according to Google Trends. Explore more trends from the year at https://t.co/JdD6lj4ru9\n",
       "\n",
       "#YearInSearch https://t.co/wAfuARB3u9</td><td>Twitter Media Studio</td></tr>\n",
       "</tbody>\n",
       "</table>\n"
      ],
      "text/latex": [
       "A tibble: 1 × 6\n",
       "\\begin{tabular}{llllll}\n",
       " user\\_id & status\\_id & created\\_at & screen\\_name & text & source\\\\\n",
       " <chr> & <chr> & <chr> & <chr> & <chr> & <chr>\\\\\n",
       "\\hline\n",
       "\t x20536157 & x1336672282769563651 & 2020-12-09 14:01:21 & Google & In times of uncertainty, people seek understanding and meaning. 2020 was a year of deep questioning, as the world searched \"why\" more than ever, according to Google Trends. Explore more trends from the year at https://t.co/JdD6lj4ru9\n",
       "\n",
       "\\#YearInSearch https://t.co/wAfuARB3u9 & Twitter Media Studio\\\\\n",
       "\\end{tabular}\n"
      ],
      "text/markdown": [
       "\n",
       "A tibble: 1 × 6\n",
       "\n",
       "| user_id &lt;chr&gt; | status_id &lt;chr&gt; | created_at &lt;chr&gt; | screen_name &lt;chr&gt; | text &lt;chr&gt; | source &lt;chr&gt; |\n",
       "|---|---|---|---|---|---|\n",
       "| x20536157 | x1336672282769563651 | 2020-12-09 14:01:21 | Google | In times of uncertainty, people seek understanding and meaning. 2020 was a year of deep questioning, as the world searched \"why\" more than ever, according to Google Trends. Explore more trends from the year at https://t.co/JdD6lj4ru9\n",
       "\n",
       "#YearInSearch https://t.co/wAfuARB3u9 | Twitter Media Studio |\n",
       "\n"
      ],
      "text/plain": [
       "  user_id   status_id            created_at          screen_name\n",
       "1 x20536157 x1336672282769563651 2020-12-09 14:01:21 Google     \n",
       "  text                                                                                                                                                                                                                                                                              \n",
       "1 In times of uncertainty, people seek understanding and meaning. 2020 was a year of deep questioning, as the world searched \"why\" more than ever, according to Google Trends. Explore more trends from the year at https://t.co/JdD6lj4ru9\\n\\n#YearInSearch https://t.co/wAfuARB3u9\n",
       "  source              \n",
       "1 Twitter Media Studio"
      ]
     },
     "execution_count": 26,
     "metadata": {
     },
     "output_type": "execute_result"
    }
   ],
   "source": [
    "#engagement analysis (tweets with highest retweets count)\n",
    "google_tweets_organic <- google_tweets_organic %>% arrange(desc(retweet_count))\n",
    "google_tweets_organic[1,1:6]"
   ]
  },
  {
   "cell_type": "markdown",
   "metadata": {
    "collapsed": false
   },
   "source": [
    "###### Types of Tweets:"
   ]
  },
  {
   "cell_type": "code",
   "execution_count": 27,
   "metadata": {
    "collapsed": false
   },
   "outputs": [
    {
     "data": {
      "text/html": [
       "18"
      ],
      "text/latex": [
       "18"
      ],
      "text/markdown": [
       "18"
      ],
      "text/plain": [
       "[1] 18"
      ]
     },
     "execution_count": 27,
     "metadata": {
     },
     "output_type": "execute_result"
    }
   ],
   "source": [
    "# Keeping only the retweets\n",
    "google_retweets <- google_timeline[google_timeline$is_retweet==TRUE,]\n",
    "nrow(google_retweets)"
   ]
  },
  {
   "cell_type": "code",
   "execution_count": 28,
   "metadata": {
    "collapsed": false
   },
   "outputs": [
    {
     "data": {
      "text/html": [
       "3108"
      ],
      "text/latex": [
       "3108"
      ],
      "text/markdown": [
       "3108"
      ],
      "text/plain": [
       "[1] 3108"
      ]
     },
     "execution_count": 28,
     "metadata": {
     },
     "output_type": "execute_result"
    }
   ],
   "source": [
    "# Keeping only the replies\n",
    "google_replies <- subset(google_timeline, !is.na(google_timeline$reply_to_status_id))\n",
    "nrow(google_replies)"
   ]
  },
  {
   "cell_type": "code",
   "execution_count": 29,
   "metadata": {
    "collapsed": false
   },
   "outputs": [
    {
     "data": {
      "text/html": [
       "<table class=\"dataframe\">\n",
       "<caption>A data.frame: 3 × 2</caption>\n",
       "<thead>\n",
       "\t<tr><th scope=col>category</th><th scope=col>count</th></tr>\n",
       "\t<tr><th scope=col>&lt;chr&gt;</th><th scope=col>&lt;dbl&gt;</th></tr>\n",
       "</thead>\n",
       "<tbody>\n",
       "\t<tr><td>Organic </td><td>  74</td></tr>\n",
       "\t<tr><td>Retweets</td><td>  18</td></tr>\n",
       "\t<tr><td>Replies </td><td>3108</td></tr>\n",
       "</tbody>\n",
       "</table>\n"
      ],
      "text/latex": [
       "A data.frame: 3 × 2\n",
       "\\begin{tabular}{ll}\n",
       " category & count\\\\\n",
       " <chr> & <dbl>\\\\\n",
       "\\hline\n",
       "\t Organic  &   74\\\\\n",
       "\t Retweets &   18\\\\\n",
       "\t Replies  & 3108\\\\\n",
       "\\end{tabular}\n"
      ],
      "text/markdown": [
       "\n",
       "A data.frame: 3 × 2\n",
       "\n",
       "| category &lt;chr&gt; | count &lt;dbl&gt; |\n",
       "|---|---|\n",
       "| Organic  |   74 |\n",
       "| Retweets |   18 |\n",
       "| Replies  | 3108 |\n",
       "\n"
      ],
      "text/plain": [
       "  category count\n",
       "1 Organic    74 \n",
       "2 Retweets   18 \n",
       "3 Replies  3108 "
      ]
     },
     "execution_count": 29,
     "metadata": {
     },
     "output_type": "execute_result"
    }
   ],
   "source": [
    "# Creating a data frame base on the observations count for retweets, replies and organic tweets\n",
    "data_google <- data.frame(\n",
    "  category=c(\"Organic\", \"Retweets\", \"Replies\"),\n",
    "  count=c(74, 18, 3108)\n",
    ")\n",
    "\n",
    "data_google"
   ]
  },
  {
   "cell_type": "code",
   "execution_count": 30,
   "metadata": {
    "collapsed": false
   },
   "outputs": [
    {
     "data": {
      "image/png": "[encoded data removed]",
      "text/plain": [
       "plot without title"
      ]
     },
     "execution_count": 30,
     "metadata": {
      "image/png": {
       "height": 420,
       "width": 420
      }
     },
     "output_type": "execute_result"
    }
   ],
   "source": [
    "# Adding columns\n",
    "data_google$fraction = data_google$count / sum(data_google$count)\n",
    "data_google$percentage = data_google$count / sum(data_google$count) * 100\n",
    "data_google$ymax = cumsum(data_google$fraction)\n",
    "data_google$ymin = c(0, head(data_google$ymax, n=-1))\n",
    "# Rounding the data to two decimal points\n",
    "data_google[,-1] <- round(data_google[,-1], 2)\n",
    "# Specify what the legend should say\n",
    "Type_of_Tweet <- paste(data_google$category, data_google$percentage, \"%\")\n",
    "ggplot(data_google, aes(ymax=ymax, ymin=ymin, xmax=4, xmin=3, fill=Type_of_Tweet)) +\n",
    "  geom_rect() +\n",
    "  coord_polar(theta=\"y\") + \n",
    "  xlim(c(2, 4)) +\n",
    "  theme_void() +\n",
    "  theme(legend.position = \"right\")"
   ]
  },
  {
   "cell_type": "code",
   "execution_count": 31,
   "metadata": {
    "collapsed": false
   },
   "outputs": [
    {
     "data": {
      "text/html": [
       "<table class=\"dataframe\">\n",
       "<caption>A data.frame: 3 × 6</caption>\n",
       "<thead>\n",
       "\t<tr><th scope=col>category</th><th scope=col>count</th><th scope=col>fraction</th><th scope=col>percentage</th><th scope=col>ymax</th><th scope=col>ymin</th></tr>\n",
       "\t<tr><th scope=col>&lt;chr&gt;</th><th scope=col>&lt;dbl&gt;</th><th scope=col>&lt;dbl&gt;</th><th scope=col>&lt;dbl&gt;</th><th scope=col>&lt;dbl&gt;</th><th scope=col>&lt;dbl&gt;</th></tr>\n",
       "</thead>\n",
       "<tbody>\n",
       "\t<tr><td>Organic </td><td>  74</td><td>0.02</td><td> 2.31</td><td>0.02</td><td>0.00</td></tr>\n",
       "\t<tr><td>Retweets</td><td>  18</td><td>0.01</td><td> 0.56</td><td>0.03</td><td>0.02</td></tr>\n",
       "\t<tr><td>Replies </td><td>3108</td><td>0.97</td><td>97.12</td><td>1.00</td><td>0.03</td></tr>\n",
       "</tbody>\n",
       "</table>\n"
      ],
      "text/latex": [
       "A data.frame: 3 × 6\n",
       "\\begin{tabular}{llllll}\n",
       " category & count & fraction & percentage & ymax & ymin\\\\\n",
       " <chr> & <dbl> & <dbl> & <dbl> & <dbl> & <dbl>\\\\\n",
       "\\hline\n",
       "\t Organic  &   74 & 0.02 &  2.31 & 0.02 & 0.00\\\\\n",
       "\t Retweets &   18 & 0.01 &  0.56 & 0.03 & 0.02\\\\\n",
       "\t Replies  & 3108 & 0.97 & 97.12 & 1.00 & 0.03\\\\\n",
       "\\end{tabular}\n"
      ],
      "text/markdown": [
       "\n",
       "A data.frame: 3 × 6\n",
       "\n",
       "| category &lt;chr&gt; | count &lt;dbl&gt; | fraction &lt;dbl&gt; | percentage &lt;dbl&gt; | ymax &lt;dbl&gt; | ymin &lt;dbl&gt; |\n",
       "|---|---|---|---|---|---|\n",
       "| Organic  |   74 | 0.02 |  2.31 | 0.02 | 0.00 |\n",
       "| Retweets |   18 | 0.01 |  0.56 | 0.03 | 0.02 |\n",
       "| Replies  | 3108 | 0.97 | 97.12 | 1.00 | 0.03 |\n",
       "\n"
      ],
      "text/plain": [
       "  category count fraction percentage ymax ymin\n",
       "1 Organic    74  0.02      2.31      0.02 0.00\n",
       "2 Retweets   18  0.01      0.56      0.03 0.02\n",
       "3 Replies  3108  0.97     97.12      1.00 0.03"
      ]
     },
     "execution_count": 31,
     "metadata": {
     },
     "output_type": "execute_result"
    }
   ],
   "source": [
    "data_google"
   ]
  },
  {
   "cell_type": "markdown",
   "metadata": {
    "collapsed": false
   },
   "source": [
    "###### Source of Tweets"
   ]
  },
  {
   "cell_type": "code",
   "execution_count": 32,
   "metadata": {
    "collapsed": false
   },
   "outputs": [
    {
     "name": "stderr",
     "output_type": "stream",
     "text": [
      "Selecting by count\n",
      "\n"
     ]
    },
    {
     "data": {
      "text/html": [
       "<table class=\"dataframe\">\n",
       "<caption>A tibble: 4 × 2</caption>\n",
       "<thead>\n",
       "\t<tr><th scope=col>source</th><th scope=col>count</th></tr>\n",
       "\t<tr><th scope=col>&lt;chr&gt;</th><th scope=col>&lt;int&gt;</th></tr>\n",
       "</thead>\n",
       "<tbody>\n",
       "\t<tr><td>Conversocial        </td><td>3089</td></tr>\n",
       "\t<tr><td>Twitter Web App     </td><td>  90</td></tr>\n",
       "\t<tr><td>Twitter Media Studio</td><td>  15</td></tr>\n",
       "\t<tr><td>Sprinklr            </td><td>   6</td></tr>\n",
       "</tbody>\n",
       "</table>\n"
      ],
      "text/latex": [
       "A tibble: 4 × 2\n",
       "\\begin{tabular}{ll}\n",
       " source & count\\\\\n",
       " <chr> & <int>\\\\\n",
       "\\hline\n",
       "\t Conversocial         & 3089\\\\\n",
       "\t Twitter Web App      &   90\\\\\n",
       "\t Twitter Media Studio &   15\\\\\n",
       "\t Sprinklr             &    6\\\\\n",
       "\\end{tabular}\n"
      ],
      "text/markdown": [
       "\n",
       "A tibble: 4 × 2\n",
       "\n",
       "| source &lt;chr&gt; | count &lt;int&gt; |\n",
       "|---|---|\n",
       "| Conversocial         | 3089 |\n",
       "| Twitter Web App      |   90 |\n",
       "| Twitter Media Studio |   15 |\n",
       "| Sprinklr             |    6 |\n",
       "\n"
      ],
      "text/plain": [
       "  source               count\n",
       "1 Conversocial         3089 \n",
       "2 Twitter Web App        90 \n",
       "3 Twitter Media Studio   15 \n",
       "4 Sprinklr                6 "
      ]
     },
     "execution_count": 32,
     "metadata": {
     },
     "output_type": "execute_result"
    }
   ],
   "source": [
    "#Group tweets per source to check from which source tweets are publish\n",
    "google_app <- google_timeline %>% \n",
    "  select(source) %>% \n",
    "  group_by(source) %>%\n",
    "  summarize(count=n())\n",
    "google_app <-google_app[order(google_app$count, decreasing = TRUE),]%>% top_n(10)\n",
    "google_app\n"
   ]
  },
  {
   "cell_type": "code",
   "execution_count": 33,
   "metadata": {
    "collapsed": false
   },
   "outputs": [
    {
     "data": {
      "image/png": "[encoded data removed]",
      "text/plain": [
       "plot without title"
      ]
     },
     "execution_count": 33,
     "metadata": {
      "image/png": {
       "height": 420,
       "width": 420
      }
     },
     "output_type": "execute_result"
    }
   ],
   "source": [
    "#Create data frame of source count per type\n",
    "data_google_app <- data.frame(\n",
    "  category=google_app$source,\n",
    "  count=google_app$count\n",
    ")\n",
    "\n",
    "#Create statical value and plot the data\n",
    "data_google_app$fraction = data_google_app$count / sum(data_google_app$count)\n",
    "data_google_app$percentage = data_google_app$count / sum(data_google_app$count) * 100\n",
    "data_google_app$ymax = cumsum(data_google_app$fraction)\n",
    "data_google_app$ymin = c(0, head(data_google_app$ymax, n=-1))\n",
    "data_google_app[,-1] <- round(data_google_app[,-1], 2)\n",
    "Source <- paste(data_google_app$category, data_google_app$percentage, \"%\")\n",
    "ggplot(data_google_app, aes(ymax=ymax, ymin=ymin, xmax=4, xmin=3, fill=Source)) +\n",
    "  geom_rect() +\n",
    "  coord_polar(theta=\"y\") + \n",
    "  xlim(c(2, 4)) +\n",
    "  theme_void() +\n",
    "  theme(legend.position = \"right\")"
   ]
  },
  {
   "cell_type": "markdown",
   "metadata": {
    "collapsed": false
   },
   "source": [
    "###### Timing of tweets"
   ]
  },
  {
   "cell_type": "code",
   "execution_count": 34,
   "metadata": {
    "collapsed": false
   },
   "outputs": [
    {
     "data": {
      "image/png": "[encoded data removed]",
      "text/plain": [
       "plot without title"
      ]
     },
     "execution_count": 34,
     "metadata": {
      "image/png": {
       "height": 420,
       "width": 420
      }
     },
     "output_type": "execute_result"
    }
   ],
   "source": [
    "#Show when the tweets are published\n",
    "\n",
    "colnames(google_timeline)[colnames(google_timeline)==\"screen_name\"] <- \"Twitter_Account\"\n",
    "ts_plot(dplyr::group_by(google_timeline, Twitter_Account), \"day\") +\n",
    "  ggplot2::theme_minimal() +\n",
    "  ggplot2::theme(plot.title = ggplot2::element_text(face = \"bold\")) +\n",
    "  ggplot2::labs(\n",
    "    x = NULL, y = NULL,\n",
    "    title = \"Frequency of Tweets from Googles\",\n",
    "    subtitle = \"Tweet counts aggregated by days\",\n",
    "    caption = \"\\nSource: Data collected from Twitter's REST API via rtweet\"\n",
    "  )"
   ]
  },
  {
   "cell_type": "markdown",
   "metadata": {
    "collapsed": false
   },
   "source": [
    "### Sentiment analysis of Tweets of Google:"
   ]
  },
  {
   "cell_type": "code",
   "execution_count": 35,
   "metadata": {
    "collapsed": false
   },
   "outputs": [
    {
     "name": "stderr",
     "output_type": "stream",
     "text": [
      "Joining, by = \"word\"\n",
      "\n"
     ]
    },
    {
     "data": {
      "text/html": [
       "<table class=\"dataframe\">\n",
       "<caption>A tibble: 6 × 4</caption>\n",
       "<thead>\n",
       "\t<tr><th scope=col>status_id</th><th scope=col>word</th><th scope=col>n</th><th scope=col>sentiment</th></tr>\n",
       "\t<tr><th scope=col>&lt;chr&gt;</th><th scope=col>&lt;chr&gt;</th><th scope=col>&lt;int&gt;</th><th scope=col>&lt;chr&gt;</th></tr>\n",
       "</thead>\n",
       "<tbody>\n",
       "\t<tr><td>x1336524420567986179</td><td>suspect</td><td>1</td><td>negative</td></tr>\n",
       "\t<tr><td>x1336533336861372417</td><td>well   </td><td>1</td><td>positive</td></tr>\n",
       "\t<tr><td>x1336537289502154752</td><td>like   </td><td>1</td><td>positive</td></tr>\n",
       "\t<tr><td>x1336542715069206529</td><td>best   </td><td>1</td><td>positive</td></tr>\n",
       "\t<tr><td>x1336550684410441728</td><td>secure </td><td>1</td><td>positive</td></tr>\n",
       "\t<tr><td>x1336588697807056896</td><td>glad   </td><td>1</td><td>positive</td></tr>\n",
       "</tbody>\n",
       "</table>\n"
      ],
      "text/latex": [
       "A tibble: 6 × 4\n",
       "\\begin{tabular}{llll}\n",
       " status\\_id & word & n & sentiment\\\\\n",
       " <chr> & <chr> & <int> & <chr>\\\\\n",
       "\\hline\n",
       "\t x1336524420567986179 & suspect & 1 & negative\\\\\n",
       "\t x1336533336861372417 & well    & 1 & positive\\\\\n",
       "\t x1336537289502154752 & like    & 1 & positive\\\\\n",
       "\t x1336542715069206529 & best    & 1 & positive\\\\\n",
       "\t x1336550684410441728 & secure  & 1 & positive\\\\\n",
       "\t x1336588697807056896 & glad    & 1 & positive\\\\\n",
       "\\end{tabular}\n"
      ],
      "text/markdown": [
       "\n",
       "A tibble: 6 × 4\n",
       "\n",
       "| status_id &lt;chr&gt; | word &lt;chr&gt; | n &lt;int&gt; | sentiment &lt;chr&gt; |\n",
       "|---|---|---|---|\n",
       "| x1336524420567986179 | suspect | 1 | negative |\n",
       "| x1336533336861372417 | well    | 1 | positive |\n",
       "| x1336537289502154752 | like    | 1 | positive |\n",
       "| x1336542715069206529 | best    | 1 | positive |\n",
       "| x1336550684410441728 | secure  | 1 | positive |\n",
       "| x1336588697807056896 | glad    | 1 | positive |\n",
       "\n"
      ],
      "text/plain": [
       "  status_id            word    n sentiment\n",
       "1 x1336524420567986179 suspect 1 negative \n",
       "2 x1336533336861372417 well    1 positive \n",
       "3 x1336537289502154752 like    1 positive \n",
       "4 x1336542715069206529 best    1 positive \n",
       "5 x1336550684410441728 secure  1 positive \n",
       "6 x1336588697807056896 glad    1 positive "
      ]
     },
     "execution_count": 35,
     "metadata": {
     },
     "output_type": "execute_result"
    },
    {
     "data": {
      "text/html": [
       "1900"
      ],
      "text/latex": [
       "1900"
      ],
      "text/markdown": [
       "1900"
      ],
      "text/plain": [
       "[1] 1900"
      ]
     },
     "execution_count": 35,
     "metadata": {
     },
     "output_type": "execute_result"
    }
   ],
   "source": [
    "#Sentiment analysis\n",
    "google_timelineSentiment <- inner_join(google_timeline_tokenized,get_sentiments(\"bing\"))\n",
    "\n",
    "head(google_timelineSentiment)\n",
    "nrow(google_timelineSentiment)"
   ]
  },
  {
   "cell_type": "code",
   "execution_count": 36,
   "metadata": {
    "collapsed": false
   },
   "outputs": [
    {
     "name": "stderr",
     "output_type": "stream",
     "text": [
      "Selecting by n\n",
      "\n"
     ]
    },
    {
     "data": {
      "text/html": [
       "<table class=\"dataframe\">\n",
       "<caption>A data.frame: 6 × 3</caption>\n",
       "<thead>\n",
       "\t<tr><th></th><th scope=col>word</th><th scope=col>sentiment</th><th scope=col>n</th></tr>\n",
       "\t<tr><th></th><th scope=col>&lt;chr&gt;</th><th scope=col>&lt;chr&gt;</th><th scope=col>&lt;int&gt;</th></tr>\n",
       "</thead>\n",
       "<tbody>\n",
       "\t<tr><th scope=row>1</th><td>clueless     </td><td>negative</td><td>2</td></tr>\n",
       "\t<tr><th scope=row>2</th><td>disruption   </td><td>negative</td><td>2</td></tr>\n",
       "\t<tr><th scope=row>3</th><td>emergency    </td><td>negative</td><td>2</td></tr>\n",
       "\t<tr><th scope=row>4</th><td>expire       </td><td>negative</td><td>2</td></tr>\n",
       "\t<tr><th scope=row>5</th><td>harsh        </td><td>negative</td><td>2</td></tr>\n",
       "\t<tr><th scope=row>6</th><td>inconvenience</td><td>negative</td><td>2</td></tr>\n",
       "</tbody>\n",
       "</table>\n"
      ],
      "text/latex": [
       "A data.frame: 6 × 3\n",
       "\\begin{tabular}{r|lll}\n",
       "  & word & sentiment & n\\\\\n",
       "  & <chr> & <chr> & <int>\\\\\n",
       "\\hline\n",
       "\t1 & clueless      & negative & 2\\\\\n",
       "\t2 & disruption    & negative & 2\\\\\n",
       "\t3 & emergency     & negative & 2\\\\\n",
       "\t4 & expire        & negative & 2\\\\\n",
       "\t5 & harsh         & negative & 2\\\\\n",
       "\t6 & inconvenience & negative & 2\\\\\n",
       "\\end{tabular}\n"
      ],
      "text/markdown": [
       "\n",
       "A data.frame: 6 × 3\n",
       "\n",
       "| <!--/--> | word &lt;chr&gt; | sentiment &lt;chr&gt; | n &lt;int&gt; |\n",
       "|---|---|---|---|\n",
       "| 1 | clueless      | negative | 2 |\n",
       "| 2 | disruption    | negative | 2 |\n",
       "| 3 | emergency     | negative | 2 |\n",
       "| 4 | expire        | negative | 2 |\n",
       "| 5 | harsh         | negative | 2 |\n",
       "| 6 | inconvenience | negative | 2 |\n",
       "\n"
      ],
      "text/plain": [
       "  word          sentiment n\n",
       "1 clueless      negative  2\n",
       "2 disruption    negative  2\n",
       "3 emergency     negative  2\n",
       "4 expire        negative  2\n",
       "5 harsh         negative  2\n",
       "6 inconvenience negative  2"
      ]
     },
     "execution_count": 36,
     "metadata": {
     },
     "output_type": "execute_result"
    }
   ],
   "source": [
    "#Get the most negative and positive words\n",
    "\n",
    "google_Sentiment_summary <- google_timelineSentiment %>%  count(word,sentiment,sort=TRUE) %>%\n",
    "                    group_by(sentiment) %>%\n",
    "                    top_n(10) %>%  \n",
    "                    arrange(n) %>%\n",
    "                    as.data.frame(stringsAsFactors=FALSE)\n",
    "\n",
    "head(google_Sentiment_summary)"
   ]
  },
  {
   "cell_type": "code",
   "execution_count": 37,
   "metadata": {
    "collapsed": false
   },
   "outputs": [
    {
     "data": {
      "image/png": "[encoded data removed]",
      "text/plain": [
       "plot without title"
      ]
     },
     "execution_count": 37,
     "metadata": {
      "image/png": {
       "height": 420,
       "width": 420
      }
     },
     "output_type": "execute_result"
    }
   ],
   "source": [
    "google_Sentiment_summary %>%\n",
    "  ungroup() %>%\n",
    "  mutate(word = reorder(word, n)) %>%\n",
    "  ggplot(aes(word, n, fill = sentiment)) +\n",
    "  geom_col(show.legend = FALSE) +\n",
    "  facet_wrap(~sentiment, scales = \"free_y\") +\n",
    "  labs(y = \"Google sentiment summary\",\n",
    "       x = NULL) +\n",
    "  coord_flip()"
   ]
  },
  {
   "cell_type": "markdown",
   "metadata": {
    "collapsed": false
   },
   "source": [
    "#####  Content Analysis:"
   ]
  },
  {
   "cell_type": "code",
   "execution_count": 72,
   "metadata": {
    "collapsed": false
   },
   "outputs": [
   ],
   "source": [
    "# create topic model:\n",
    "google_timeline_lda <- LDA(google_timeline_DTM, k = 3,method=\"gibbs\",control = list(nstart = 5, burnin = 2000, best = TRUE, seed = 2:6) )"
   ]
  },
  {
   "cell_type": "code",
   "execution_count": 73,
   "metadata": {
    "collapsed": false
   },
   "outputs": [
    {
     "name": "stdout",
     "output_type": "stream",
     "text": [
      "Formal class 'LDA_Gibbs' [package \"topicmodels\"] with 16 slots\n",
      "  ..@ seedwords      : NULL\n",
      "  ..@ z              : int [1:50041] 3 3 3 2 2 3 1 3 3 3 ...\n",
      "  ..@ alpha          : num 16.7\n",
      "  ..@ call           : language LDA(x = google_timeline_DTM, k = 3, method = \"gibbs\", control = list(nstart = 5,      burnin = 2000, best = TRUE, seed = 2:6))\n",
      "  ..@ Dim            : int [1:2] 3200 4891\n",
      "  ..@ control        :Formal class 'LDA_Gibbscontrol' [package \"topicmodels\"] with 14 slots\n",
      "  .. .. ..@ delta        : num 0.1\n",
      "  .. .. ..@ iter         : int 4000\n",
      "  .. .. ..@ thin         : int 2000\n",
      "  .. .. ..@ burnin       : int 2000\n",
      "  .. .. ..@ initialize   : chr \"random\"\n",
      "  .. .. ..@ alpha        : num 16.7\n",
      "  .. .. ..@ seed         : int [1:5] 2 3 4 5 6\n",
      "  .. .. ..@ verbose      : int 0\n",
      "  .. .. ..@ prefix       : chr \"/tmp/RtmplKSke4/file18534339f628\"\n",
      "  .. .. ..@ save         : int 0\n",
      "  .. .. ..@ nstart       : int 5\n",
      "  .. .. ..@ best         : logi TRUE\n",
      "  .. .. ..@ keep         : int 0\n",
      "  .. .. ..@ estimate.beta: logi TRUE\n",
      "  ..@ k              : int 3\n",
      "  ..@ terms          : chr [1:4891] \"can\" \"dm\" \"follow\" \"help\" ...\n",
      "  ..@ documents      : chr [1:3200] \"x1336456068671672320\" \"x1336524420567986179\" \"x1336533336861372417\" \"x1336535534454386688\" ...\n",
      "  ..@ beta           : num [1:3, 1:4891] -12.07 -12 -2.42 -12.07 -12 ...\n",
      "  ..@ gamma          : num [1:3200, 1:3] 0.307 0.344 0.249 0.283 0.268 ...\n",
      "  ..@ wordassignments:List of 5\n",
      "  .. ..$ i   : int [1:50041] 1 1 1 1 1 1 1 1 1 1 ...\n",
      "  .. ..$ j   : int [1:50041] 1 2 3 4 5 6 7 8 9 10 ...\n",
      "  .. ..$ v   : num [1:50041] 3 3 3 2 2 3 3 3 3 3 ...\n",
      "  .. ..$ nrow: int 3200\n",
      "  .. ..$ ncol: int 4891\n",
      "  .. ..- attr(*, \"class\")= chr \"simple_triplet_matrix\"\n",
      "  ..@ loglikelihood  : num -229743\n",
      "  ..@ iter           : int 4000\n",
      "  ..@ logLiks        : num(0) \n",
      "  ..@ n              : int 50041\n"
     ]
    }
   ],
   "source": [
    "# look at model structure:\n",
    "str(google_timeline_lda)"
   ]
  },
  {
   "cell_type": "code",
   "execution_count": 75,
   "metadata": {
    "collapsed": false
   },
   "outputs": [
    {
     "data": {
      "text/html": [
       "<table class=\"dataframe\">\n",
       "<caption>A tibble: 6 × 3</caption>\n",
       "<thead>\n",
       "\t<tr><th scope=col>topic</th><th scope=col>term</th><th scope=col>beta</th></tr>\n",
       "\t<tr><th scope=col>&lt;int&gt;</th><th scope=col>&lt;chr&gt;</th><th scope=col>&lt;dbl&gt;</th></tr>\n",
       "</thead>\n",
       "<tbody>\n",
       "\t<tr><td>1</td><td>can</td><td>5.713274e-06</td></tr>\n",
       "\t<tr><td>2</td><td>can</td><td>6.171278e-06</td></tr>\n",
       "\t<tr><td>3</td><td>can</td><td>8.853947e-02</td></tr>\n",
       "\t<tr><td>1</td><td>dm </td><td>5.713274e-06</td></tr>\n",
       "\t<tr><td>2</td><td>dm </td><td>6.171278e-06</td></tr>\n",
       "\t<tr><td>3</td><td>dm </td><td>7.084394e-02</td></tr>\n",
       "</tbody>\n",
       "</table>\n"
      ],
      "text/latex": [
       "A tibble: 6 × 3\n",
       "\\begin{tabular}{lll}\n",
       " topic & term & beta\\\\\n",
       " <int> & <chr> & <dbl>\\\\\n",
       "\\hline\n",
       "\t 1 & can & 5.713274e-06\\\\\n",
       "\t 2 & can & 6.171278e-06\\\\\n",
       "\t 3 & can & 8.853947e-02\\\\\n",
       "\t 1 & dm  & 5.713274e-06\\\\\n",
       "\t 2 & dm  & 6.171278e-06\\\\\n",
       "\t 3 & dm  & 7.084394e-02\\\\\n",
       "\\end{tabular}\n"
      ],
      "text/markdown": [
       "\n",
       "A tibble: 6 × 3\n",
       "\n",
       "| topic &lt;int&gt; | term &lt;chr&gt; | beta &lt;dbl&gt; |\n",
       "|---|---|---|\n",
       "| 1 | can | 5.713274e-06 |\n",
       "| 2 | can | 6.171278e-06 |\n",
       "| 3 | can | 8.853947e-02 |\n",
       "| 1 | dm  | 5.713274e-06 |\n",
       "| 2 | dm  | 6.171278e-06 |\n",
       "| 3 | dm  | 7.084394e-02 |\n",
       "\n"
      ],
      "text/plain": [
       "  topic term beta        \n",
       "1 1     can  5.713274e-06\n",
       "2 2     can  6.171278e-06\n",
       "3 3     can  8.853947e-02\n",
       "4 1     dm   5.713274e-06\n",
       "5 2     dm   6.171278e-06\n",
       "6 3     dm   7.084394e-02"
      ]
     },
     "execution_count": 75,
     "metadata": {
     },
     "output_type": "execute_result"
    }
   ],
   "source": [
    "# terms per topic\n",
    "google_tweet_topics <- tidy(google_timeline_lda, matrix = \"beta\")\n",
    "head(google_tweet_topics)"
   ]
  },
  {
   "cell_type": "code",
   "execution_count": 77,
   "metadata": {
    "collapsed": false
   },
   "outputs": [
    {
     "data": {
      "image/png": "[encoded data removed]",
      "text/plain": [
       "plot without title"
      ]
     },
     "execution_count": 77,
     "metadata": {
      "image/png": {
       "height": 420,
       "width": 420
      }
     },
     "output_type": "execute_result"
    }
   ],
   "source": [
    "# visualize this\n",
    "\n",
    "# you can use the following code to get the top terms per topic\n",
    "google_top_tweet_terms <- google_tweet_topics %>%\n",
    "  group_by(topic) %>%\n",
    "  top_n(10, beta) %>%\n",
    "  ungroup() %>%\n",
    "  arrange(topic, -beta)\n",
    "\n",
    "\n",
    "google_top_tweet_terms %>%\n",
    "  mutate(term = reorder_within(term, beta, topic)) %>%\n",
    "  ggplot(aes(term, beta, fill = factor(topic))) +\n",
    "  geom_col(show.legend = FALSE) +\n",
    "  facet_wrap(~ topic, scales = \"free\") +\n",
    "  coord_flip() +\n",
    "  scale_x_reordered()"
   ]
  },
  {
   "cell_type": "code",
   "execution_count": 79,
   "metadata": {
    "collapsed": false
   },
   "outputs": [
    {
     "data": {
      "text/html": [
       "<table class=\"dataframe\">\n",
       "<caption>A tibble: 3 × 2</caption>\n",
       "<thead>\n",
       "\t<tr><th></th><th scope=col>topic</th><th scope=col>nbr_documents</th></tr>\n",
       "\t<tr><th></th><th scope=col>&lt;int&gt;</th><th scope=col>&lt;int&gt;</th></tr>\n",
       "</thead>\n",
       "<tbody>\n",
       "\t<tr><th scope=row>1</th><td>1</td><td>1339</td></tr>\n",
       "\t<tr><th scope=row>2</th><td>2</td><td> 599</td></tr>\n",
       "\t<tr><th scope=row>3</th><td>3</td><td>1262</td></tr>\n",
       "</tbody>\n",
       "</table>\n"
      ],
      "text/latex": [
       "A tibble: 3 × 2\n",
       "\\begin{tabular}{r|ll}\n",
       "  & topic & nbr\\_documents\\\\\n",
       "  & <int> & <int>\\\\\n",
       "\\hline\n",
       "\t1 & 1 & 1339\\\\\n",
       "\t2 & 2 &  599\\\\\n",
       "\t3 & 3 & 1262\\\\\n",
       "\\end{tabular}\n"
      ],
      "text/markdown": [
       "\n",
       "A tibble: 3 × 2\n",
       "\n",
       "| <!--/--> | topic &lt;int&gt; | nbr_documents &lt;int&gt; |\n",
       "|---|---|---|\n",
       "| 1 | 1 | 1339 |\n",
       "| 2 | 2 |  599 |\n",
       "| 3 | 3 | 1262 |\n",
       "\n"
      ],
      "text/plain": [
       "  topic nbr_documents\n",
       "1 1     1339         \n",
       "2 2      599         \n",
       "3 3     1262         "
      ]
     },
     "execution_count": 79,
     "metadata": {
     },
     "output_type": "execute_result"
    }
   ],
   "source": [
    "google_tweet_documents <- tidy(google_timeline_lda, matrix = \"gamma\")\n",
    "# Choose, per tweet, the most important topic (the one with the highest weight)\n",
    "google_tweet_doc_topic <- google_tweet_documents %>%\n",
    "  group_by(document) %>%\n",
    "  arrange(desc(gamma)) %>%\n",
    "  slice(1) \n",
    "\n",
    " google_tweet_doc_topic%>%\n",
    "  group_by(topic) %>% \n",
    "  summarise(nbr_documents = n())"
   ]
  },
  {
   "cell_type": "code",
   "execution_count": 0,
   "metadata": {
    "collapsed": false
   },
   "outputs": [
   ],
   "source": [
   ]
  }
 ],
 "metadata": {
  "kernelspec": {
   "display_name": "R (system-wide)",
   "language": "r",
   "metadata": {
    "cocalc": {
     "description": "R statistical programming language",
     "priority": 10,
     "url": "https://www.r-project.org/"
    }
   },
   "name": "ir",
   "resource_dir": "/ext/jupyter/kernels/ir"
  },
  "language_info": {
   "codemirror_mode": "r",
   "file_extension": ".r",
   "mimetype": "text/x-r-source",
   "name": "R",
   "pygments_lexer": "r",
   "version": "4.0.3"
  }
 },
 "nbformat": 4,
 "nbformat_minor": 4
}