{
 "cells": [
  {
   "cell_type": "markdown",
   "metadata": {
    "collapsed": false
   },
   "source": [
    "# Social Media Analytics - Group Project "
   ]
  },
  {
   "cell_type": "markdown",
   "metadata": {
    "collapsed": false
   },
   "source": [
    "###### Group 5: Salma BARKETALLAH, Ndjaidoukmi KEDA, Noémie GAUTIER"
   ]
  },
  {
   "cell_type": "markdown",
   "metadata": {
    "collapsed": false
   },
   "source": [
    "Company: Google"
   ]
  },
  {
   "cell_type": "markdown",
   "metadata": {
    "collapsed": false
   },
   "source": [
    "#### I. Access Token & Installing Packages"
   ]
  },
  {
   "cell_type": "code",
   "execution_count": 1,
   "metadata": {
    "collapsed": false
   },
   "outputs": [
   ],
   "source": [
    "# Getting tokens from the doc created:\n",
    "source(\"tokens.R\")"
   ]
  },
  {
   "cell_type": "code",
   "execution_count": 2,
   "metadata": {
    "collapsed": false
   },
   "outputs": [
   ],
   "source": [
    "options(warnings = -1)"
   ]
  },
  {
   "cell_type": "code",
   "execution_count": 4,
   "metadata": {
    "collapsed": false
   },
   "outputs": [
   ],
   "source": [
    "# Install rtweet package:\n",
    "if(!require(\"rtweet\")) install.packages(\"rtweet\", quiet=TRUE); library(\"rtweet\", quiet=TRUE)"
   ]
  },
  {
   "cell_type": "code",
   "execution_count": 5,
   "metadata": {
    "collapsed": false
   },
   "outputs": [
   ],
   "source": [
    "# create the access token (authentication)\n",
    "twitter_token <- create_token(\n",
    "  app = app_name,\n",
    "  consumer_key = consumer_key,\n",
    "  consumer_secret = consumer_secret,\n",
    "  access_token = access_token,\n",
    "  access_secret = access_secret,\n",
    "  set_renv=FALSE)"
   ]
  },
  {
   "cell_type": "code",
   "execution_count": 8,
   "metadata": {
    "collapsed": false,
    "scrolled": true
   },
   "outputs": [
   ],
   "source": [
    "# Install Other packages:\n",
    "for (i in c('SnowballC','slam','tm','Matrix','tidytext','dplyr','hunspell','purrr','wordcloud','RWeka')){\n",
    "  if (!require(i, character.only=TRUE)) install.packages(i, repos = \"http://cran.us.r-project.org\", quiet=TRUE)\n",
    "  require(i, character.only=TRUE, quiet=TRUE)\n",
    "}"
   ]
  },
  {
   "cell_type": "code",
   "execution_count": 9,
   "metadata": {
    "collapsed": false,
    "scrolled": true
   },
   "outputs": [
   ],
   "source": [
    "library(tidyverse, quiet=TRUE)"
   ]
  },
  {
   "cell_type": "code",
   "execution_count": 11,
   "metadata": {
    "collapsed": false
   },
   "outputs": [
   ],
   "source": [
    "if (!require(\"topicmodels\")) install.packages(\"topicmodels\", quiet=TRUE) ; require(\"topicmodels\")"
   ]
  },
  {
   "cell_type": "code",
   "execution_count": 23,
   "metadata": {
    "collapsed": false
   },
   "outputs": [
   ],
   "source": [
    "library(dplyr)"
   ]
  },
  {
   "cell_type": "markdown",
   "metadata": {
    "collapsed": false
   },
   "source": [
    "#### II.  Gather Data on Google Via Twitter:"
   ]
  },
  {
   "cell_type": "code",
   "execution_count": 158,
   "metadata": {
    "collapsed": false
   },
   "outputs": [
   ],
   "source": [
    "account <- 'Google lang:en'\n",
    "h_account <- '#HeyGoogle lang:en' #the official name with hashtag\n",
    "at_account <- '@google'\n",
    "list_ID_number <- 20566259 #Google Around the World lis ID\n",
    "list_ID_number2 <- 42906849 #Google Products list ID"
   ]
  },
  {
   "cell_type": "markdown",
   "metadata": {
    "collapsed": false
   },
   "source": [
    "###### Number of followers:"
   ]
  },
  {
   "cell_type": "code",
   "execution_count": 159,
   "metadata": {
    "collapsed": false
   },
   "outputs": [
    {
     "data": {
      "text/html": [
       "<table class=\"dataframe\">\n",
       "<caption>A tibble: 3 × 1</caption>\n",
       "<thead>\n",
       "\t<tr><th scope=col>user_id</th></tr>\n",
       "\t<tr><th scope=col>&lt;chr&gt;</th></tr>\n",
       "</thead>\n",
       "<tbody>\n",
       "\t<tr><td>NA</td></tr>\n",
       "\t<tr><td>NA</td></tr>\n",
       "\t<tr><td>NA</td></tr>\n",
       "</tbody>\n",
       "</table>\n"
      ],
      "text/latex": [
       "A tibble: 3 × 1\n",
       "\\begin{tabular}{l}\n",
       " user\\_id\\\\\n",
       " <chr>\\\\\n",
       "\\hline\n",
       "\t NA\\\\\n",
       "\t NA\\\\\n",
       "\t NA\\\\\n",
       "\\end{tabular}\n"
      ],
      "text/markdown": [
       "\n",
       "A tibble: 3 × 1\n",
       "\n",
       "| user_id &lt;chr&gt; |\n",
       "|---|\n",
       "| NA |\n",
       "| NA |\n",
       "| NA |\n",
       "\n"
      ],
      "text/plain": [
       "  user_id\n",
       "1 NA     \n",
       "2 NA     \n",
       "3 NA     "
      ]
     },
     "execution_count": 159,
     "metadata": {
     },
     "output_type": "execute_result"
    },
    {
     "data": {
      "text/html": [
       "<table class=\"dataframe\">\n",
       "<caption>A tibble: 1 × 1</caption>\n",
       "<thead>\n",
       "\t<tr><th scope=col>n</th></tr>\n",
       "\t<tr><th scope=col>&lt;int&gt;</th></tr>\n",
       "</thead>\n",
       "<tbody>\n",
       "\t<tr><td>6</td></tr>\n",
       "</tbody>\n",
       "</table>\n"
      ],
      "text/latex": [
       "A tibble: 1 × 1\n",
       "\\begin{tabular}{l}\n",
       " n\\\\\n",
       " <int>\\\\\n",
       "\\hline\n",
       "\t 6\\\\\n",
       "\\end{tabular}\n"
      ],
      "text/markdown": [
       "\n",
       "A tibble: 1 × 1\n",
       "\n",
       "| n &lt;int&gt; |\n",
       "|---|\n",
       "| 6 |\n",
       "\n"
      ],
      "text/plain": [
       "  n\n",
       "1 6"
      ]
     },
     "execution_count": 159,
     "metadata": {
     },
     "output_type": "execute_result"
    }
   ],
   "source": [
    "#When using the direct line of code to get more than 75000 followers we are having sleep time error so we have used it in the for loop to avoid this error.\n",
    "# As google have more than 22millions of followers for our analysis we have limited the number to 150.000 users to be able to process\n",
    "followersList <- list()\n",
    "i <- 0\n",
    "for (i in 1:10){\n",
    "  if (i==1){\n",
    "    followersList[[1]] <- get_followers(\"Google\", n= 75000, page = \"-1\", retryonratelimit = TRUE, token=twitter_token)\n",
    "  }\n",
    "  else{\n",
    "    nextpage <- next_cursor(followersList[[i-1]])\n",
    "    Sys.sleep(15 * 60) ## Suspend execution of R expressions for 15 mins\n",
    "    followersList[[i]] <- get_followers(\"Google\", n= 75000, page = nextpage, retryonratelimit = TRUE, token=twitter_token)\n",
    "  }\n",
    "\n",
    "}\n",
    "\n",
    "#combine all the list in one\n",
    "followers <- rbindlist(followersList)\n",
    "n_rows(followers)"
   ]
  },
  {
   "cell_type": "code",
   "execution_count": 0,
   "metadata": {
    "collapsed": false
   },
   "outputs": [
   ],
   "source": [
    "#Collect profile data from those followers\n",
    "followers_info <- list()\n",
    "i <- 0\n",
    "for (i in 1:10){\n",
    "  followers_info[i] <- lapply(followersList[[i]],lookup_users,token=twitter_token)\n",
    "}\n",
    "\n",
    "followers_infodata <- rbindlist(followers_info)\n",
    "nrow(followers_infodata)\n",
    "str(followers_infodata)"
   ]
  },
  {
   "cell_type": "code",
   "execution_count": 0,
   "metadata": {
    "collapsed": false
   },
   "outputs": [
   ],
   "source": [
    "#Save the data on csv  file\n",
    "google_followers <- file.path(\"C:\",\"Users\", \"nkeda\" , \"Desktop\",\"google_followers\"  )\n",
    "write_as_csv(followers_google, google_followers, prepend_ids = TRUE, na = \"\", fileEncoding = \"UTF-8\")\n",
    "\n",
    "#save followers ID list\n",
    "google_followersID <- file.path(\"C:\",\"Users\", \"nkeda\" , \"Desktop\",\"google_followersID\"  )\n",
    "write_as_csv(followers_google, google_followersID, prepend_ids = TRUE, na = \"\", fileEncoding = \"UTF-8\")"
   ]
  },
  {
   "cell_type": "markdown",
   "metadata": {
    "collapsed": false
   },
   "source": [
    "###### User IDs of accounts followed by Google"
   ]
  },
  {
   "cell_type": "code",
   "execution_count": 160,
   "metadata": {
    "collapsed": false
   },
   "outputs": [
    {
     "data": {
      "text/html": [
      ],
      "text/latex": [
      ],
      "text/markdown": [
      ],
      "text/plain": [
       "<0 x 0 matrix>"
      ]
     },
     "execution_count": 160,
     "metadata": {
     },
     "output_type": "execute_result"
    }
   ],
   "source": [
    "# Google have less than 500 friends \n",
    "friends <- get_friends(\"Google\", n= 500, page = \"-1\", retryonratelimit = TRUE, token=twitter_token)\n",
    "\n",
    "head(friends, n=3)"
   ]
  },
  {
   "cell_type": "code",
   "execution_count": 0,
   "metadata": {
    "collapsed": false
   },
   "outputs": [
   ],
   "source": [
    "#Collect friends profile data\n",
    "friends_info <- lapply(friends,lookup_users,token=twitter_token)\n",
    "friends_data <- rbindlist(friends_info)"
   ]
  },
  {
   "cell_type": "code",
   "execution_count": 0,
   "metadata": {
    "collapsed": false
   },
   "outputs": [
   ],
   "source": [
    "#Save the data on CSV file\n",
    "google_friends_data <- file.path(\"C:\",\"Users\", \"nkeda\" , \"Desktop\",\"google_friends_data\"  )\n",
    "write_as_csv(friends_data, google_friends_data, prepend_ids = TRUE, na = \"\", fileEncoding = \"UTF-8\")\n",
    "\n",
    "#Save Friends ID list\n",
    "\n",
    "google_friendsID <- file.path(\"C:\",\"Users\", \"nkeda\" , \"Desktop\",\"google_friendsID\"  )\n",
    "write_as_csv(friends_data, google_friendsID, prepend_ids = TRUE, na = \"\", fileEncoding = \"UTF-8\")"
   ]
  },
  {
   "cell_type": "markdown",
   "metadata": {
    "collapsed": false
   },
   "source": [
    "###### Gather all tweets from Google in 2020:"
   ]
  },
  {
   "cell_type": "markdown",
   "metadata": {
    "collapsed": false
   },
   "source": [
    "###### Tweets Mentioning Google:"
   ]
  },
  {
   "cell_type": "code",
   "execution_count": 0,
   "metadata": {
    "collapsed": false
   },
   "outputs": [
   ],
   "source": [
    "# download tweets and hastags over the year (to be run once as we have a sandbox, only 50 requests are allowed)\n",
    "# The idea here is to collect data over the year as we are limited with the number of time we can make the request with our sandbox,\n",
    "# so we have decided in our code to loop over each month to collect data\n",
    "tweetlist <-list()\n",
    "htweetlist <- list()\n",
    "years <-0\n",
    "i <- 0\n",
    "\n",
    "for (i in 1:12){\n",
    "  years <- 202000 + i\n",
    "  year_month <- as.character(years)\n",
    "  start_date <- paste0(year_month,'010000')\n",
    "  if (i==2){\n",
    "    end_date <- paste0(year_month,'280000')\n",
    "  } else {\n",
    "    end_date <- paste0(year_month,'300000')\n",
    "  }\n",
    "  tweetlist[[i]] <- search_fullarchive(account, env_name=\"searchfull\",fromDate=start_date,toDate=end_date,token=twitter_token)\n",
    "\n",
    "  htweetlist[[i]] <-search_fullarchive(h_account, env_name=\"searchfull\",fromDate=start_date,toDate=end_date,token=twitter_token)\n",
    "}\n",
    "\n",
    "tweets <- rbindlist(tweetlist)\n",
    "htweets <- rbindlist(htweetlist)\n",
    "#Save data as CSV file\n",
    "google_tweets <- file.path(\"C:\",\"Users\", \"nkeda\" , \"Desktop\",\"google_tweets\"  )\n",
    "write_as_csv(tweets, google_tweets, prepend_ids = TRUE, na = \"\", fileEncoding = \"UTF-8\")\n",
    "\n",
    "#Save data as CSV file\n",
    "google_htweets <- file.path(\"C:\",\"Users\", \"nkeda\" , \"Desktop\",\"google_htweets\"  )\n",
    "write_as_csv(htweets, google_htweets, prepend_ids = TRUE, na = \"\", fileEncoding = \"UTF-8\")"
   ]
  },
  {
   "cell_type": "code",
   "execution_count": 0,
   "metadata": {
    "collapsed": false
   },
   "outputs": [
   ],
   "source": [
    "#code to collecte tweets with @google over the year (to be run once as we have a sandbox, only 15 requests are allowed)\n",
    "# same approach as previous one\n",
    "atweetlist <-list()\n",
    "years <-0\n",
    "i <- 0\n",
    "\n",
    "for (i in 1:12){\n",
    "  years <- 202000 + i\n",
    "  year_month <- as.character(years)\n",
    "  start_date <- paste0(year_month,'010000')\n",
    "  if (i==2){\n",
    "    end_date <- paste0(year_month,'280000')\n",
    "  } else {\n",
    "    end_date <- paste0(year_month,'300000')\n",
    "  }\n",
    "  atweetlist[[i]] <- search_fullarchive(at_account, env_name=\"searchfull\",fromDate=start_date,toDate=end_date,token=twitter_token)\n",
    "\n",
    "}\n",
    "\n",
    "#Save data as CSV file\n",
    "google_atweets <- file.path(\"C:\",\"Users\", \"nkeda\" , \"Desktop\",\"google_atweets\"  )\n",
    "write_as_csv(atweets, google_atweets, prepend_ids = TRUE, na = \"\", fileEncoding = \"UTF-8\")"
   ]
  },
  {
   "cell_type": "markdown",
   "metadata": {
    "collapsed": false
   },
   "source": [
    "###### Timeline:"
   ]
  },
  {
   "cell_type": "code",
   "execution_count": 0,
   "metadata": {
    "collapsed": false
   },
   "outputs": [
   ],
   "source": [
    "g_timeline <- get_timeline(\"Google\", n=5000,token=twitter_token )\n",
    "\n",
    "head(g_timeline)"
   ]
  },
  {
   "cell_type": "code",
   "execution_count": 0,
   "metadata": {
    "collapsed": false
   },
   "outputs": [
   ],
   "source": [
    "#Save data on csv file\n",
    "\n",
    "google_timeline <- file.path(\"C:\",\"Users\", \"nkeda\" , \"Desktop\",\"google_timeline\"  )\n",
    "write_as_csv(g_timeline, google_timeline, prepend_ids = TRUE, na = \"\", fileEncoding = \"UTF-8\")\n"
   ]
  }
 ],
 "metadata": {
  "kernelspec": {
   "display_name": "R (system-wide)",
   "language": "r",
   "metadata": {
    "cocalc": {
     "description": "R statistical programming language",
     "priority": 10,
     "url": "https://www.r-project.org/"
    }
   },
   "name": "ir",
   "resource_dir": "/ext/jupyter/kernels/ir"
  },
  "language_info": {
   "codemirror_mode": "r",
   "file_extension": ".r",
   "mimetype": "text/x-r-source",
   "name": "R",
   "pygments_lexer": "r",
   "version": "4.0.3"
  }
 },
 "nbformat": 4,
 "nbformat_minor": 4
}