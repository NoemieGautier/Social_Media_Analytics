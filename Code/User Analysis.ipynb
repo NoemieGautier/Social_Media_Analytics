{
 "cells": [
  {
   "cell_type": "markdown",
   "metadata": {},
   "source": [
    "# Social Media Analytics - Group Project "
   ]
  },
  {
   "cell_type": "markdown",
   "metadata": {},
   "source": [
    "###### Group 5: Salma BARKETALLAH, Ndjaidoukmi KEDA, Noémie GAUTIER"
   ]
  },
  {
   "cell_type": "markdown",
   "metadata": {},
   "source": [
    "Company: Google"
   ]
  },
  {
   "cell_type": "markdown",
   "metadata": {},
   "source": [
    " In this notebook, we will analyze the user/ friends / followers of Google"
   ]
  },
  {
   "cell_type": "code",
   "execution_count": 1,
   "metadata": {},
   "outputs": [],
   "source": [
    "options(warnings = -1)"
   ]
  },
  {
   "cell_type": "markdown",
   "metadata": {},
   "source": [
    "###  Loading the required packages "
   ]
  },
  {
   "cell_type": "code",
   "execution_count": 2,
   "metadata": {},
   "outputs": [
    {
     "name": "stderr",
     "output_type": "stream",
     "text": [
      "Loading required package: rtweet\n",
      "Warning message:\n",
      "\"package 'rtweet' was built under R version 3.6.3\""
     ]
    }
   ],
   "source": [
    "# Install rtweet package:\n",
    "if(!require(\"rtweet\")) install.packages(\"rtweet\", quiet=TRUE); library(\"rtweet\", quiet=TRUE)"
   ]
  },
  {
   "cell_type": "code",
   "execution_count": 3,
   "metadata": {},
   "outputs": [
    {
     "name": "stderr",
     "output_type": "stream",
     "text": [
      "Loading required package: topicmodels\n",
      "Warning message:\n",
      "\"package 'topicmodels' was built under R version 3.6.3\"Loading required package: ggplot2\n",
      "Warning message:\n",
      "\"package 'ggplot2' was built under R version 3.6.3\"Loading required package: readr\n",
      "Warning message:\n",
      "\"package 'readr' was built under R version 3.6.3\"Loading required package: SnowballC\n",
      "Warning message:\n",
      "\"package 'SnowballC' was built under R version 3.6.3\"Loading required package: slam\n",
      "Warning message:\n",
      "\"package 'slam' was built under R version 3.6.3\"Loading required package: tm\n",
      "Warning message:\n",
      "\"package 'tm' was built under R version 3.6.3\"Loading required package: NLP\n",
      "Warning message:\n",
      "\"package 'NLP' was built under R version 3.6.3\"\n",
      "Attaching package: 'NLP'\n",
      "\n",
      "The following object is masked from 'package:ggplot2':\n",
      "\n",
      "    annotate\n",
      "\n",
      "Loading required package: Matrix\n",
      "Warning message:\n",
      "\"package 'Matrix' was built under R version 3.6.3\"Loading required package: tidytext\n",
      "Warning message:\n",
      "\"package 'tidytext' was built under R version 3.6.3\"Loading required package: dplyr\n",
      "Warning message:\n",
      "\"package 'dplyr' was built under R version 3.6.3\"\n",
      "Attaching package: 'dplyr'\n",
      "\n",
      "The following objects are masked from 'package:stats':\n",
      "\n",
      "    filter, lag\n",
      "\n",
      "The following objects are masked from 'package:base':\n",
      "\n",
      "    intersect, setdiff, setequal, union\n",
      "\n",
      "Loading required package: hunspell\n",
      "Warning message:\n",
      "\"package 'hunspell' was built under R version 3.6.3\"Loading required package: purrr\n",
      "Warning message:\n",
      "\"package 'purrr' was built under R version 3.6.3\"\n",
      "Attaching package: 'purrr'\n",
      "\n",
      "The following object is masked from 'package:rtweet':\n",
      "\n",
      "    flatten\n",
      "\n",
      "Loading required package: wordcloud\n",
      "Warning message:\n",
      "\"package 'wordcloud' was built under R version 3.6.3\"Loading required package: RColorBrewer\n",
      "Loading required package: RWeka\n",
      "Warning message:\n",
      "\"package 'RWeka' was built under R version 3.6.3\"Error: package or namespace load failed for 'RWeka':\n",
      " .onLoad failed in loadNamespace() for 'rJava', details:\n",
      "  call: fun(libname, pkgname)\n",
      "  error: JAVA_HOME cannot be determined from the Registry\n"
     ]
    },
    {
     "name": "stdout",
     "output_type": "stream",
     "text": [
      "package 'RWeka' successfully unpacked and MD5 sums checked\n"
     ]
    },
    {
     "name": "stderr",
     "output_type": "stream",
     "text": [
      "Warning message:\n",
      "\"package 'RWeka' was built under R version 3.6.3\"Error: package or namespace load failed for 'RWeka':\n",
      " .onLoad failed in loadNamespace() for 'rJava', details:\n",
      "  call: fun(libname, pkgname)\n",
      "  error: JAVA_HOME cannot be determined from the Registry\n"
     ]
    }
   ],
   "source": [
    "# Install Other packages:\n",
    "for (i in c('topicmodels','ggplot2','readr','SnowballC','slam','tm','Matrix','tidytext','dplyr','hunspell','purrr','wordcloud','RWeka')){\n",
    "  if (!require(i, character.only=TRUE)) install.packages(i, repos = \"http://cran.us.r-project.org\", quiet=TRUE)\n",
    "  require(i, character.only=TRUE, quiet=TRUE)\n",
    "}"
   ]
  },
  {
   "cell_type": "code",
   "execution_count": 4,
   "metadata": {
    "scrolled": true
   },
   "outputs": [
    {
     "name": "stderr",
     "output_type": "stream",
     "text": [
      "Warning message:\n",
      "\"package 'tidyverse' was built under R version 3.6.3\"-- Attaching packages --------------------------------------- tidyverse 1.3.0 --\n",
      "v tibble  3.0.3     v stringr 1.4.0\n",
      "v tidyr   1.1.2     v forcats 0.5.0\n",
      "Warning message:\n",
      "\"package 'tibble' was built under R version 3.6.3\"Warning message:\n",
      "\"package 'tidyr' was built under R version 3.6.3\"Warning message:\n",
      "\"package 'stringr' was built under R version 3.6.3\"Warning message:\n",
      "\"package 'forcats' was built under R version 3.6.3\"-- Conflicts ------------------------------------------ tidyverse_conflicts() --\n",
      "x NLP::annotate()  masks ggplot2::annotate()\n",
      "x tidyr::expand()  masks Matrix::expand()\n",
      "x dplyr::filter()  masks stats::filter()\n",
      "x purrr::flatten() masks rtweet::flatten()\n",
      "x dplyr::lag()     masks stats::lag()\n",
      "x tidyr::pack()    masks Matrix::pack()\n",
      "x tidyr::unpack()  masks Matrix::unpack()\n"
     ]
    }
   ],
   "source": [
    "library(tidyverse, quiet=TRUE)"
   ]
  },
  {
   "cell_type": "code",
   "execution_count": 6,
   "metadata": {},
   "outputs": [
    {
     "ename": "ERROR",
     "evalue": "Error in library(leaflet): there is no package called 'leaflet'\n",
     "output_type": "error",
     "traceback": [
      "Error in library(leaflet): there is no package called 'leaflet'\nTraceback:\n",
      "1. library(leaflet)"
     ]
    }
   ],
   "source": [
    "library(leaflet)\n",
    "library(maps)"
   ]
  },
  {
   "cell_type": "markdown",
   "metadata": {},
   "source": [
    "##  Loading the CSV files:"
   ]
  },
  {
   "cell_type": "code",
   "execution_count": 7,
   "metadata": {},
   "outputs": [],
   "source": [
    "# Ids of Google Account followers\n",
    "google_followers <- read_csv(\"google_followers.csv\", col_types = cols())\n",
    "\n",
    "#Ids of Google Account friends\n",
    "google_friends <- read_csv(\"google_friends.csv\", col_types = cols())\n",
    "\n",
    "# Ids of Google account Users\n",
    "#google_users <- read_csv(\"google_users.csv\", col_types = cols())\n",
    "\n",
    "# In which list does Google belong to\n",
    "#google_memberships <- read_csv(\"google_memberships.csv\", col_types = cols())\n",
    "\n",
    "# Info about Google members\n",
    "#google_members1 <- read_csv(\"google_members1.csv\", col_types = cols())\n",
    "#google_members2 <- read_csv(\"google_members2.csv\", col_types = cols())"
   ]
  },
  {
   "cell_type": "markdown",
   "metadata": {},
   "source": [
    "###  User Analysis"
   ]
  },
  {
   "cell_type": "markdown",
   "metadata": {},
   "source": [
    "###### Followers Analysis"
   ]
  },
  {
   "cell_type": "code",
   "execution_count": 8,
   "metadata": {},
   "outputs": [],
   "source": [
    "#read followers data from  csv file\n",
    "google_followers <- read_csv(\"google_followers.csv\", col_types = cols())"
   ]
  },
  {
   "cell_type": "code",
   "execution_count": 9,
   "metadata": {},
   "outputs": [
    {
     "data": {
      "text/html": [
       "434779"
      ],
      "text/latex": [
       "434779"
      ],
      "text/markdown": [
       "434779"
      ],
      "text/plain": [
       "[1] 434779"
      ]
     },
     "metadata": {},
     "output_type": "display_data"
    }
   ],
   "source": [
    "nrow(google_followers)"
   ]
  },
  {
   "cell_type": "code",
   "execution_count": 10,
   "metadata": {},
   "outputs": [],
   "source": [
    "#select only useful columns for the analysis\n",
    "followers_data <- google_followers %>%\n",
    "                  select(\"user_id\", \"lang\" , \"country\", \"country_code\", \"country_code\", \"coords_coords\", \"protected\", \n",
    "                         \"followers_count\", \"friends_count\", \"listed_count\", \"statuses_count\", \"favourites_count\", \"account_lang\", \"verified\")"
   ]
  },
  {
   "cell_type": "code",
   "execution_count": 11,
   "metadata": {},
   "outputs": [
    {
     "data": {
      "text/html": [
       "201"
      ],
      "text/latex": [
       "201"
      ],
      "text/markdown": [
       "201"
      ],
      "text/plain": [
       "[1] 201"
      ]
     },
     "metadata": {},
     "output_type": "display_data"
    }
   ],
   "source": [
    "#number of followers with verified account\n",
    "verified <- followers_data[followers_data$verified == TRUE ,]\n",
    "nrow(verified)"
   ]
  },
  {
   "cell_type": "code",
   "execution_count": 12,
   "metadata": {},
   "outputs": [
    {
     "data": {
      "text/html": [
       "37909"
      ],
      "text/latex": [
       "37909"
      ],
      "text/markdown": [
       "37909"
      ],
      "text/plain": [
       "[1] 37909"
      ]
     },
     "metadata": {},
     "output_type": "display_data"
    }
   ],
   "source": [
    "#number of followers with protected account\n",
    "protected <- followers_data[followers_data$protected == TRUE ,]\n",
    "nrow(protected)"
   ]
  },
  {
   "cell_type": "code",
   "execution_count": 13,
   "metadata": {},
   "outputs": [
    {
     "data": {
      "text/html": [
       "396670"
      ],
      "text/latex": [
       "396670"
      ],
      "text/markdown": [
       "396670"
      ],
      "text/plain": [
       "[1] 396670"
      ]
     },
     "metadata": {},
     "output_type": "display_data"
    }
   ],
   "source": [
    "#number of followers with regular/normal account\n",
    "normal <- followers_data[(followers_data$protected == FALSE & followers_data$verified == FALSE) ,]\n",
    "nrow(normal)"
   ]
  },
  {
   "cell_type": "code",
   "execution_count": 14,
   "metadata": {},
   "outputs": [],
   "source": [
    "#create a data frame with statistic of verified, normal and protected account\n",
    "data_followers <- data.frame(\n",
    "  category=c(\"Verified\", \"Protected\", \"Normal\"),\n",
    "  count=c(201, 37909, 396670)\n",
    ")\n",
    "data_followers$percentage = round((data_followers$count / sum(data_followers$count) * 100),2)"
   ]
  },
  {
   "cell_type": "code",
   "execution_count": 15,
   "metadata": {},
   "outputs": [
    {
     "data": {
      "image/png": "[encoded data removed]",
      "text/plain": [
       "plot without title"
      ]
     },
     "metadata": {},
     "output_type": "display_data"
    }
   ],
   "source": [
    "#create pie chart for the categories of user\n",
    "ggplot(data_followers, aes(x=\"\", y=percentage, fill=category)) +\n",
    "  geom_bar(stat=\"identity\", width=1, color=\"white\") +\n",
    "  coord_polar(\"y\", start=0) +\n",
    "  theme_void()"
   ]
  },
  {
   "cell_type": "code",
   "execution_count": 16,
   "metadata": {},
   "outputs": [
    {
     "data": {
      "image/png": "[encoded data removed]",
      "text/plain": [
       "plot without title"
      ]
     },
     "metadata": {},
     "output_type": "display_data"
    }
   ],
   "source": [
    "#plot favourites count vs status count\n",
    "ggplot(followers_data, aes(x=favourites_count, y=statuses_count)) + \n",
    "    geom_point(aes(size=followers_count, color=protected))+\n",
    "    theme_minimal()+\n",
    "    labs(title=\"Favourites vs Statuses\", x=\"Favourites\", y=\"Statuses\")"
   ]
  },
  {
   "cell_type": "code",
   "execution_count": 17,
   "metadata": {},
   "outputs": [
    {
     "data": {
      "image/png": "[encoded data removed]",
      "text/plain": [
       "plot without title"
      ]
     },
     "metadata": {},
     "output_type": "display_data"
    }
   ],
   "source": [
    "#plot followers count vs friends count\n",
    "ggplot(followers_data, aes(x=friends_count, y=followers_count)) + \n",
    "    geom_point(size=2, color='darkblue')+\n",
    "    theme_minimal()+\n",
    "    labs(title=\"Followers vs Friends\", x=\"Friends\", y=\"Followers\")"
   ]
  },
  {
   "cell_type": "code",
   "execution_count": 18,
   "metadata": {
    "scrolled": true
   },
   "outputs": [
    {
     "name": "stderr",
     "output_type": "stream",
     "text": [
      "Selecting by n\n",
      "Warning message:\n",
      "\"Ignoring unknown parameters: stat\""
     ]
    },
    {
     "data": {
      "image/png": "[encoded data removed]",
      "text/plain": [
       "plot without title"
      ]
     },
     "metadata": {},
     "output_type": "display_data"
    }
   ],
   "source": [
    "#Plot top 20 language of google followers\n",
    "followers_lang <- followers_data%>%\n",
    "                  count(lang, sort = T)%>%\n",
    "                  top_n(20)\n",
    "ggplot(followers_lang, aes(x=reorder(lang,n), y=n)) + \n",
    "  geom_col(fill='red',  position = \"dodge\", stat=\"identity\") + \n",
    "  theme_minimal() + \n",
    "  theme(text = element_text(size=8), axis.text.x = element_text(hjust=1)) + \n",
    "  labs(title=\"Top 20 Language Distribution\", x=\"Language\", y=\"Nbr of Followers\")\n"
   ]
  },
  {
   "cell_type": "markdown",
   "metadata": {},
   "source": [
    "###### Friends Analysis"
   ]
  },
  {
   "cell_type": "code",
   "execution_count": 19,
   "metadata": {},
   "outputs": [],
   "source": [
    "#Load CSV file of friends data\n",
    "google_friends_data <- read_csv(\"google_friends_data.csv\", col_types = cols())"
   ]
  },
  {
   "cell_type": "code",
   "execution_count": 20,
   "metadata": {},
   "outputs": [
    {
     "data": {
      "text/html": [
       "293"
      ],
      "text/latex": [
       "293"
      ],
      "text/markdown": [
       "293"
      ],
      "text/plain": [
       "[1] 293"
      ]
     },
     "metadata": {},
     "output_type": "display_data"
    }
   ],
   "source": [
    "nrow(google_friends_data)"
   ]
  },
  {
   "cell_type": "code",
   "execution_count": 21,
   "metadata": {},
   "outputs": [
    {
     "data": {
      "text/html": [
       "235"
      ],
      "text/latex": [
       "235"
      ],
      "text/markdown": [
       "235"
      ],
      "text/plain": [
       "[1] 235"
      ]
     },
     "metadata": {},
     "output_type": "display_data"
    }
   ],
   "source": [
    "#Number of friends with verified account\n",
    "verified_friends <- google_friends_data[google_friends_data$verified == TRUE ,]\n",
    "nrow(verified_friends)"
   ]
  },
  {
   "cell_type": "code",
   "execution_count": 22,
   "metadata": {},
   "outputs": [
    {
     "data": {
      "text/html": [
       "7"
      ],
      "text/latex": [
       "7"
      ],
      "text/markdown": [
       "7"
      ],
      "text/plain": [
       "[1] 7"
      ]
     },
     "metadata": {},
     "output_type": "display_data"
    }
   ],
   "source": [
    "#number of friends with protected account\n",
    "protected_friends <- google_friends_data[google_friends_data$protected == TRUE ,]\n",
    "nrow(protected_friends)"
   ]
  },
  {
   "cell_type": "code",
   "execution_count": 23,
   "metadata": {},
   "outputs": [
    {
     "data": {
      "text/html": [
       "56"
      ],
      "text/latex": [
       "56"
      ],
      "text/markdown": [
       "56"
      ],
      "text/plain": [
       "[1] 56"
      ]
     },
     "metadata": {},
     "output_type": "display_data"
    }
   ],
   "source": [
    "#number of friends with non protected and non verifief account (normal twitter user)\n",
    "normal_friends <- google_friends_data[(google_friends_data$protected == FALSE & google_friends_data$verified == FALSE) ,]\n",
    "nrow(normal_friends)"
   ]
  },
  {
   "cell_type": "code",
   "execution_count": 24,
   "metadata": {},
   "outputs": [
    {
     "data": {
      "text/html": [
       "5"
      ],
      "text/latex": [
       "5"
      ],
      "text/markdown": [
       "5"
      ],
      "text/plain": [
       "[1] 5"
      ]
     },
     "metadata": {},
     "output_type": "display_data"
    }
   ],
   "source": [
    "#number of friends with protected and verifief account\n",
    "pro_ver_friends <- google_friends_data[(google_friends_data$protected == TRUE & google_friends_data$verified == TRUE) ,]\n",
    "nrow(pro_ver_friends)"
   ]
  },
  {
   "cell_type": "code",
   "execution_count": 25,
   "metadata": {},
   "outputs": [
    {
     "data": {
      "text/html": [
       "<table>\n",
       "<thead><tr><th scope=col>category</th><th scope=col>count</th><th scope=col>percentage</th></tr></thead>\n",
       "<tbody>\n",
       "\t<tr><td>Verified </td><td>235      </td><td>78.86    </td></tr>\n",
       "\t<tr><td>Protected</td><td>  7      </td><td> 2.35    </td></tr>\n",
       "\t<tr><td>Normal   </td><td> 56      </td><td>18.79    </td></tr>\n",
       "</tbody>\n",
       "</table>\n"
      ],
      "text/latex": [
       "\\begin{tabular}{r|lll}\n",
       " category & count & percentage\\\\\n",
       "\\hline\n",
       "\t Verified  & 235       & 78.86    \\\\\n",
       "\t Protected &   7       &  2.35    \\\\\n",
       "\t Normal    &  56       & 18.79    \\\\\n",
       "\\end{tabular}\n"
      ],
      "text/markdown": [
       "\n",
       "| category | count | percentage |\n",
       "|---|---|---|\n",
       "| Verified  | 235       | 78.86     |\n",
       "| Protected |   7       |  2.35     |\n",
       "| Normal    |  56       | 18.79     |\n",
       "\n"
      ],
      "text/plain": [
       "  category  count percentage\n",
       "1 Verified  235   78.86     \n",
       "2 Protected   7    2.35     \n",
       "3 Normal     56   18.79     "
      ]
     },
     "metadata": {},
     "output_type": "display_data"
    }
   ],
   "source": [
    "#create a data frame with statistic of verified, normal and protected friends account\n",
    "data_friends <- data.frame(\n",
    "  category=c(\"Verified\", \"Protected\", \"Normal\"),\n",
    "  count=c(235, 7, 56)\n",
    ")\n",
    "data_friends$percentage = round((data_friends$count / sum(data_friends$count) * 100),2)\n",
    "data_friends\n"
   ]
  },
  {
   "cell_type": "code",
   "execution_count": 26,
   "metadata": {},
   "outputs": [
    {
     "data": {
      "image/png": "[encoded data removed]",
      "text/plain": [
       "plot without title"
      ]
     },
     "metadata": {},
     "output_type": "display_data"
    }
   ],
   "source": [
    "#create pie chart for the categories of friends user\n",
    "ggplot(data_friends, aes(x=\"\", y=percentage, fill=category)) +\n",
    "  geom_bar(stat=\"identity\", width=1, color=\"white\") +\n",
    "  coord_polar(\"y\", start=0) +\n",
    "  theme_void()"
   ]
  },
  {
   "cell_type": "code",
   "execution_count": 27,
   "metadata": {},
   "outputs": [
    {
     "data": {
      "text/html": [
       "<table>\n",
       "<thead><tr><th scope=col>user_id</th><th scope=col>status_id</th><th scope=col>created_at</th><th scope=col>screen_name</th><th scope=col>text</th><th scope=col>source</th><th scope=col>display_text_width</th><th scope=col>reply_to_status_id</th><th scope=col>reply_to_user_id</th><th scope=col>reply_to_screen_name</th><th scope=col>...</th><th scope=col>statuses_count</th><th scope=col>favourites_count</th><th scope=col>account_created_at</th><th scope=col>verified</th><th scope=col>profile_url</th><th scope=col>profile_expanded_url</th><th scope=col>account_lang</th><th scope=col>profile_banner_url</th><th scope=col>profile_background_url</th><th scope=col>profile_image_url</th></tr></thead>\n",
       "<tbody>\n",
       "\t<tr><td>x20536157                                                                                                                                       </td><td>x1355586357444358144                                                                                                                            </td><td>2021-01-30 18:39:07                                                                                                                             </td><td>Google                                                                                                                                          </td><td>@R_Alex_Ceniviva Hi again, just a quick follow-up. Did you get a chance to try the above suggested steps? Keep us posted.                       </td><td>Conversocial                                                                                                                                    </td><td>NA                                                                                                                                              </td><td>x1355214757461155841                                                                                                                            </td><td>x2629629323                                                                                                                                     </td><td>R_Alex_Ceniviva                                                                                                                                 </td><td>...                                                                                                                                             </td><td>126951                                                                                                                                          </td><td>2979                                                                                                                                            </td><td>2009-02-10 19:14:39                                                                                                                             </td><td>TRUE                                                                                                                                            </td><td>https://t.co/jGyu5e8Pzx                                                                                                                         </td><td>http://google.com/yearinsearch                                                                                                                  </td><td>NA                                                                                                                                              </td><td>https://pbs.twimg.com/profile_banners/20536157/1609170466                                                                                       </td><td>http://abs.twimg.com/images/themes/theme1/bg.png                                                                                                </td><td>http://pbs.twimg.com/profile_images/1343584679664873479/Xos3xQfk_normal.jpg                                                                     </td></tr>\n",
       "\t<tr><td>x398500188                                                                                                                                          </td><td>x1353740221389500416                                                                                                                                </td><td>2021-01-25 16:23:14                                                                                                                                 </td><td>WittedNote                                                                                                                                          </td><td>To help get vaccines to more people, Google is providing $150M to promote vaccine education &amp;amp; equitable access, and… https://t.co/PfIopiuuN8</td><td>Twitter Web App                                                                                                                                     </td><td>NA                                                                                                                                                  </td><td><span style=white-space:pre-wrap>NA                  </span>                                                                                        </td><td><span style=white-space:pre-wrap>NA         </span>                                                                                                 </td><td><span style=white-space:pre-wrap>NA             </span>                                                                                             </td><td>...                                                                                                                                                 </td><td><span style=white-space:pre-wrap>   799</span>                                                                                                      </td><td><span style=white-space:pre-wrap>  25</span>                                                                                                        </td><td>2011-10-26 04:28:50                                                                                                                                 </td><td>TRUE                                                                                                                                                </td><td>http://t.co/mDCYKcMkZR                                                                                                                              </td><td>http://research.google.com/pubs/PrabhakarRaghavan.html                                                                                              </td><td>NA                                                                                                                                                  </td><td>https://pbs.twimg.com/profile_banners/398500188/1602265701                                                                                          </td><td>http://abs.twimg.com/images/themes/theme1/bg.png                                                                                                    </td><td><span style=white-space:pre-wrap>http://pbs.twimg.com/profile_images/1608460682/bologna_normal.PNG          </span>                                 </td></tr>\n",
       "</tbody>\n",
       "</table>\n"
      ],
      "text/latex": [
       "\\begin{tabular}{r|llllllllllllllllllllllllllllllllllllllllllllllllllllllllllllllllllllllllllllllllllllllllll}\n",
       " user\\_id & status\\_id & created\\_at & screen\\_name & text & source & display\\_text\\_width & reply\\_to\\_status\\_id & reply\\_to\\_user\\_id & reply\\_to\\_screen\\_name & ... & statuses\\_count & favourites\\_count & account\\_created\\_at & verified & profile\\_url & profile\\_expanded\\_url & account\\_lang & profile\\_banner\\_url & profile\\_background\\_url & profile\\_image\\_url\\\\\n",
       "\\hline\n",
       "\t x20536157                                                                                                                                            & x1355586357444358144                                                                                                                                 & 2021-01-30 18:39:07                                                                                                                                  & Google                                                                                                                                               & @R\\_Alex\\_Ceniviva Hi again, just a quick follow-up. Did you get a chance to try the above suggested steps? Keep us posted.                        & Conversocial                                                                                                                                         & NA                                                                                                                                                   & x1355214757461155841                                                                                                                                 & x2629629323                                                                                                                                          & R\\_Alex\\_Ceniviva                                                                                                                                  & ...                                                                                                                                                  & 126951                                                                                                                                               & 2979                                                                                                                                                 & 2009-02-10 19:14:39                                                                                                                                  & TRUE                                                                                                                                                 & https://t.co/jGyu5e8Pzx                                                                                                                              & http://google.com/yearinsearch                                                                                                                       & NA                                                                                                                                                   & https://pbs.twimg.com/profile\\_banners/20536157/1609170466                                                                                          & http://abs.twimg.com/images/themes/theme1/bg.png                                                                                                     & http://pbs.twimg.com/profile\\_images/1343584679664873479/Xos3xQfk\\_normal.jpg                                                                     \\\\\n",
       "\t x398500188                                                                                                                                           & x1353740221389500416                                                                                                                                 & 2021-01-25 16:23:14                                                                                                                                  & WittedNote                                                                                                                                           & To help get vaccines to more people, Google is providing \\$150M to promote vaccine education \\&amp; equitable access, and… https://t.co/PfIopiuuN8 & Twitter Web App                                                                                                                                      & NA                                                                                                                                                   & NA                                                                                                                                                   & NA                                                                                                                                                   & NA                                                                                                                                                   & ...                                                                                                                                                  &    799                                                                                                                                               &   25                                                                                                                                                 & 2011-10-26 04:28:50                                                                                                                                  & TRUE                                                                                                                                                 & http://t.co/mDCYKcMkZR                                                                                                                               & http://research.google.com/pubs/PrabhakarRaghavan.html                                                                                               & NA                                                                                                                                                   & https://pbs.twimg.com/profile\\_banners/398500188/1602265701                                                                                         & http://abs.twimg.com/images/themes/theme1/bg.png                                                                                                     & http://pbs.twimg.com/profile\\_images/1608460682/bologna\\_normal.PNG                                                                               \\\\\n",
       "\\end{tabular}\n"
      ],
      "text/markdown": [
       "\n",
       "| user_id | status_id | created_at | screen_name | text | source | display_text_width | reply_to_status_id | reply_to_user_id | reply_to_screen_name | ... | statuses_count | favourites_count | account_created_at | verified | profile_url | profile_expanded_url | account_lang | profile_banner_url | profile_background_url | profile_image_url |\n",
       "|---|---|---|---|---|---|---|---|---|---|---|---|---|---|---|---|---|---|---|---|---|\n",
       "| x20536157                                                                                                                                        | x1355586357444358144                                                                                                                             | 2021-01-30 18:39:07                                                                                                                              | Google                                                                                                                                           | @R_Alex_Ceniviva Hi again, just a quick follow-up. Did you get a chance to try the above suggested steps? Keep us posted.                        | Conversocial                                                                                                                                     | NA                                                                                                                                               | x1355214757461155841                                                                                                                             | x2629629323                                                                                                                                      | R_Alex_Ceniviva                                                                                                                                  | ...                                                                                                                                              | 126951                                                                                                                                           | 2979                                                                                                                                             | 2009-02-10 19:14:39                                                                                                                              | TRUE                                                                                                                                             | https://t.co/jGyu5e8Pzx                                                                                                                          | http://google.com/yearinsearch                                                                                                                   | NA                                                                                                                                               | https://pbs.twimg.com/profile_banners/20536157/1609170466                                                                                        | http://abs.twimg.com/images/themes/theme1/bg.png                                                                                                 | http://pbs.twimg.com/profile_images/1343584679664873479/Xos3xQfk_normal.jpg                                                                      |\n",
       "| x398500188                                                                                                                                       | x1353740221389500416                                                                                                                             | 2021-01-25 16:23:14                                                                                                                              | WittedNote                                                                                                                                       | To help get vaccines to more people, Google is providing $150M to promote vaccine education &amp; equitable access, and… https://t.co/PfIopiuuN8 | Twitter Web App                                                                                                                                  | NA                                                                                                                                               | NA                                                                                                                                               | NA                                                                                                                                               | NA                                                                                                                                               | ...                                                                                                                                              |    799                                                                                                                                           |   25                                                                                                                                             | 2011-10-26 04:28:50                                                                                                                              | TRUE                                                                                                                                             | http://t.co/mDCYKcMkZR                                                                                                                           | http://research.google.com/pubs/PrabhakarRaghavan.html                                                                                           | NA                                                                                                                                               | https://pbs.twimg.com/profile_banners/398500188/1602265701                                                                                       | http://abs.twimg.com/images/themes/theme1/bg.png                                                                                                 | http://pbs.twimg.com/profile_images/1608460682/bologna_normal.PNG                                                                                |\n",
       "\n"
      ],
      "text/plain": [
       "  user_id    status_id            created_at          screen_name\n",
       "1 x20536157  x1355586357444358144 2021-01-30 18:39:07 Google     \n",
       "2 x398500188 x1353740221389500416 2021-01-25 16:23:14 WittedNote \n",
       "  text                                                                                                                                            \n",
       "1 @R_Alex_Ceniviva Hi again, just a quick follow-up. Did you get a chance to try the above suggested steps? Keep us posted.                       \n",
       "2 To help get vaccines to more people, Google is providing $150M to promote vaccine education &amp; equitable access, and… https://t.co/PfIopiuuN8\n",
       "  source          display_text_width reply_to_status_id   reply_to_user_id\n",
       "1 Conversocial    NA                 x1355214757461155841 x2629629323     \n",
       "2 Twitter Web App NA                 NA                   NA              \n",
       "  reply_to_screen_name ... statuses_count favourites_count account_created_at \n",
       "1 R_Alex_Ceniviva      ... 126951         2979             2009-02-10 19:14:39\n",
       "2 NA                   ...    799           25             2011-10-26 04:28:50\n",
       "  verified profile_url            \n",
       "1 TRUE     https://t.co/jGyu5e8Pzx\n",
       "2 TRUE     http://t.co/mDCYKcMkZR \n",
       "  profile_expanded_url                                   account_lang\n",
       "1 http://google.com/yearinsearch                         NA          \n",
       "2 http://research.google.com/pubs/PrabhakarRaghavan.html NA          \n",
       "  profile_banner_url                                        \n",
       "1 https://pbs.twimg.com/profile_banners/20536157/1609170466 \n",
       "2 https://pbs.twimg.com/profile_banners/398500188/1602265701\n",
       "  profile_background_url                          \n",
       "1 http://abs.twimg.com/images/themes/theme1/bg.png\n",
       "2 http://abs.twimg.com/images/themes/theme1/bg.png\n",
       "  profile_image_url                                                          \n",
       "1 http://pbs.twimg.com/profile_images/1343584679664873479/Xos3xQfk_normal.jpg\n",
       "2 http://pbs.twimg.com/profile_images/1608460682/bologna_normal.PNG          "
      ]
     },
     "metadata": {},
     "output_type": "display_data"
    }
   ],
   "source": [
    "head(google_friends_data, n=2)"
   ]
  },
  {
   "cell_type": "code",
   "execution_count": 28,
   "metadata": {},
   "outputs": [
    {
     "data": {
      "image/png": "[encoded data removed]",
      "text/plain": [
       "plot without title"
      ]
     },
     "metadata": {},
     "output_type": "display_data"
    }
   ],
   "source": [
    "#plot favourites count vs status count\n",
    "ggplot(google_friends_data, aes(x=favourites_count, y=statuses_count)) + \n",
    "    geom_point(aes(size=followers_count, color=protected))+\n",
    "    theme_minimal()+\n",
    "    labs(title=\"Favourites vs Statuses\", x=\"Favourites\", y=\"Statuses\")"
   ]
  },
  {
   "cell_type": "code",
   "execution_count": 29,
   "metadata": {},
   "outputs": [
    {
     "data": {
      "image/png": "[encoded data removed]",
      "text/plain": [
       "plot without title"
      ]
     },
     "metadata": {},
     "output_type": "display_data"
    }
   ],
   "source": [
    "#plot followers count vs friends count\n",
    "ggplot(google_friends_data, aes(x=friends_count, y=followers_count)) + \n",
    "    geom_point(size=2, color='darkblue')+\n",
    "    theme_minimal()+\n",
    "    labs(title=\"Followers vs Friends\", x=\"Friends\", y=\"Followers\")"
   ]
  },
  {
   "cell_type": "code",
   "execution_count": 30,
   "metadata": {},
   "outputs": [
    {
     "name": "stderr",
     "output_type": "stream",
     "text": [
      "Selecting by n\n",
      "Warning message:\n",
      "\"Ignoring unknown parameters: stat\""
     ]
    },
    {
     "data": {
      "image/png": "[encoded data removed]",
      "text/plain": [
       "plot without title"
      ]
     },
     "metadata": {},
     "output_type": "display_data"
    }
   ],
   "source": [
    "#Plot top 20 language of google friends\n",
    "friends_lang <- google_friends_data%>%\n",
    "                  count(lang, sort = T)%>%\n",
    "                  top_n(20)\n",
    "ggplot(friends_lang , aes(x=reorder(lang,n), y=n)) + \n",
    "  geom_col(fill='red',  position = \"dodge\", stat=\"identity\") + \n",
    "  theme_minimal() + \n",
    "  theme(text = element_text(size=8), axis.text.x = element_text(hjust=1)) + \n",
    "  labs(title=\"Top 20 Language Distribution\", x=\"Language\", y=\"Nbr of Friends\")"
   ]
  },
  {
   "cell_type": "code",
   "execution_count": 31,
   "metadata": {},
   "outputs": [
    {
     "name": "stderr",
     "output_type": "stream",
     "text": [
      "Warning message:\n",
      "\"Expected 2 pieces. Missing pieces filled with `NA` in 434779 rows [1, 2, 3, 4, 5, 6, 7, 8, 9, 10, 11, 12, 13, 14, 15, 16, 17, 18, 19, 20, ...].\"Warning message:\n",
      "\"Problem with `mutate()` input `long`.\n",
      "i NAs introduced by coercion\n",
      "i Input `long` is `.Primitive(\"as.double\")(long)`.\"Warning message in mask$eval_all_mutate(dots[[i]]):\n",
      "\"NAs introduced by coercion\""
     ]
    }
   ],
   "source": [
    "# clean the columns coords_coords and split into to columns long and lat\n",
    "followers_geodata <- google_followers %>%\n",
    "                    mutate(coords_coords = gsub(\"\\\\)|c\\\\(\", \"\", coords_coords))%>%\n",
    "                    separate(coords_coords, c(\"long\", \"lat\"), sep = \", \")%>%\n",
    "                    mutate_at(c(\"lat\", \"long\"), as.numeric)\n"
   ]
  },
  {
   "cell_type": "code",
   "execution_count": 32,
   "metadata": {},
   "outputs": [],
   "source": [
    "# Create a world map\n",
    "world_map <- ggplot() +\n",
    "  borders(\"world\", colour = \"gray25\", fill = \"gray\")+\n",
    "  theme_minimal()"
   ]
  },
  {
   "cell_type": "code",
   "execution_count": 33,
   "metadata": {},
   "outputs": [
    {
     "name": "stderr",
     "output_type": "stream",
     "text": [
      "Warning message:\n",
      "\"Removed 434779 rows containing missing values (geom_point).\""
     ]
    },
    {
     "data": {
      "image/png": "[encoded data removed]",
      "text/plain": [
       "plot without title"
      ]
     },
     "metadata": {},
     "output_type": "display_data"
    }
   ],
   "source": [
    "#plot google followers around world\n",
    "\n",
    "world_map +\n",
    "  geom_point(data = followers_geodata, aes(x = long, y = lat),\n",
    "             colour = 'red', alpha = .5) +\n",
    "  labs(title = \"Google followers locations\")"
   ]
  }
 ],
 "metadata": {
  "kernelspec": {
   "display_name": "R",
   "language": "R",
   "name": "ir"
  }
 },
 "nbformat": 4,
 "nbformat_minor": 4
}
